{
  "nbformat": 4,
  "nbformat_minor": 0,
  "metadata": {
    "colab": {
      "name": "INMET_DatasetR5.ipynb",
      "provenance": [],
      "collapsed_sections": [],
      "toc_visible": true,
      "include_colab_link": true
    },
    "kernelspec": {
      "name": "python3",
      "display_name": "Python 3"
    }
  },
  "cells": [
    {
      "cell_type": "markdown",
      "metadata": {
        "id": "view-in-github",
        "colab_type": "text"
      },
      "source": [
        "<a href=\"https://colab.research.google.com/github/RayBasilio123/R5/blob/master/INMET_DatasetR5.ipynb\" target=\"_parent\"><img src=\"https://colab.research.google.com/assets/colab-badge.svg\" alt=\"Open In Colab\"/></a>"
      ]
    },
    {
      "cell_type": "markdown",
      "metadata": {
        "id": "ZDICttJNyKLr",
        "colab_type": "text"
      },
      "source": [
        "#Data treatment"
      ]
    },
    {
      "cell_type": "code",
      "metadata": {
        "id": "fpzGU_lCpO9B",
        "colab_type": "code",
        "colab": {}
      },
      "source": [
        "#imports\n",
        "import warnings\n",
        "import itertools\n",
        "import pandas as pd\n",
        "import numpy as np\n",
        "import statsmodels.api as sm\n",
        "from datetime import timedelta\n",
        "import itertools\n",
        "from statsmodels.tsa.arima_model import ARIMA\n",
        "from tqdm import tqdm\n",
        "import matplotlib.pyplot as plt\n",
        "from matplotlib.pyplot import figure\n"
      ],
      "execution_count": 208,
      "outputs": []
    },
    {
      "cell_type": "code",
      "metadata": {
        "id": "3D__MBqcpfDD",
        "colab_type": "code",
        "colab": {}
      },
      "source": [
        "#setting parameters for graphics\n",
        "from matplotlib.pylab import rcParams\n",
        "rcParams['figure.figsize'] = 16,9"
      ],
      "execution_count": 209,
      "outputs": []
    },
    {
      "cell_type": "code",
      "metadata": {
        "id": "0AIc3KAwpjvn",
        "colab_type": "code",
        "colab": {}
      },
      "source": [
        "#reading file\n",
        "url = 'https://raw.githubusercontent.com/RayBasilio123/R5/master/a521%202018-2019.txt'\n",
        "read_table = pd.read_table(url, delim_whitespace=True, usecols=[\"ID\",'ANO','MES','DIA','HORA',\"RAD\",\"VENTOVEL\"])\n",
        "df = pd.DataFrame(read_table)"
      ],
      "execution_count": 210,
      "outputs": []
    },
    {
      "cell_type": "code",
      "metadata": {
        "id": "Bol7sk6_qTMz",
        "colab_type": "code",
        "colab": {}
      },
      "source": [
        "#replacing negative radiation values\n",
        "df = df.assign(RAD = df.RAD.where(df.RAD.ge(0)))"
      ],
      "execution_count": 211,
      "outputs": []
    },
    {
      "cell_type": "code",
      "metadata": {
        "id": "dOxqMt-wqWzj",
        "colab_type": "code",
        "colab": {}
      },
      "source": [
        "#grouping dates \n",
        "source_col_loc = df.columns.get_loc('ID') \n",
        "\n",
        "df['datetime'] = df.iloc[:,source_col_loc+1:source_col_loc+5].apply(\n",
        "    lambda x: \"-\".join(x.astype(str)), axis=1)"
      ],
      "execution_count": 212,
      "outputs": []
    },
    {
      "cell_type": "code",
      "metadata": {
        "id": "8Mm6loWiqbat",
        "colab_type": "code",
        "colab": {
          "base_uri": "https://localhost:8080/",
          "height": 197
        },
        "outputId": "a9b04a8b-dba9-44c5-ca9d-53dbfb2e0e83"
      },
      "source": [
        "#mounting the datetime \n",
        "dataFormatada = pd.to_datetime(df['datetime'], format='%Y-%m-%d-%H')\n",
        "\n",
        "d = {'date':dataFormatada, 'ventovel': df['VENTOVEL'], 'radiacao': df['RAD'] }\n",
        "f= {'date': dataFormatada}\n",
        "\n",
        "dataFrame = pd.DataFrame(data=d).fillna(0) #datetime + ventovel + radiacao\n",
        "\n",
        "frameList = list(dataFrame.date) #list of all dates in 'dataFrame'\n",
        "dataFrame.head()"
      ],
      "execution_count": 213,
      "outputs": [
        {
          "output_type": "execute_result",
          "data": {
            "text/html": [
              "<div>\n",
              "<style scoped>\n",
              "    .dataframe tbody tr th:only-of-type {\n",
              "        vertical-align: middle;\n",
              "    }\n",
              "\n",
              "    .dataframe tbody tr th {\n",
              "        vertical-align: top;\n",
              "    }\n",
              "\n",
              "    .dataframe thead th {\n",
              "        text-align: right;\n",
              "    }\n",
              "</style>\n",
              "<table border=\"1\" class=\"dataframe\">\n",
              "  <thead>\n",
              "    <tr style=\"text-align: right;\">\n",
              "      <th></th>\n",
              "      <th>date</th>\n",
              "      <th>ventovel</th>\n",
              "      <th>radiacao</th>\n",
              "    </tr>\n",
              "  </thead>\n",
              "  <tbody>\n",
              "    <tr>\n",
              "      <th>0</th>\n",
              "      <td>2018-01-01 00:00:00</td>\n",
              "      <td>0.7</td>\n",
              "      <td>0.0</td>\n",
              "    </tr>\n",
              "    <tr>\n",
              "      <th>1</th>\n",
              "      <td>2018-01-01 01:00:00</td>\n",
              "      <td>0.8</td>\n",
              "      <td>0.0</td>\n",
              "    </tr>\n",
              "    <tr>\n",
              "      <th>2</th>\n",
              "      <td>2018-01-01 02:00:00</td>\n",
              "      <td>0.6</td>\n",
              "      <td>0.0</td>\n",
              "    </tr>\n",
              "    <tr>\n",
              "      <th>3</th>\n",
              "      <td>2018-01-01 03:00:00</td>\n",
              "      <td>0.3</td>\n",
              "      <td>0.0</td>\n",
              "    </tr>\n",
              "    <tr>\n",
              "      <th>4</th>\n",
              "      <td>2018-01-01 04:00:00</td>\n",
              "      <td>0.3</td>\n",
              "      <td>0.0</td>\n",
              "    </tr>\n",
              "  </tbody>\n",
              "</table>\n",
              "</div>"
            ],
            "text/plain": [
              "                 date  ventovel  radiacao\n",
              "0 2018-01-01 00:00:00       0.7       0.0\n",
              "1 2018-01-01 01:00:00       0.8       0.0\n",
              "2 2018-01-01 02:00:00       0.6       0.0\n",
              "3 2018-01-01 03:00:00       0.3       0.0\n",
              "4 2018-01-01 04:00:00       0.3       0.0"
            ]
          },
          "metadata": {
            "tags": []
          },
          "execution_count": 213
        }
      ]
    },
    {
      "cell_type": "code",
      "metadata": {
        "id": "zCvPc7zWqj7L",
        "colab_type": "code",
        "colab": {}
      },
      "source": [
        "#creating all dates \n",
        "#date_list = [pd.to_datetime('2018-01-01 01:00:00') + timedelta(hours=x) for x in range(date.shape[date])] (RASCUNHO)\n",
        "\n",
        "serieStart = '2018-01-01 00:00:00' \n",
        "serieEnd = '2019-12-31 23:00:00'\n",
        "\n",
        "date = pd.date_range(start=serieStart, end=serieEnd, freq='1H')\n",
        "\n",
        "dt = {'date': date}\n",
        "frameDate = date #list of dates all dates in 'date'\n"
      ],
      "execution_count": 214,
      "outputs": []
    },
    {
      "cell_type": "code",
      "metadata": {
        "id": "1yao2Pv3qryI",
        "colab_type": "code",
        "colab": {}
      },
      "source": [
        "#including the missing dates + nan values\n",
        "\n",
        "new_dates = []\n",
        "new_values_ventovel = []\n",
        "new_values_rad = []\n",
        "\n",
        "for i in frameDate:\n",
        "  if i in frameList:\n",
        "    new_dates.append(i)\n",
        "    new_values_ventovel.append(float(dataFrame[dataFrame['date']==i]['ventovel']))\n",
        "    new_values_rad.append(float(dataFrame[dataFrame['date']==i]['radiacao']))\n",
        "  else:\n",
        "    new_dates.append(i)\n",
        "    new_values_ventovel.append(np.nan)\n",
        "    new_values_rad.append(np.nan)"
      ],
      "execution_count": 215,
      "outputs": []
    },
    {
      "cell_type": "code",
      "metadata": {
        "id": "3WAqDo1eq5RW",
        "colab_type": "code",
        "colab": {
          "base_uri": "https://localhost:8080/",
          "height": 123
        },
        "outputId": "52f26ec1-33cd-4611-dbfb-21aec85151e2"
      },
      "source": [
        "#transforming data in series end interpolate NaN values\n",
        "index = pd.DatetimeIndex(new_dates)\n",
        "series_ventovel = pd.Series(new_values_ventovel, index=index).interpolate()\n",
        "series_radiacao = pd.Series(new_values_rad, index=index).interpolate()\n",
        "series_ventovel.head()"
      ],
      "execution_count": 216,
      "outputs": [
        {
          "output_type": "execute_result",
          "data": {
            "text/plain": [
              "2018-01-01 00:00:00    0.7\n",
              "2018-01-01 01:00:00    0.8\n",
              "2018-01-01 02:00:00    0.6\n",
              "2018-01-01 03:00:00    0.3\n",
              "2018-01-01 04:00:00    0.3\n",
              "dtype: float64"
            ]
          },
          "metadata": {
            "tags": []
          },
          "execution_count": 216
        }
      ]
    },
    {
      "cell_type": "code",
      "metadata": {
        "id": "llLL0uWxq_TL",
        "colab_type": "code",
        "colab": {}
      },
      "source": [
        "#exporting to csv\n",
        "series_ventovel.to_csv('/content/sample_data/series_ventovel')\n",
        "series_radiacao.to_csv('/content/sample_data/series_radiacao')"
      ],
      "execution_count": 217,
      "outputs": []
    },
    {
      "cell_type": "markdown",
      "metadata": {
        "id": "Q_031ywtyFcE",
        "colab_type": "text"
      },
      "source": [
        "#ANALYZING DATA"
      ]
    },
    {
      "cell_type": "code",
      "metadata": {
        "id": "c8fxzMhZyZhz",
        "colab_type": "code",
        "colab": {
          "base_uri": "https://localhost:8080/",
          "height": 197
        },
        "outputId": "68e95519-2a44-44fa-e582-3cd30f96820d"
      },
      "source": [
        "from statsmodels.tsa.stattools import acf, pacf\n",
        "import numpy as np\n",
        "import pandas as pd\n",
        "\n",
        "serie_rad = pd.read_csv('/content/sample_data/series_radiacao', header=0, index_col=0)\n",
        "serie_ven = pd.read_csv('/content/sample_data/series_ventovel', header=0, index_col=0)\n",
        "serie_ven.head()"
      ],
      "execution_count": 218,
      "outputs": [
        {
          "output_type": "execute_result",
          "data": {
            "text/html": [
              "<div>\n",
              "<style scoped>\n",
              "    .dataframe tbody tr th:only-of-type {\n",
              "        vertical-align: middle;\n",
              "    }\n",
              "\n",
              "    .dataframe tbody tr th {\n",
              "        vertical-align: top;\n",
              "    }\n",
              "\n",
              "    .dataframe thead th {\n",
              "        text-align: right;\n",
              "    }\n",
              "</style>\n",
              "<table border=\"1\" class=\"dataframe\">\n",
              "  <thead>\n",
              "    <tr style=\"text-align: right;\">\n",
              "      <th></th>\n",
              "      <th>0</th>\n",
              "    </tr>\n",
              "  </thead>\n",
              "  <tbody>\n",
              "    <tr>\n",
              "      <th>2018-01-01 00:00:00</th>\n",
              "      <td>0.7</td>\n",
              "    </tr>\n",
              "    <tr>\n",
              "      <th>2018-01-01 01:00:00</th>\n",
              "      <td>0.8</td>\n",
              "    </tr>\n",
              "    <tr>\n",
              "      <th>2018-01-01 02:00:00</th>\n",
              "      <td>0.6</td>\n",
              "    </tr>\n",
              "    <tr>\n",
              "      <th>2018-01-01 03:00:00</th>\n",
              "      <td>0.3</td>\n",
              "    </tr>\n",
              "    <tr>\n",
              "      <th>2018-01-01 04:00:00</th>\n",
              "      <td>0.3</td>\n",
              "    </tr>\n",
              "  </tbody>\n",
              "</table>\n",
              "</div>"
            ],
            "text/plain": [
              "                       0\n",
              "2018-01-01 00:00:00  0.7\n",
              "2018-01-01 01:00:00  0.8\n",
              "2018-01-01 02:00:00  0.6\n",
              "2018-01-01 03:00:00  0.3\n",
              "2018-01-01 04:00:00  0.3"
            ]
          },
          "metadata": {
            "tags": []
          },
          "execution_count": 218
        }
      ]
    },
    {
      "cell_type": "code",
      "metadata": {
        "id": "BDzYi4gi-o7Q",
        "colab_type": "code",
        "colab": {
          "base_uri": "https://localhost:8080/",
          "height": 72
        },
        "outputId": "ffc697dc-a03f-403c-a45b-7c6e446e4b2c"
      },
      "source": [
        "p, c = pacf(serie_ven,nlags=168, alpha=0.05)\n",
        "p2, c2 = acf(serie_ven,nlags=168, alpha=0.05)\n",
        "pd, cd = pacf((serie_ven.values[:-1] - serie_ven.values[1:]),nlags=168, alpha=0.05)\n",
        "p2d, c2d = acf((serie_ven.values[:-1] - serie_ven.values[1:]),nlags=168, alpha=0.05)"
      ],
      "execution_count": 234,
      "outputs": [
        {
          "output_type": "stream",
          "text": [
            "/usr/local/lib/python3.6/dist-packages/statsmodels/tsa/stattools.py:541: FutureWarning: fft=True will become the default in a future version of statsmodels. To suppress this warning, explicitly set fft=False.\n",
            "  warnings.warn(msg, FutureWarning)\n"
          ],
          "name": "stderr"
        }
      ]
    },
    {
      "cell_type": "code",
      "metadata": {
        "id": "3p1XE6m5mKNg",
        "colab_type": "code",
        "colab": {
          "base_uri": "https://localhost:8080/",
          "height": 566
        },
        "outputId": "80ec5bf2-0ce4-4819-8ab5-79b962d34799"
      },
      "source": [
        "#fazer :\n",
        "#ACF -> Sem Diff e com Diff para achar o Q \n",
        "#PACF-> Sem Diff e com Diff para achar o P\n",
        "#d = 0 , q0 -> ACF e p0-> PACF\n",
        "# d = 1 (serie_ven.values[:-1] - serie_ven.values[1:]), q1 -> ACF e p1-> PACF\n",
        "# ARIMA(p0,d0,q0)\n",
        "# ARIMA(p1,d1,q1)\n",
        "\n",
        "plt.plot(p2,'o')\n",
        "plt.plot(c2[:,1]-p2)\n",
        "plt.plot(c2[:,0]-p2)\n",
        "plt.title('Serie Temporal de Velocidade do Vento ACF ')\n",
        "plt.xlabel('lags em Horas')\n",
        "plt.ylabel('Correlação')\n",
        "plt.show()"
      ],
      "execution_count": 235,
      "outputs": [
        {
          "output_type": "display_data",
          "data": {
            "image/png": "[encoded data removed]",
            "text/plain": [
              "<Figure size 1152x648 with 1 Axes>"
            ]
          },
          "metadata": {
            "tags": [],
            "needs_background": "light"
          }
        }
      ]
    },
    {
      "cell_type": "code",
      "metadata": {
        "id": "nIWmfR9H1TAR",
        "colab_type": "code",
        "colab": {
          "base_uri": "https://localhost:8080/",
          "height": 566
        },
        "outputId": "02b6181d-d6e2-4263-e8c5-7204b1ea17f4"
      },
      "source": [
        "import matplotlib.pyplot as plt\n",
        "plt.plot(p,'o')\n",
        "plt.plot(c[:,1]-p)\n",
        "plt.plot(c[:,0]-p)\n",
        "plt.title('Serie Temporal de Velocidade do Vento PACF')\n",
        "plt.xlabel('lags em Horas')\n",
        "plt.ylabel('Correlação')\n",
        "plt.show()"
      ],
      "execution_count": 236,
      "outputs": [
        {
          "output_type": "display_data",
          "data": {
            "image/png": "[encoded data removed]",
            "text/plain": [
              "<Figure size 1152x648 with 1 Axes>"
            ]
          },
          "metadata": {
            "tags": [],
            "needs_background": "light"
          }
        }
      ]
    },
    {
      "cell_type": "code",
      "metadata": {
        "id": "m4mnP7MeCjm6",
        "colab_type": "code",
        "colab": {
          "base_uri": "https://localhost:8080/",
          "height": 34
        },
        "outputId": "36dbc4c3-8b55-4eb2-e581-122f4959426f"
      },
      "source": [
        "\n",
        "cont_Ordem = 0\n",
        "for _p,_c0,_c1 in zip(p,c[:,0],c[:,1]):\n",
        "  if _p > (_c1-_p) or _p < (_c0-_p):\n",
        "    cont_Ordem+=1\n",
        "  else:\n",
        "    break\n",
        "print(cont_Ordem)  "
      ],
      "execution_count": 237,
      "outputs": [
        {
          "output_type": "stream",
          "text": [
            "5\n"
          ],
          "name": "stdout"
        }
      ]
    },
    {
      "cell_type": "code",
      "metadata": {
        "colab_type": "code",
        "id": "nkAkDgGAV0-5",
        "colab": {}
      },
      "source": [
        "cont = 0\n",
        "lista_Relevancia = []\n",
        "for _p,_c0,_c1 in zip(p,c[:,0],c[:,1]):\n",
        "  if _p > (_c1-_p) or _p < (_c0-_p):\n",
        "    lista_Relevancia.append(1)\n",
        "    \n",
        "  else:\n",
        "    lista_Relevancia.append(0)\n",
        " \n"
      ],
      "execution_count": 223,
      "outputs": []
    },
    {
      "cell_type": "code",
      "metadata": {
        "id": "8EEjU_9zVzbA",
        "colab_type": "code",
        "colab": {}
      },
      "source": [
        "#lista_Relevancia"
      ],
      "execution_count": 224,
      "outputs": []
    },
    {
      "cell_type": "code",
      "metadata": {
        "id": "eHMfty_nWEMu",
        "colab_type": "code",
        "colab": {
          "base_uri": "https://localhost:8080/",
          "height": 72
        },
        "outputId": "fb041c37-86e5-4159-b645-eca9f9e7c843"
      },
      "source": [
        "p1, c1 = pacf(serie_ven,nlags=168, alpha=0.05)\n",
        "p3, c3 = acf(serie_ven,nlags=168, alpha=0.05)\n",
        "p1d, c1d = pacf((serie_ven.values[:-1] - serie_ven.values[1:]),nlags=168, alpha=0.05)\n",
        "p3d, c3d = acf((serie_ven.values[:-1] - serie_ven.values[1:]),nlags=168, alpha=0.05)"
      ],
      "execution_count": 225,
      "outputs": [
        {
          "output_type": "stream",
          "text": [
            "/usr/local/lib/python3.6/dist-packages/statsmodels/tsa/stattools.py:541: FutureWarning: fft=True will become the default in a future version of statsmodels. To suppress this warning, explicitly set fft=False.\n",
            "  warnings.warn(msg, FutureWarning)\n"
          ],
          "name": "stderr"
        }
      ]
    },
    {
      "cell_type": "code",
      "metadata": {
        "id": "OP2prmMSy0T5",
        "colab_type": "code",
        "colab": {
          "base_uri": "https://localhost:8080/",
          "height": 566
        },
        "outputId": "b2236135-27e7-4fc7-ecf6-edf50cfe0b69"
      },
      "source": [
        "plt.plot(p3,'o')\n",
        "plt.plot(c3[:,1]-p3)\n",
        "plt.plot(c3[:,0]-p3)\n",
        "plt.title('Serie Temporal do Indice de Radição ACF')\n",
        "plt.xlabel('lags em Horas')\n",
        "plt.ylabel('Correlação')\n",
        "plt.show()"
      ],
      "execution_count": 226,
      "outputs": [
        {
          "output_type": "display_data",
          "data": {
            "image/png": "[encoded data removed]",
            "text/plain": [
              "<Figure size 1152x648 with 1 Axes>"
            ]
          },
          "metadata": {
            "tags": [],
            "needs_background": "light"
          }
        }
      ]
    },
    {
      "cell_type": "code",
      "metadata": {
        "id": "xXr8RcgVWNUW",
        "colab_type": "code",
        "colab": {
          "base_uri": "https://localhost:8080/",
          "height": 566
        },
        "outputId": "51c9f396-af11-4ccb-9835-ce6d48effb70"
      },
      "source": [
        "\n",
        "plt.plot(p1,'o')\n",
        "plt.plot(c1[:,1]-p1)\n",
        "plt.plot(c1[:,0]-p1)\n",
        "plt.title('Serie Temporal do Indice de Radição PACF ')\n",
        "plt.xlabel('lags em Horas')\n",
        "plt.ylabel('Correlação')\n",
        "plt.show()"
      ],
      "execution_count": 227,
      "outputs": [
        {
          "output_type": "display_data",
          "data": {
            "image/png": "[encoded data removed]",
            "text/plain": [
              "<Figure size 1152x648 with 1 Axes>"
            ]
          },
          "metadata": {
            "tags": [],
            "needs_background": "light"
          }
        }
      ]
    },
    {
      "cell_type": "code",
      "metadata": {
        "id": "lbObiS5-Waed",
        "colab_type": "code",
        "colab": {}
      },
      "source": [
        "#lcap ou ssAutoArima = low cost arima parameters or Super simple autoArima\n",
        "\n",
        "#serie = serie temporal\n",
        "#tipo_ACF_ou_PACF = acf ou pacf\n",
        "#diferenciar = numero inteiro 0 ou 1\n",
        "#Se você passou acf, o valor retornado é a ordem do \"q\"\n",
        "#Se você passou pacf, o valor retornado é a ordem do \"p\"\n",
        "\n",
        "def lcap (serie,difenciar,tipo_ACF_ou_PACF):\n",
        "  from statsmodels.tsa.stattools import acf, pacf\n",
        "  cont_Ordem = 0\n",
        "  if difenciar == 0:\n",
        "       p1, c1 = tipo_ACF_ou_PACF(serie,nlags=168, alpha=0.05)\n",
        "       for _p,_c0,_c1 in zip(p1,c1[:,0],c1[:,1]):\n",
        "          if _p > (_c1-_p) or _p < (_c0-_p):\n",
        "            cont_Ordem+=1\n",
        "          else:\n",
        "            break\n",
        "  elif difenciar == 1:\n",
        "       p1, c1 = tipo_ACF_ou_PACF((serie.values[:-1] - serie.values[1:]),nlags=168, alpha=0.05)\n",
        "       for _p,_c0,_c1 in zip(p1,c1[:,0],c1[:,1]):\n",
        "          if _p > (_c1-_p) or _p < (_c0-_p):\n",
        "            cont_Ordem+=1\n",
        "          else:\n",
        "            break\n",
        "  \n",
        "  else:\n",
        "    print (\"Difrenciacao Maxima permitida == 1 \")\n",
        "  \n",
        "\n",
        "  return cont_Ordem  "
      ],
      "execution_count": 228,
      "outputs": []
    },
    {
      "cell_type": "code",
      "metadata": {
        "id": "AC6Vm43zYYOX",
        "colab_type": "code",
        "colab": {}
      },
      "source": [
        "\n",
        "def Arimalcap(serie,d):\n",
        "  q=lcap(serie,d,acf)\n",
        "  p=lcap(serie,d,pacf)\n",
        "  return print(\"Arimalcap\",(p,d,q))"
      ],
      "execution_count": 229,
      "outputs": []
    },
    {
      "cell_type": "code",
      "metadata": {
        "id": "IC47se-METua",
        "colab_type": "code",
        "colab": {
          "base_uri": "https://localhost:8080/",
          "height": 90
        },
        "outputId": "095493da-611c-40c5-a20f-2b971da94d64"
      },
      "source": [
        "Arimalcap(serie_ven,0)"
      ],
      "execution_count": 230,
      "outputs": [
        {
          "output_type": "stream",
          "text": [
            "/usr/local/lib/python3.6/dist-packages/statsmodels/tsa/stattools.py:541: FutureWarning: fft=True will become the default in a future version of statsmodels. To suppress this warning, explicitly set fft=False.\n",
            "  warnings.warn(msg, FutureWarning)\n"
          ],
          "name": "stderr"
        },
        {
          "output_type": "stream",
          "text": [
            "Arimalcap (5, 0, 57)\n"
          ],
          "name": "stdout"
        }
      ]
    },
    {
      "cell_type": "code",
      "metadata": {
        "id": "DOFCU03XGDb4",
        "colab_type": "code",
        "colab": {
          "base_uri": "https://localhost:8080/",
          "height": 90
        },
        "outputId": "121b4702-9eba-4214-80d8-80c4859f5826"
      },
      "source": [
        "Arimalcap(serie_rad,0)"
      ],
      "execution_count": 231,
      "outputs": [
        {
          "output_type": "stream",
          "text": [
            "/usr/local/lib/python3.6/dist-packages/statsmodels/tsa/stattools.py:541: FutureWarning: fft=True will become the default in a future version of statsmodels. To suppress this warning, explicitly set fft=False.\n",
            "  warnings.warn(msg, FutureWarning)\n"
          ],
          "name": "stderr"
        },
        {
          "output_type": "stream",
          "text": [
            "Arimalcap (30, 0, 29)\n"
          ],
          "name": "stdout"
        }
      ]
    },
    {
      "cell_type": "code",
      "metadata": {
        "id": "OhLuTau7GNnp",
        "colab_type": "code",
        "colab": {
          "base_uri": "https://localhost:8080/",
          "height": 90
        },
        "outputId": "a7e0c4c2-51e3-444d-bc10-ef0fae8237d4"
      },
      "source": [
        "Arimalcap(serie_ven,1)"
      ],
      "execution_count": 232,
      "outputs": [
        {
          "output_type": "stream",
          "text": [
            "/usr/local/lib/python3.6/dist-packages/statsmodels/tsa/stattools.py:541: FutureWarning: fft=True will become the default in a future version of statsmodels. To suppress this warning, explicitly set fft=False.\n",
            "  warnings.warn(msg, FutureWarning)\n"
          ],
          "name": "stderr"
        },
        {
          "output_type": "stream",
          "text": [
            "Arimalcap (24, 1, 4)\n"
          ],
          "name": "stdout"
        }
      ]
    },
    {
      "cell_type": "code",
      "metadata": {
        "id": "OD9_mPVhGN_o",
        "colab_type": "code",
        "colab": {
          "base_uri": "https://localhost:8080/",
          "height": 90
        },
        "outputId": "fc5518ac-3e8b-4867-d6f3-2043fae2b363"
      },
      "source": [
        "Arimalcap(serie_rad,1)"
      ],
      "execution_count": 233,
      "outputs": [
        {
          "output_type": "stream",
          "text": [
            "/usr/local/lib/python3.6/dist-packages/statsmodels/tsa/stattools.py:541: FutureWarning: fft=True will become the default in a future version of statsmodels. To suppress this warning, explicitly set fft=False.\n",
            "  warnings.warn(msg, FutureWarning)\n"
          ],
          "name": "stderr"
        },
        {
          "output_type": "stream",
          "text": [
            "Arimalcap (10, 1, 20)\n"
          ],
          "name": "stdout"
        }
      ]
    }
  ]
}