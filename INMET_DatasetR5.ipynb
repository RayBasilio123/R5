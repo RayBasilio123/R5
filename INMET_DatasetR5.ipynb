{
  "nbformat": 4,
  "nbformat_minor": 0,
  "metadata": {
    "colab": {
      "name": "INMET_DatasetR5.ipynb",
      "provenance": [],
      "collapsed_sections": [],
      "toc_visible": true,
      "include_colab_link": true
    },
    "kernelspec": {
      "name": "python3",
      "display_name": "Python 3"
    }
  },
  "cells": [
    {
      "cell_type": "markdown",
      "metadata": {
        "id": "view-in-github",
        "colab_type": "text"
      },
      "source": [
        "<a href=\"https://colab.research.google.com/github/RayBasilio123/R5/blob/master/INMET_DatasetR5.ipynb\" target=\"_parent\"><img src=\"https://colab.research.google.com/assets/colab-badge.svg\" alt=\"Open In Colab\"/></a>"
      ]
    },
    {
      "cell_type": "markdown",
      "metadata": {
        "id": "ZDICttJNyKLr",
        "colab_type": "text"
      },
      "source": [
        "#Data treatment"
      ]
    },
    {
      "cell_type": "code",
      "metadata": {
        "id": "fpzGU_lCpO9B",
        "colab_type": "code",
        "colab": {
          "base_uri": "https://localhost:8080/",
          "height": 71
        },
        "outputId": "5c8e6d1c-9305-4f92-c9f8-5abb5eeb0426"
      },
      "source": [
        "#imports\n",
        "import warnings\n",
        "import itertools\n",
        "import pandas as pd\n",
        "import numpy as np\n",
        "import statsmodels.api as sm\n",
        "from datetime import timedelta\n",
        "from datetime import datetime\n",
        "import itertools\n",
        "from statsmodels.tsa.arima_model import ARIMA\n",
        "from tqdm import tqdm\n",
        "import matplotlib.pyplot as plt\n",
        "from matplotlib.pyplot import figure\n",
        "import csv\n",
        "import math"
      ],
      "execution_count": null,
      "outputs": [
        {
          "output_type": "stream",
          "text": [
            "/usr/local/lib/python3.6/dist-packages/statsmodels/tools/_testing.py:19: FutureWarning: pandas.util.testing is deprecated. Use the functions in the public API at pandas.testing instead.\n",
            "  import pandas.util.testing as tm\n"
          ],
          "name": "stderr"
        }
      ]
    },
    {
      "cell_type": "code",
      "metadata": {
        "id": "GRSbMWgQxy-y",
        "colab_type": "code",
        "colab": {}
      },
      "source": [
        "# constantes\n",
        "latitude = -22.89 #--em graus\n",
        "longitude = -43.18  #--em graus\n",
        "altitude = 11.10  #--em metros"
      ],
      "execution_count": null,
      "outputs": []
    },
    {
      "cell_type": "code",
      "metadata": {
        "id": "3D__MBqcpfDD",
        "colab_type": "code",
        "colab": {}
      },
      "source": [
        "# configura o tamanho do grafico\n",
        "from matplotlib.pylab import rcParams\n",
        "rcParams['figure.figsize'] = 10,6"
      ],
      "execution_count": null,
      "outputs": []
    },
    {
      "cell_type": "code",
      "metadata": {
        "id": "0AIc3KAwpjvn",
        "colab_type": "code",
        "colab": {}
      },
      "source": [
        "#Recebe o arquivo csv\n",
        "url= 'https://raw.githubusercontent.com/RayBasilio123/R5/master/inmet_pampulha_2018_2019.CSV'\n",
        "df = pd.read_csv(url, sep=\";\", encoding = \"ISO-8859-1\").fillna(0)"
      ],
      "execution_count": null,
      "outputs": []
    },
    {
      "cell_type": "code",
      "metadata": {
        "id": "QpQyDICQ7TYG",
        "colab_type": "code",
        "colab": {}
      },
      "source": [
        ""
      ],
      "execution_count": null,
      "outputs": []
    },
    {
      "cell_type": "code",
      "metadata": {
        "id": "RJ2QjzL6z5-0",
        "colab_type": "code",
        "colab": {}
      },
      "source": [
        "#Refaz o formato da hora\n",
        "df['Hora'] = df['Hora'].str.replace(r'\\D', '')\n",
        "df['Hora'] = [x[:-2] for x in df['Hora']]"
      ],
      "execution_count": null,
      "outputs": []
    },
    {
      "cell_type": "code",
      "metadata": {
        "id": "176s8l4sr72U",
        "colab_type": "code",
        "colab": {}
      },
      "source": [
        "#Acrescenta um 0 a esquerda em VENTO_VEL e substitui ',' por '.'\n",
        "#df['VENTO_VEL'] = df['VENTO_VEL'].str.zfill(3)\n",
        "df['VENTO_VEL'] = df['VENTO_VEL'].str.replace(',','.').fillna(0)"
      ],
      "execution_count": null,
      "outputs": []
    },
    {
      "cell_type": "code",
      "metadata": {
        "id": "Z_ela9CbsR7V",
        "colab_type": "code",
        "colab": {}
      },
      "source": [
        "#Substitui ',' por '.' em RADIACAO\n",
        "df['RADIACAO'] = df['RADIACAO'].str.replace(',','.').fillna(0)"
      ],
      "execution_count": null,
      "outputs": []
    },
    {
      "cell_type": "code",
      "metadata": {
        "id": "qr9WgSU9cw4X",
        "colab_type": "code",
        "colab": {}
      },
      "source": [
        "#Substitui ',' por '.' em \"PRESSAO_ATMOSFERICA\" ao nivel da estação\n",
        "df['PRESSAO_ATMOSFERICA'] = df['PRESSAO_ATMOSFERICA'].str.replace(',','.').fillna(0)"
      ],
      "execution_count": null,
      "outputs": []
    },
    {
      "cell_type": "code",
      "metadata": {
        "id": "ddXsOTslMPLo",
        "colab_type": "code",
        "colab": {}
      },
      "source": [
        "# #Substitui os valores negativos de radiacao\n",
        "df['RADIACAO'] = [float(x) for x in df['RADIACAO']]\n",
        "df = df.assign(RADIACAO = df.RADIACAO.where(df.RADIACAO.ge(0))).fillna(0)"
      ],
      "execution_count": null,
      "outputs": []
    },
    {
      "cell_type": "code",
      "metadata": {
        "id": "Bol7sk6_qTMz",
        "colab_type": "code",
        "colab": {}
      },
      "source": [
        "# #replacing negative radiation values\n",
        "# print(dataFrame.Rad.values.shape)\n",
        "\n",
        "# for i in range(len(dataFrame['Rad'])):\n",
        "#   dataFrame['te'][i] = float(dataFrame['Rad'][i]) if float(dataFrame['Rad'][i]) >= 0 else 0  \n",
        "\n",
        "\n"
      ],
      "execution_count": null,
      "outputs": []
    },
    {
      "cell_type": "code",
      "metadata": {
        "id": "bE5S9sjo3PfU",
        "colab_type": "code",
        "colab": {}
      },
      "source": [
        "#Substitui ',' por '.' em TEMPERATURA_MAX\n",
        "df['TEMPERATURA_MAX'] = df['TEMPERATURA_MAX'].str.replace(',','.').fillna(0)"
      ],
      "execution_count": null,
      "outputs": []
    },
    {
      "cell_type": "code",
      "metadata": {
        "id": "s2kF2PGk3WGb",
        "colab_type": "code",
        "colab": {}
      },
      "source": [
        "#Substitui ',' por '.' em TEMPERATURA_MIN\n",
        "df['TEMPERATURA_MIN'] = df['TEMPERATURA_MIN'].str.replace(',','.').fillna(0)"
      ],
      "execution_count": null,
      "outputs": []
    },
    {
      "cell_type": "code",
      "metadata": {
        "id": "0WxSIuDRsisr",
        "colab_type": "code",
        "colab": {}
      },
      "source": [
        "# df.columns = ['data', 'hora','preciptacao','pressao','pressaoMax','pressaoMin','Rad','tem-ar','temp-orvalho','tempMax','tempMin','temp_Orv_Max','temp_Orv_Min','umidade_Max','umidade_Min','umidade_relativa','Vento_Direcao','Vento_Rajada','Velocidade_Vento','Unnamed']\n",
        "# # df.head(-5)\n"
      ],
      "execution_count": null,
      "outputs": []
    },
    {
      "cell_type": "code",
      "metadata": {
        "colab_type": "code",
        "id": "VF-KXBLz5mUW",
        "colab": {}
      },
      "source": [
        "#Agrupa data+hora \n",
        "source_col_loc = df.columns.get_loc('Data') \n",
        "df['datetime'] = df.iloc[:,source_col_loc:source_col_loc+2].apply(\n",
        "    lambda x: \" \".join(x.astype(str)), axis=1)"
      ],
      "execution_count": null,
      "outputs": []
    },
    {
      "cell_type": "code",
      "metadata": {
        "id": "RI7Om3ZnnV56",
        "colab_type": "code",
        "colab": {}
      },
      "source": [
        "#Tranforma data+hora em Datetime e cria um novo dataframe\n",
        "dataFormatada = pd.to_datetime(df['datetime'], format='%Y-%m-%d %H')\n",
        "\n",
        "d = {'date':dataFormatada, 'ventovel':df['VENTO_VEL'],'pressaoATM':df['PRESSAO_ATMOSFERICA'],'tempMax':df['TEMPERATURA_MAX'],'tempMin':df['TEMPERATURA_MIN'], 'umidade_Relativa':df['UMIDADE_RELATIVA_DO_AR'],'umi_Rel_Max':df['UMIDADE_REL_MAX'], 'umi_Rel_Min':df['UMIDADE_REL_MIN'],'Rad':df['RADIACAO']}\n",
        "\n",
        "dataFrame = pd.DataFrame(data=d)\n",
        "\n",
        "frameList = list(dataFrame.date) #list of all dates in 'dataFrame'\n",
        "# dataFrame.head(30)"
      ],
      "execution_count": null,
      "outputs": []
    },
    {
      "cell_type": "code",
      "metadata": {
        "id": "1KMFD87hvzNT",
        "colab_type": "code",
        "colab": {
          "base_uri": "https://localhost:8080/",
          "height": 122
        },
        "outputId": "33df8390-1cb8-442b-ba76-02210aa2066f"
      },
      "source": [
        "#Completa os dados negativos(Ex:-9999) com a media do dado anterior e posterior\n",
        "for column in (dataFrame.columns):\n",
        "   if column != 'date' :\n",
        "    for i in range(len(dataFrame)):\n",
        "      if float(dataFrame[column][i]) < 0:\n",
        "        dataFrame[column][i] = (dataFrame[column][i+24])\n",
        "\n",
        "# dataFrameDay"
      ],
      "execution_count": null,
      "outputs": [
        {
          "output_type": "stream",
          "text": [
            "/usr/local/lib/python3.6/dist-packages/ipykernel_launcher.py:6: SettingWithCopyWarning: \n",
            "A value is trying to be set on a copy of a slice from a DataFrame\n",
            "\n",
            "See the caveats in the documentation: https://pandas.pydata.org/pandas-docs/stable/user_guide/indexing.html#returning-a-view-versus-a-copy\n",
            "  \n"
          ],
          "name": "stderr"
        }
      ]
    },
    {
      "cell_type": "code",
      "metadata": {
        "id": "zCEZ7ZrNtSkD",
        "colab_type": "code",
        "colab": {
          "base_uri": "https://localhost:8080/",
          "height": 297
        },
        "outputId": "9993cd82-c9a0-4977-8592-a94019e60e97"
      },
      "source": [
        "dataFrame.head(8)"
      ],
      "execution_count": null,
      "outputs": [
        {
          "output_type": "execute_result",
          "data": {
            "text/html": [
              "<div>\n",
              "<style scoped>\n",
              "    .dataframe tbody tr th:only-of-type {\n",
              "        vertical-align: middle;\n",
              "    }\n",
              "\n",
              "    .dataframe tbody tr th {\n",
              "        vertical-align: top;\n",
              "    }\n",
              "\n",
              "    .dataframe thead th {\n",
              "        text-align: right;\n",
              "    }\n",
              "</style>\n",
              "<table border=\"1\" class=\"dataframe\">\n",
              "  <thead>\n",
              "    <tr style=\"text-align: right;\">\n",
              "      <th></th>\n",
              "      <th>date</th>\n",
              "      <th>ventovel</th>\n",
              "      <th>pressaoATM</th>\n",
              "      <th>tempMax</th>\n",
              "      <th>tempMin</th>\n",
              "      <th>umidade_Relativa</th>\n",
              "      <th>umi_Rel_Max</th>\n",
              "      <th>umi_Rel_Min</th>\n",
              "      <th>Rad</th>\n",
              "    </tr>\n",
              "  </thead>\n",
              "  <tbody>\n",
              "    <tr>\n",
              "      <th>0</th>\n",
              "      <td>2018-01-01 00:00:00</td>\n",
              "      <td>.7</td>\n",
              "      <td>918.5</td>\n",
              "      <td>22.5</td>\n",
              "      <td>21.6</td>\n",
              "      <td>85</td>\n",
              "      <td>85.0</td>\n",
              "      <td>71.0</td>\n",
              "      <td>0.0</td>\n",
              "    </tr>\n",
              "    <tr>\n",
              "      <th>1</th>\n",
              "      <td>2018-01-01 01:00:00</td>\n",
              "      <td>.8</td>\n",
              "      <td>918.9</td>\n",
              "      <td>21.7</td>\n",
              "      <td>21</td>\n",
              "      <td>89</td>\n",
              "      <td>89.0</td>\n",
              "      <td>84.0</td>\n",
              "      <td>0.0</td>\n",
              "    </tr>\n",
              "    <tr>\n",
              "      <th>2</th>\n",
              "      <td>2018-01-01 02:00:00</td>\n",
              "      <td>.6</td>\n",
              "      <td>918.8</td>\n",
              "      <td>21.9</td>\n",
              "      <td>21.2</td>\n",
              "      <td>87</td>\n",
              "      <td>89.0</td>\n",
              "      <td>86.0</td>\n",
              "      <td>0.0</td>\n",
              "    </tr>\n",
              "    <tr>\n",
              "      <th>3</th>\n",
              "      <td>2018-01-01 03:00:00</td>\n",
              "      <td>.3</td>\n",
              "      <td>918.4</td>\n",
              "      <td>21.7</td>\n",
              "      <td>21.2</td>\n",
              "      <td>89</td>\n",
              "      <td>89.0</td>\n",
              "      <td>87.0</td>\n",
              "      <td>0.0</td>\n",
              "    </tr>\n",
              "    <tr>\n",
              "      <th>4</th>\n",
              "      <td>2018-01-01 04:00:00</td>\n",
              "      <td>.3</td>\n",
              "      <td>917.6</td>\n",
              "      <td>21.3</td>\n",
              "      <td>20.8</td>\n",
              "      <td>91</td>\n",
              "      <td>91.0</td>\n",
              "      <td>89.0</td>\n",
              "      <td>0.0</td>\n",
              "    </tr>\n",
              "    <tr>\n",
              "      <th>5</th>\n",
              "      <td>2018-01-01 05:00:00</td>\n",
              "      <td>.5</td>\n",
              "      <td>917</td>\n",
              "      <td>21</td>\n",
              "      <td>20.7</td>\n",
              "      <td>92</td>\n",
              "      <td>92.0</td>\n",
              "      <td>91.0</td>\n",
              "      <td>0.0</td>\n",
              "    </tr>\n",
              "    <tr>\n",
              "      <th>6</th>\n",
              "      <td>2018-01-01 06:00:00</td>\n",
              "      <td>0</td>\n",
              "      <td>916.2</td>\n",
              "      <td>21</td>\n",
              "      <td>20.7</td>\n",
              "      <td>92</td>\n",
              "      <td>92.0</td>\n",
              "      <td>91.0</td>\n",
              "      <td>0.0</td>\n",
              "    </tr>\n",
              "    <tr>\n",
              "      <th>7</th>\n",
              "      <td>2018-01-01 07:00:00</td>\n",
              "      <td>.2</td>\n",
              "      <td>916</td>\n",
              "      <td>20.9</td>\n",
              "      <td>20.5</td>\n",
              "      <td>92</td>\n",
              "      <td>92.0</td>\n",
              "      <td>91.0</td>\n",
              "      <td>0.0</td>\n",
              "    </tr>\n",
              "  </tbody>\n",
              "</table>\n",
              "</div>"
            ],
            "text/plain": [
              "                 date ventovel pressaoATM  ... umi_Rel_Max umi_Rel_Min  Rad\n",
              "0 2018-01-01 00:00:00       .7      918.5  ...        85.0        71.0  0.0\n",
              "1 2018-01-01 01:00:00       .8      918.9  ...        89.0        84.0  0.0\n",
              "2 2018-01-01 02:00:00       .6      918.8  ...        89.0        86.0  0.0\n",
              "3 2018-01-01 03:00:00       .3      918.4  ...        89.0        87.0  0.0\n",
              "4 2018-01-01 04:00:00       .3      917.6  ...        91.0        89.0  0.0\n",
              "5 2018-01-01 05:00:00       .5        917  ...        92.0        91.0  0.0\n",
              "6 2018-01-01 06:00:00        0      916.2  ...        92.0        91.0  0.0\n",
              "7 2018-01-01 07:00:00       .2        916  ...        92.0        91.0  0.0\n",
              "\n",
              "[8 rows x 9 columns]"
            ]
          },
          "metadata": {
            "tags": []
          },
          "execution_count": 17
        }
      ]
    },
    {
      "cell_type": "code",
      "metadata": {
        "colab_type": "code",
        "id": "PgNjbRo9OgUU",
        "colab": {}
      },
      "source": [
        "#cria todas as datas existentes de serieStart ate serieEnd\n",
        "\n",
        "serieStart = '2018-01-01 00:00:00' \n",
        "serieEnd = '2019-12-31 23:00:00'\n",
        "\n",
        "date = pd.date_range(start=serieStart, end=serieEnd, freq='1H')\n",
        "\n",
        "dt = {'date': date}\n",
        "frameDate = date #list of dates all dates in 'date'"
      ],
      "execution_count": null,
      "outputs": []
    },
    {
      "cell_type": "code",
      "metadata": {
        "id": "1yao2Pv3qryI",
        "colab_type": "code",
        "colab": {}
      },
      "source": [
        "#including the missing dates + nan values\n",
        "\n",
        "new_dates = []\n",
        "new_values_ventovel = []\n",
        "new_values_rad = []\n",
        "new_values_temp_max=[]\t\n",
        "new_values_temp_min=[]\n",
        "new_values_umidade_max=[]\n",
        "new_values_umidade_min=[]\n",
        "new_values_umidade_Relativa=[]\n",
        "new_values_pressaoATM=[]\n",
        "\n",
        "\n",
        "for i in frameDate:\n",
        "  if i in frameList:\n",
        "    new_dates.append(i)\n",
        "    new_values_ventovel.append(float(dataFrame[dataFrame['date']==i]['ventovel']))\n",
        "    new_values_rad.append(float(dataFrame[dataFrame['date']==i]['Rad']))\n",
        "    new_values_temp_max.append(float(dataFrame[dataFrame['date']==i]['tempMax']))\n",
        "    new_values_temp_min.append(float(dataFrame[dataFrame['date']==i]['tempMin']))\n",
        "    new_values_umidade_max.append(float(dataFrame[dataFrame['date']==i]['umi_Rel_Max']))\n",
        "    new_values_umidade_min.append(float(dataFrame[dataFrame['date']==i]['umi_Rel_Min']))\n",
        "    new_values_umidade_Relativa.append(float(dataFrame[dataFrame['date']==i]['umidade_Relativa']))\n",
        "    new_values_pressaoATM.append(float(dataFrame[dataFrame['date']==i]['pressaoATM']))\n",
        " \n",
        "  else:\n",
        "    new_dates.append(i)\n",
        "    new_values_ventovel.append(np.nan)\n",
        "    new_values_rad.append(np.nan)\n",
        "    new_values_temp_max.append(np.nan)\n",
        "    new_values_temp_min.append(np.nan)\n",
        "    new_values_umidade_max.append(np.nan)\n",
        "    new_values_umidade_min.append(np.nan)\n",
        "    new_values_umidade_Relativa.append(np.nan)\n",
        "    new_values_pressaoATM.append(np.nan)\n"
      ],
      "execution_count": null,
      "outputs": []
    },
    {
      "cell_type": "code",
      "metadata": {
        "colab_type": "code",
        "id": "CCht60JrEWU7",
        "colab": {}
      },
      "source": [
        "#transforming data in series end interpolate NaN values\n",
        "index = pd.DatetimeIndex(new_dates)\n",
        "series_ventovel = pd.Series(new_values_ventovel, index=index)\n",
        "for i in range(series_ventovel.shape[0]-1): \n",
        "    if np.isnan(series_ventovel[i]):\n",
        "      series_ventovel[i] = 2\n",
        "\n",
        "series_radiacao = pd.Series(new_values_rad, index=index).interpolate()\n",
        "series_temp_max = pd.Series(new_values_temp_max, index=index).interpolate()\n",
        "series_temp_min = pd.Series(new_values_temp_min, index=index).interpolate()\n",
        "series_umidade_max = pd.Series(new_values_umidade_max, index=index).interpolate()\n",
        "series_umidade_min = pd.Series(new_values_umidade_min, index=index).interpolate()\n",
        "series_umidade_Relativa = pd.Series(new_values_umidade_Relativa, index=index).interpolate()\n",
        "series_pressaoATM = pd.Series(new_values_pressaoATM, index=index).interpolate()"
      ],
      "execution_count": null,
      "outputs": []
    },
    {
      "cell_type": "code",
      "metadata": {
        "id": "vl9NN1SU4HzG",
        "colab_type": "code",
        "colab": {}
      },
      "source": [
        "#exporta para csv\n",
        "\n",
        "\n",
        "\n",
        "series_ventovel.to_csv('/content/sample_data/series_ventovel1')\n",
        "series_radiacao.to_csv('/content/sample_data/series_radiacao1')"
      ],
      "execution_count": null,
      "outputs": []
    },
    {
      "cell_type": "code",
      "metadata": {
        "id": "NkmJ7H4t4bw5",
        "colab_type": "code",
        "colab": {
          "base_uri": "https://localhost:8080/",
          "height": 824
        },
        "outputId": "fd6ad8f5-f923-4fee-bc0c-c24143e0f656"
      },
      "source": [
        "#Cria novo dataFrame ajustado\n",
        "\n",
        "dataAjustada= pd.DataFrame(index=index)\n",
        "\n",
        "dataAjustada.index.name = 'Data'\n",
        "dataAjustada['vento'] = series_ventovel.values\n",
        "dataAjustada['radiacao'] = series_radiacao.values\n",
        "dataAjustada['temp_max'] = series_temp_max.values\n",
        "dataAjustada['temp_min'] = series_temp_min.values\n",
        "dataAjustada['umi_max'] = series_umidade_max.values\n",
        "dataAjustada['umi_min'] = series_umidade_min.values\n",
        "dataAjustada['umi_rel'] = series_umidade_Relativa.values\n",
        "dataAjustada['press_atm'] = series_pressaoATM.values\n",
        "dataAjustada.head(24)\n",
        "\n"
      ],
      "execution_count": null,
      "outputs": [
        {
          "output_type": "execute_result",
          "data": {
            "text/html": [
              "<div>\n",
              "<style scoped>\n",
              "    .dataframe tbody tr th:only-of-type {\n",
              "        vertical-align: middle;\n",
              "    }\n",
              "\n",
              "    .dataframe tbody tr th {\n",
              "        vertical-align: top;\n",
              "    }\n",
              "\n",
              "    .dataframe thead th {\n",
              "        text-align: right;\n",
              "    }\n",
              "</style>\n",
              "<table border=\"1\" class=\"dataframe\">\n",
              "  <thead>\n",
              "    <tr style=\"text-align: right;\">\n",
              "      <th></th>\n",
              "      <th>vento</th>\n",
              "      <th>radiacao</th>\n",
              "      <th>temp_max</th>\n",
              "      <th>temp_min</th>\n",
              "      <th>umi_max</th>\n",
              "      <th>umi_min</th>\n",
              "      <th>umi_rel</th>\n",
              "      <th>press_atm</th>\n",
              "    </tr>\n",
              "    <tr>\n",
              "      <th>Data</th>\n",
              "      <th></th>\n",
              "      <th></th>\n",
              "      <th></th>\n",
              "      <th></th>\n",
              "      <th></th>\n",
              "      <th></th>\n",
              "      <th></th>\n",
              "      <th></th>\n",
              "    </tr>\n",
              "  </thead>\n",
              "  <tbody>\n",
              "    <tr>\n",
              "      <th>2018-01-01 00:00:00</th>\n",
              "      <td>0.7</td>\n",
              "      <td>0.0</td>\n",
              "      <td>22.5</td>\n",
              "      <td>21.6</td>\n",
              "      <td>85.0</td>\n",
              "      <td>71.0</td>\n",
              "      <td>85.0</td>\n",
              "      <td>918.5</td>\n",
              "    </tr>\n",
              "    <tr>\n",
              "      <th>2018-01-01 01:00:00</th>\n",
              "      <td>0.8</td>\n",
              "      <td>0.0</td>\n",
              "      <td>21.7</td>\n",
              "      <td>21.0</td>\n",
              "      <td>89.0</td>\n",
              "      <td>84.0</td>\n",
              "      <td>89.0</td>\n",
              "      <td>918.9</td>\n",
              "    </tr>\n",
              "    <tr>\n",
              "      <th>2018-01-01 02:00:00</th>\n",
              "      <td>0.6</td>\n",
              "      <td>0.0</td>\n",
              "      <td>21.9</td>\n",
              "      <td>21.2</td>\n",
              "      <td>89.0</td>\n",
              "      <td>86.0</td>\n",
              "      <td>87.0</td>\n",
              "      <td>918.8</td>\n",
              "    </tr>\n",
              "    <tr>\n",
              "      <th>2018-01-01 03:00:00</th>\n",
              "      <td>0.3</td>\n",
              "      <td>0.0</td>\n",
              "      <td>21.7</td>\n",
              "      <td>21.2</td>\n",
              "      <td>89.0</td>\n",
              "      <td>87.0</td>\n",
              "      <td>89.0</td>\n",
              "      <td>918.4</td>\n",
              "    </tr>\n",
              "    <tr>\n",
              "      <th>2018-01-01 04:00:00</th>\n",
              "      <td>0.3</td>\n",
              "      <td>0.0</td>\n",
              "      <td>21.3</td>\n",
              "      <td>20.8</td>\n",
              "      <td>91.0</td>\n",
              "      <td>89.0</td>\n",
              "      <td>91.0</td>\n",
              "      <td>917.6</td>\n",
              "    </tr>\n",
              "    <tr>\n",
              "      <th>2018-01-01 05:00:00</th>\n",
              "      <td>0.5</td>\n",
              "      <td>0.0</td>\n",
              "      <td>21.0</td>\n",
              "      <td>20.7</td>\n",
              "      <td>92.0</td>\n",
              "      <td>91.0</td>\n",
              "      <td>92.0</td>\n",
              "      <td>917.0</td>\n",
              "    </tr>\n",
              "    <tr>\n",
              "      <th>2018-01-01 06:00:00</th>\n",
              "      <td>0.0</td>\n",
              "      <td>0.0</td>\n",
              "      <td>21.0</td>\n",
              "      <td>20.7</td>\n",
              "      <td>92.0</td>\n",
              "      <td>91.0</td>\n",
              "      <td>92.0</td>\n",
              "      <td>916.2</td>\n",
              "    </tr>\n",
              "    <tr>\n",
              "      <th>2018-01-01 07:00:00</th>\n",
              "      <td>0.2</td>\n",
              "      <td>0.0</td>\n",
              "      <td>20.9</td>\n",
              "      <td>20.5</td>\n",
              "      <td>92.0</td>\n",
              "      <td>91.0</td>\n",
              "      <td>92.0</td>\n",
              "      <td>916.0</td>\n",
              "    </tr>\n",
              "    <tr>\n",
              "      <th>2018-01-01 08:00:00</th>\n",
              "      <td>0.1</td>\n",
              "      <td>0.0</td>\n",
              "      <td>20.8</td>\n",
              "      <td>20.3</td>\n",
              "      <td>92.0</td>\n",
              "      <td>91.0</td>\n",
              "      <td>92.0</td>\n",
              "      <td>916.4</td>\n",
              "    </tr>\n",
              "    <tr>\n",
              "      <th>2018-01-01 09:00:00</th>\n",
              "      <td>0.3</td>\n",
              "      <td>19.2</td>\n",
              "      <td>20.7</td>\n",
              "      <td>20.4</td>\n",
              "      <td>92.0</td>\n",
              "      <td>91.0</td>\n",
              "      <td>92.0</td>\n",
              "      <td>917.2</td>\n",
              "    </tr>\n",
              "    <tr>\n",
              "      <th>2018-01-01 10:00:00</th>\n",
              "      <td>0.0</td>\n",
              "      <td>294.2</td>\n",
              "      <td>21.9</td>\n",
              "      <td>20.6</td>\n",
              "      <td>92.0</td>\n",
              "      <td>88.0</td>\n",
              "      <td>88.0</td>\n",
              "      <td>917.8</td>\n",
              "    </tr>\n",
              "    <tr>\n",
              "      <th>2018-01-01 11:00:00</th>\n",
              "      <td>0.2</td>\n",
              "      <td>624.8</td>\n",
              "      <td>23.1</td>\n",
              "      <td>21.9</td>\n",
              "      <td>88.0</td>\n",
              "      <td>81.0</td>\n",
              "      <td>81.0</td>\n",
              "      <td>917.9</td>\n",
              "    </tr>\n",
              "    <tr>\n",
              "      <th>2018-01-01 12:00:00</th>\n",
              "      <td>2.4</td>\n",
              "      <td>938.4</td>\n",
              "      <td>24.0</td>\n",
              "      <td>23.0</td>\n",
              "      <td>83.0</td>\n",
              "      <td>68.0</td>\n",
              "      <td>69.0</td>\n",
              "      <td>918.1</td>\n",
              "    </tr>\n",
              "    <tr>\n",
              "      <th>2018-01-01 13:00:00</th>\n",
              "      <td>2.9</td>\n",
              "      <td>2582.4</td>\n",
              "      <td>26.6</td>\n",
              "      <td>23.9</td>\n",
              "      <td>70.0</td>\n",
              "      <td>58.0</td>\n",
              "      <td>62.0</td>\n",
              "      <td>917.8</td>\n",
              "    </tr>\n",
              "    <tr>\n",
              "      <th>2018-01-01 14:00:00</th>\n",
              "      <td>3.3</td>\n",
              "      <td>2308.7</td>\n",
              "      <td>27.2</td>\n",
              "      <td>25.9</td>\n",
              "      <td>65.0</td>\n",
              "      <td>57.0</td>\n",
              "      <td>58.0</td>\n",
              "      <td>917.6</td>\n",
              "    </tr>\n",
              "    <tr>\n",
              "      <th>2018-01-01 15:00:00</th>\n",
              "      <td>3.8</td>\n",
              "      <td>2644.8</td>\n",
              "      <td>28.9</td>\n",
              "      <td>26.1</td>\n",
              "      <td>60.0</td>\n",
              "      <td>51.0</td>\n",
              "      <td>52.0</td>\n",
              "      <td>916.6</td>\n",
              "    </tr>\n",
              "    <tr>\n",
              "      <th>2018-01-01 16:00:00</th>\n",
              "      <td>2.3</td>\n",
              "      <td>1833.5</td>\n",
              "      <td>29.0</td>\n",
              "      <td>25.9</td>\n",
              "      <td>67.0</td>\n",
              "      <td>46.0</td>\n",
              "      <td>58.0</td>\n",
              "      <td>916.0</td>\n",
              "    </tr>\n",
              "    <tr>\n",
              "      <th>2018-01-01 17:00:00</th>\n",
              "      <td>4.8</td>\n",
              "      <td>3583.1</td>\n",
              "      <td>29.8</td>\n",
              "      <td>27.4</td>\n",
              "      <td>58.0</td>\n",
              "      <td>40.0</td>\n",
              "      <td>43.0</td>\n",
              "      <td>915.2</td>\n",
              "    </tr>\n",
              "    <tr>\n",
              "      <th>2018-01-01 18:00:00</th>\n",
              "      <td>5.8</td>\n",
              "      <td>2642.6</td>\n",
              "      <td>29.8</td>\n",
              "      <td>27.8</td>\n",
              "      <td>51.0</td>\n",
              "      <td>40.0</td>\n",
              "      <td>44.0</td>\n",
              "      <td>914.2</td>\n",
              "    </tr>\n",
              "    <tr>\n",
              "      <th>2018-01-01 19:00:00</th>\n",
              "      <td>2.7</td>\n",
              "      <td>2219.8</td>\n",
              "      <td>29.6</td>\n",
              "      <td>28.0</td>\n",
              "      <td>51.0</td>\n",
              "      <td>41.0</td>\n",
              "      <td>49.0</td>\n",
              "      <td>913.8</td>\n",
              "    </tr>\n",
              "    <tr>\n",
              "      <th>2018-01-01 20:00:00</th>\n",
              "      <td>2.7</td>\n",
              "      <td>747.3</td>\n",
              "      <td>29.4</td>\n",
              "      <td>22.0</td>\n",
              "      <td>77.0</td>\n",
              "      <td>48.0</td>\n",
              "      <td>77.0</td>\n",
              "      <td>913.6</td>\n",
              "    </tr>\n",
              "    <tr>\n",
              "      <th>2018-01-01 21:00:00</th>\n",
              "      <td>0.5</td>\n",
              "      <td>513.0</td>\n",
              "      <td>24.5</td>\n",
              "      <td>21.9</td>\n",
              "      <td>86.0</td>\n",
              "      <td>75.0</td>\n",
              "      <td>81.0</td>\n",
              "      <td>913.8</td>\n",
              "    </tr>\n",
              "    <tr>\n",
              "      <th>2018-01-01 22:00:00</th>\n",
              "      <td>2.3</td>\n",
              "      <td>65.3</td>\n",
              "      <td>24.7</td>\n",
              "      <td>22.0</td>\n",
              "      <td>85.0</td>\n",
              "      <td>68.0</td>\n",
              "      <td>80.0</td>\n",
              "      <td>913.9</td>\n",
              "    </tr>\n",
              "    <tr>\n",
              "      <th>2018-01-01 23:00:00</th>\n",
              "      <td>1.5</td>\n",
              "      <td>1.0</td>\n",
              "      <td>23.8</td>\n",
              "      <td>22.0</td>\n",
              "      <td>80.0</td>\n",
              "      <td>65.0</td>\n",
              "      <td>66.0</td>\n",
              "      <td>914.5</td>\n",
              "    </tr>\n",
              "  </tbody>\n",
              "</table>\n",
              "</div>"
            ],
            "text/plain": [
              "                     vento  radiacao  temp_max  ...  umi_min  umi_rel  press_atm\n",
              "Data                                            ...                             \n",
              "2018-01-01 00:00:00    0.7       0.0      22.5  ...     71.0     85.0      918.5\n",
              "2018-01-01 01:00:00    0.8       0.0      21.7  ...     84.0     89.0      918.9\n",
              "2018-01-01 02:00:00    0.6       0.0      21.9  ...     86.0     87.0      918.8\n",
              "2018-01-01 03:00:00    0.3       0.0      21.7  ...     87.0     89.0      918.4\n",
              "2018-01-01 04:00:00    0.3       0.0      21.3  ...     89.0     91.0      917.6\n",
              "2018-01-01 05:00:00    0.5       0.0      21.0  ...     91.0     92.0      917.0\n",
              "2018-01-01 06:00:00    0.0       0.0      21.0  ...     91.0     92.0      916.2\n",
              "2018-01-01 07:00:00    0.2       0.0      20.9  ...     91.0     92.0      916.0\n",
              "2018-01-01 08:00:00    0.1       0.0      20.8  ...     91.0     92.0      916.4\n",
              "2018-01-01 09:00:00    0.3      19.2      20.7  ...     91.0     92.0      917.2\n",
              "2018-01-01 10:00:00    0.0     294.2      21.9  ...     88.0     88.0      917.8\n",
              "2018-01-01 11:00:00    0.2     624.8      23.1  ...     81.0     81.0      917.9\n",
              "2018-01-01 12:00:00    2.4     938.4      24.0  ...     68.0     69.0      918.1\n",
              "2018-01-01 13:00:00    2.9    2582.4      26.6  ...     58.0     62.0      917.8\n",
              "2018-01-01 14:00:00    3.3    2308.7      27.2  ...     57.0     58.0      917.6\n",
              "2018-01-01 15:00:00    3.8    2644.8      28.9  ...     51.0     52.0      916.6\n",
              "2018-01-01 16:00:00    2.3    1833.5      29.0  ...     46.0     58.0      916.0\n",
              "2018-01-01 17:00:00    4.8    3583.1      29.8  ...     40.0     43.0      915.2\n",
              "2018-01-01 18:00:00    5.8    2642.6      29.8  ...     40.0     44.0      914.2\n",
              "2018-01-01 19:00:00    2.7    2219.8      29.6  ...     41.0     49.0      913.8\n",
              "2018-01-01 20:00:00    2.7     747.3      29.4  ...     48.0     77.0      913.6\n",
              "2018-01-01 21:00:00    0.5     513.0      24.5  ...     75.0     81.0      913.8\n",
              "2018-01-01 22:00:00    2.3      65.3      24.7  ...     68.0     80.0      913.9\n",
              "2018-01-01 23:00:00    1.5       1.0      23.8  ...     65.0     66.0      914.5\n",
              "\n",
              "[24 rows x 8 columns]"
            ]
          },
          "metadata": {
            "tags": []
          },
          "execution_count": 22
        }
      ]
    },
    {
      "cell_type": "code",
      "metadata": {
        "id": "TWFaR2mxFf2W",
        "colab_type": "code",
        "colab": {}
      },
      "source": [
        "dataAjustada.reset_index(level=0,inplace=True)\n",
        "temp_max_dia=[]\t\n",
        "temp_min_dia=[]\n",
        "umidade_min_dia =[]\n",
        "umidade_max_dia =[]\n",
        "grouped = dataAjustada.groupby(pd.Grouper(key = 'Data', freq = 'D'))\n",
        "umidade_min_dia=grouped['umi_min'].min()\n",
        "umidade_max_dia=grouped['umi_max'].max()\n",
        "temp_min_dia=grouped['temp_min'].min()\n",
        "temp_max_dia=grouped['temp_max'].max()\n",
        "\n",
        "\n"
      ],
      "execution_count": null,
      "outputs": []
    },
    {
      "cell_type": "code",
      "metadata": {
        "id": "uV6-J6PlRkhj",
        "colab_type": "code",
        "colab": {}
      },
      "source": [
        "dataAjustada.set_index('Data', inplace=True)"
      ],
      "execution_count": null,
      "outputs": []
    },
    {
      "cell_type": "code",
      "metadata": {
        "id": "_SxVFDHvQCQq",
        "colab_type": "code",
        "colab": {
          "base_uri": "https://localhost:8080/",
          "height": 450
        },
        "outputId": "6695c098-1ff8-4641-a91e-58cb918026a7"
      },
      "source": [
        "dataAjustada"
      ],
      "execution_count": null,
      "outputs": [
        {
          "output_type": "execute_result",
          "data": {
            "text/html": [
              "<div>\n",
              "<style scoped>\n",
              "    .dataframe tbody tr th:only-of-type {\n",
              "        vertical-align: middle;\n",
              "    }\n",
              "\n",
              "    .dataframe tbody tr th {\n",
              "        vertical-align: top;\n",
              "    }\n",
              "\n",
              "    .dataframe thead th {\n",
              "        text-align: right;\n",
              "    }\n",
              "</style>\n",
              "<table border=\"1\" class=\"dataframe\">\n",
              "  <thead>\n",
              "    <tr style=\"text-align: right;\">\n",
              "      <th></th>\n",
              "      <th>vento</th>\n",
              "      <th>radiacao</th>\n",
              "      <th>temp_max</th>\n",
              "      <th>temp_min</th>\n",
              "      <th>umi_max</th>\n",
              "      <th>umi_min</th>\n",
              "      <th>umi_rel</th>\n",
              "      <th>press_atm</th>\n",
              "    </tr>\n",
              "    <tr>\n",
              "      <th>Data</th>\n",
              "      <th></th>\n",
              "      <th></th>\n",
              "      <th></th>\n",
              "      <th></th>\n",
              "      <th></th>\n",
              "      <th></th>\n",
              "      <th></th>\n",
              "      <th></th>\n",
              "    </tr>\n",
              "  </thead>\n",
              "  <tbody>\n",
              "    <tr>\n",
              "      <th>2018-01-01 00:00:00</th>\n",
              "      <td>0.7</td>\n",
              "      <td>0.0</td>\n",
              "      <td>22.5</td>\n",
              "      <td>21.6</td>\n",
              "      <td>85.0</td>\n",
              "      <td>71.0</td>\n",
              "      <td>85.0</td>\n",
              "      <td>918.5</td>\n",
              "    </tr>\n",
              "    <tr>\n",
              "      <th>2018-01-01 01:00:00</th>\n",
              "      <td>0.8</td>\n",
              "      <td>0.0</td>\n",
              "      <td>21.7</td>\n",
              "      <td>21.0</td>\n",
              "      <td>89.0</td>\n",
              "      <td>84.0</td>\n",
              "      <td>89.0</td>\n",
              "      <td>918.9</td>\n",
              "    </tr>\n",
              "    <tr>\n",
              "      <th>2018-01-01 02:00:00</th>\n",
              "      <td>0.6</td>\n",
              "      <td>0.0</td>\n",
              "      <td>21.9</td>\n",
              "      <td>21.2</td>\n",
              "      <td>89.0</td>\n",
              "      <td>86.0</td>\n",
              "      <td>87.0</td>\n",
              "      <td>918.8</td>\n",
              "    </tr>\n",
              "    <tr>\n",
              "      <th>2018-01-01 03:00:00</th>\n",
              "      <td>0.3</td>\n",
              "      <td>0.0</td>\n",
              "      <td>21.7</td>\n",
              "      <td>21.2</td>\n",
              "      <td>89.0</td>\n",
              "      <td>87.0</td>\n",
              "      <td>89.0</td>\n",
              "      <td>918.4</td>\n",
              "    </tr>\n",
              "    <tr>\n",
              "      <th>2018-01-01 04:00:00</th>\n",
              "      <td>0.3</td>\n",
              "      <td>0.0</td>\n",
              "      <td>21.3</td>\n",
              "      <td>20.8</td>\n",
              "      <td>91.0</td>\n",
              "      <td>89.0</td>\n",
              "      <td>91.0</td>\n",
              "      <td>917.6</td>\n",
              "    </tr>\n",
              "    <tr>\n",
              "      <th>...</th>\n",
              "      <td>...</td>\n",
              "      <td>...</td>\n",
              "      <td>...</td>\n",
              "      <td>...</td>\n",
              "      <td>...</td>\n",
              "      <td>...</td>\n",
              "      <td>...</td>\n",
              "      <td>...</td>\n",
              "    </tr>\n",
              "    <tr>\n",
              "      <th>2019-12-31 19:00:00</th>\n",
              "      <td>1.9</td>\n",
              "      <td>1747.2</td>\n",
              "      <td>29.5</td>\n",
              "      <td>27.3</td>\n",
              "      <td>50.0</td>\n",
              "      <td>38.0</td>\n",
              "      <td>42.0</td>\n",
              "      <td>913.3</td>\n",
              "    </tr>\n",
              "    <tr>\n",
              "      <th>2019-12-31 20:00:00</th>\n",
              "      <td>4.3</td>\n",
              "      <td>577.5</td>\n",
              "      <td>28.5</td>\n",
              "      <td>25.9</td>\n",
              "      <td>53.0</td>\n",
              "      <td>40.0</td>\n",
              "      <td>52.0</td>\n",
              "      <td>913.3</td>\n",
              "    </tr>\n",
              "    <tr>\n",
              "      <th>2019-12-31 21:00:00</th>\n",
              "      <td>3.1</td>\n",
              "      <td>655.5</td>\n",
              "      <td>26.2</td>\n",
              "      <td>25.6</td>\n",
              "      <td>56.0</td>\n",
              "      <td>52.0</td>\n",
              "      <td>55.0</td>\n",
              "      <td>913.5</td>\n",
              "    </tr>\n",
              "    <tr>\n",
              "      <th>2019-12-31 22:00:00</th>\n",
              "      <td>2.8</td>\n",
              "      <td>44.0</td>\n",
              "      <td>25.8</td>\n",
              "      <td>24.8</td>\n",
              "      <td>58.0</td>\n",
              "      <td>55.0</td>\n",
              "      <td>57.0</td>\n",
              "      <td>914.0</td>\n",
              "    </tr>\n",
              "    <tr>\n",
              "      <th>2019-12-31 23:00:00</th>\n",
              "      <td>2.1</td>\n",
              "      <td>0.0</td>\n",
              "      <td>25.0</td>\n",
              "      <td>24.0</td>\n",
              "      <td>61.0</td>\n",
              "      <td>57.0</td>\n",
              "      <td>61.0</td>\n",
              "      <td>914.4</td>\n",
              "    </tr>\n",
              "  </tbody>\n",
              "</table>\n",
              "<p>17520 rows × 8 columns</p>\n",
              "</div>"
            ],
            "text/plain": [
              "                     vento  radiacao  temp_max  ...  umi_min  umi_rel  press_atm\n",
              "Data                                            ...                             \n",
              "2018-01-01 00:00:00    0.7       0.0      22.5  ...     71.0     85.0      918.5\n",
              "2018-01-01 01:00:00    0.8       0.0      21.7  ...     84.0     89.0      918.9\n",
              "2018-01-01 02:00:00    0.6       0.0      21.9  ...     86.0     87.0      918.8\n",
              "2018-01-01 03:00:00    0.3       0.0      21.7  ...     87.0     89.0      918.4\n",
              "2018-01-01 04:00:00    0.3       0.0      21.3  ...     89.0     91.0      917.6\n",
              "...                    ...       ...       ...  ...      ...      ...        ...\n",
              "2019-12-31 19:00:00    1.9    1747.2      29.5  ...     38.0     42.0      913.3\n",
              "2019-12-31 20:00:00    4.3     577.5      28.5  ...     40.0     52.0      913.3\n",
              "2019-12-31 21:00:00    3.1     655.5      26.2  ...     52.0     55.0      913.5\n",
              "2019-12-31 22:00:00    2.8      44.0      25.8  ...     55.0     57.0      914.0\n",
              "2019-12-31 23:00:00    2.1       0.0      25.0  ...     57.0     61.0      914.4\n",
              "\n",
              "[17520 rows x 8 columns]"
            ]
          },
          "metadata": {
            "tags": []
          },
          "execution_count": 25
        }
      ]
    },
    {
      "cell_type": "code",
      "metadata": {
        "id": "-EIOhT4b4ZdW",
        "colab_type": "code",
        "colab": {
          "base_uri": "https://localhost:8080/",
          "height": 450
        },
        "outputId": "301285cd-f81b-4c3e-fc6d-5b1d3cc114ea"
      },
      "source": [
        "#faz uma media dos dados diarios e os transforma em dias\n",
        "\n",
        "dataFrameDay = pd.DataFrame()\n",
        "\n",
        "dataFrameDay = dataAjustada.resample('D').mean()\n",
        "\n",
        "\n",
        "\n",
        "dataFrameDay"
      ],
      "execution_count": null,
      "outputs": [
        {
          "output_type": "execute_result",
          "data": {
            "text/html": [
              "<div>\n",
              "<style scoped>\n",
              "    .dataframe tbody tr th:only-of-type {\n",
              "        vertical-align: middle;\n",
              "    }\n",
              "\n",
              "    .dataframe tbody tr th {\n",
              "        vertical-align: top;\n",
              "    }\n",
              "\n",
              "    .dataframe thead th {\n",
              "        text-align: right;\n",
              "    }\n",
              "</style>\n",
              "<table border=\"1\" class=\"dataframe\">\n",
              "  <thead>\n",
              "    <tr style=\"text-align: right;\">\n",
              "      <th></th>\n",
              "      <th>vento</th>\n",
              "      <th>radiacao</th>\n",
              "      <th>temp_max</th>\n",
              "      <th>temp_min</th>\n",
              "      <th>umi_max</th>\n",
              "      <th>umi_min</th>\n",
              "      <th>umi_rel</th>\n",
              "      <th>press_atm</th>\n",
              "    </tr>\n",
              "    <tr>\n",
              "      <th>Data</th>\n",
              "      <th></th>\n",
              "      <th></th>\n",
              "      <th></th>\n",
              "      <th></th>\n",
              "      <th></th>\n",
              "      <th></th>\n",
              "      <th></th>\n",
              "      <th></th>\n",
              "    </tr>\n",
              "  </thead>\n",
              "  <tbody>\n",
              "    <tr>\n",
              "      <th>2018-01-01</th>\n",
              "      <td>1.625000</td>\n",
              "      <td>875.754167</td>\n",
              "      <td>24.408333</td>\n",
              "      <td>22.783333</td>\n",
              "      <td>79.833333</td>\n",
              "      <td>70.750000</td>\n",
              "      <td>75.375000</td>\n",
              "      <td>916.491667</td>\n",
              "    </tr>\n",
              "    <tr>\n",
              "      <th>2018-01-02</th>\n",
              "      <td>1.883333</td>\n",
              "      <td>865.570833</td>\n",
              "      <td>24.566667</td>\n",
              "      <td>23.258333</td>\n",
              "      <td>75.416667</td>\n",
              "      <td>68.458333</td>\n",
              "      <td>71.583333</td>\n",
              "      <td>914.350000</td>\n",
              "    </tr>\n",
              "    <tr>\n",
              "      <th>2018-01-03</th>\n",
              "      <td>1.712500</td>\n",
              "      <td>883.162500</td>\n",
              "      <td>24.529167</td>\n",
              "      <td>22.991667</td>\n",
              "      <td>76.833333</td>\n",
              "      <td>69.291667</td>\n",
              "      <td>74.166667</td>\n",
              "      <td>913.745833</td>\n",
              "    </tr>\n",
              "    <tr>\n",
              "      <th>2018-01-04</th>\n",
              "      <td>1.320833</td>\n",
              "      <td>246.675000</td>\n",
              "      <td>20.695833</td>\n",
              "      <td>20.100000</td>\n",
              "      <td>91.708333</td>\n",
              "      <td>90.416667</td>\n",
              "      <td>91.166667</td>\n",
              "      <td>916.491667</td>\n",
              "    </tr>\n",
              "    <tr>\n",
              "      <th>2018-01-05</th>\n",
              "      <td>1.237500</td>\n",
              "      <td>564.258333</td>\n",
              "      <td>21.666667</td>\n",
              "      <td>20.679167</td>\n",
              "      <td>87.875000</td>\n",
              "      <td>83.958333</td>\n",
              "      <td>85.958333</td>\n",
              "      <td>918.862500</td>\n",
              "    </tr>\n",
              "    <tr>\n",
              "      <th>...</th>\n",
              "      <td>...</td>\n",
              "      <td>...</td>\n",
              "      <td>...</td>\n",
              "      <td>...</td>\n",
              "      <td>...</td>\n",
              "      <td>...</td>\n",
              "      <td>...</td>\n",
              "      <td>...</td>\n",
              "    </tr>\n",
              "    <tr>\n",
              "      <th>2019-12-27</th>\n",
              "      <td>2.512500</td>\n",
              "      <td>998.500000</td>\n",
              "      <td>24.683333</td>\n",
              "      <td>23.316667</td>\n",
              "      <td>63.791667</td>\n",
              "      <td>56.916667</td>\n",
              "      <td>60.208333</td>\n",
              "      <td>919.566667</td>\n",
              "    </tr>\n",
              "    <tr>\n",
              "      <th>2019-12-28</th>\n",
              "      <td>1.962500</td>\n",
              "      <td>858.429167</td>\n",
              "      <td>24.166667</td>\n",
              "      <td>22.329167</td>\n",
              "      <td>70.083333</td>\n",
              "      <td>60.375000</td>\n",
              "      <td>65.583333</td>\n",
              "      <td>918.841667</td>\n",
              "    </tr>\n",
              "    <tr>\n",
              "      <th>2019-12-29</th>\n",
              "      <td>1.579167</td>\n",
              "      <td>809.720833</td>\n",
              "      <td>23.270833</td>\n",
              "      <td>21.595833</td>\n",
              "      <td>77.083333</td>\n",
              "      <td>68.166667</td>\n",
              "      <td>72.666667</td>\n",
              "      <td>917.520833</td>\n",
              "    </tr>\n",
              "    <tr>\n",
              "      <th>2019-12-30</th>\n",
              "      <td>2.166667</td>\n",
              "      <td>984.829167</td>\n",
              "      <td>23.658333</td>\n",
              "      <td>22.045833</td>\n",
              "      <td>67.208333</td>\n",
              "      <td>57.833333</td>\n",
              "      <td>61.375000</td>\n",
              "      <td>915.866667</td>\n",
              "    </tr>\n",
              "    <tr>\n",
              "      <th>2019-12-31</th>\n",
              "      <td>2.354167</td>\n",
              "      <td>1088.145833</td>\n",
              "      <td>24.745833</td>\n",
              "      <td>23.216667</td>\n",
              "      <td>62.750000</td>\n",
              "      <td>55.208333</td>\n",
              "      <td>59.125000</td>\n",
              "      <td>915.204167</td>\n",
              "    </tr>\n",
              "  </tbody>\n",
              "</table>\n",
              "<p>730 rows × 8 columns</p>\n",
              "</div>"
            ],
            "text/plain": [
              "               vento     radiacao   temp_max  ...    umi_min    umi_rel   press_atm\n",
              "Data                                          ...                                  \n",
              "2018-01-01  1.625000   875.754167  24.408333  ...  70.750000  75.375000  916.491667\n",
              "2018-01-02  1.883333   865.570833  24.566667  ...  68.458333  71.583333  914.350000\n",
              "2018-01-03  1.712500   883.162500  24.529167  ...  69.291667  74.166667  913.745833\n",
              "2018-01-04  1.320833   246.675000  20.695833  ...  90.416667  91.166667  916.491667\n",
              "2018-01-05  1.237500   564.258333  21.666667  ...  83.958333  85.958333  918.862500\n",
              "...              ...          ...        ...  ...        ...        ...         ...\n",
              "2019-12-27  2.512500   998.500000  24.683333  ...  56.916667  60.208333  919.566667\n",
              "2019-12-28  1.962500   858.429167  24.166667  ...  60.375000  65.583333  918.841667\n",
              "2019-12-29  1.579167   809.720833  23.270833  ...  68.166667  72.666667  917.520833\n",
              "2019-12-30  2.166667   984.829167  23.658333  ...  57.833333  61.375000  915.866667\n",
              "2019-12-31  2.354167  1088.145833  24.745833  ...  55.208333  59.125000  915.204167\n",
              "\n",
              "[730 rows x 8 columns]"
            ]
          },
          "metadata": {
            "tags": []
          },
          "execution_count": 26
        }
      ]
    },
    {
      "cell_type": "code",
      "metadata": {
        "id": "bTBEbzvPLQvR",
        "colab_type": "code",
        "colab": {
          "base_uri": "https://localhost:8080/",
          "height": 450
        },
        "outputId": "b0844741-8651-49a9-9c55-aee4d9267db9"
      },
      "source": [
        "temp_media = []\n",
        "count = 0\n",
        "for i in range (len(dataFrameDay)):\n",
        "  temp_media.append((dataFrameDay['temp_max'][i] + dataFrameDay['temp_min'][i])/2)\n",
        "\n",
        "dataFrameDay['temp_media'] = temp_media\n",
        "dataFrameDay.head(730)"
      ],
      "execution_count": null,
      "outputs": [
        {
          "output_type": "execute_result",
          "data": {
            "text/html": [
              "<div>\n",
              "<style scoped>\n",
              "    .dataframe tbody tr th:only-of-type {\n",
              "        vertical-align: middle;\n",
              "    }\n",
              "\n",
              "    .dataframe tbody tr th {\n",
              "        vertical-align: top;\n",
              "    }\n",
              "\n",
              "    .dataframe thead th {\n",
              "        text-align: right;\n",
              "    }\n",
              "</style>\n",
              "<table border=\"1\" class=\"dataframe\">\n",
              "  <thead>\n",
              "    <tr style=\"text-align: right;\">\n",
              "      <th></th>\n",
              "      <th>vento</th>\n",
              "      <th>radiacao</th>\n",
              "      <th>temp_max</th>\n",
              "      <th>temp_min</th>\n",
              "      <th>umi_max</th>\n",
              "      <th>umi_min</th>\n",
              "      <th>umi_rel</th>\n",
              "      <th>press_atm</th>\n",
              "      <th>temp_media</th>\n",
              "    </tr>\n",
              "    <tr>\n",
              "      <th>Data</th>\n",
              "      <th></th>\n",
              "      <th></th>\n",
              "      <th></th>\n",
              "      <th></th>\n",
              "      <th></th>\n",
              "      <th></th>\n",
              "      <th></th>\n",
              "      <th></th>\n",
              "      <th></th>\n",
              "    </tr>\n",
              "  </thead>\n",
              "  <tbody>\n",
              "    <tr>\n",
              "      <th>2018-01-01</th>\n",
              "      <td>1.625000</td>\n",
              "      <td>875.754167</td>\n",
              "      <td>24.408333</td>\n",
              "      <td>22.783333</td>\n",
              "      <td>79.833333</td>\n",
              "      <td>70.750000</td>\n",
              "      <td>75.375000</td>\n",
              "      <td>916.491667</td>\n",
              "      <td>23.595833</td>\n",
              "    </tr>\n",
              "    <tr>\n",
              "      <th>2018-01-02</th>\n",
              "      <td>1.883333</td>\n",
              "      <td>865.570833</td>\n",
              "      <td>24.566667</td>\n",
              "      <td>23.258333</td>\n",
              "      <td>75.416667</td>\n",
              "      <td>68.458333</td>\n",
              "      <td>71.583333</td>\n",
              "      <td>914.350000</td>\n",
              "      <td>23.912500</td>\n",
              "    </tr>\n",
              "    <tr>\n",
              "      <th>2018-01-03</th>\n",
              "      <td>1.712500</td>\n",
              "      <td>883.162500</td>\n",
              "      <td>24.529167</td>\n",
              "      <td>22.991667</td>\n",
              "      <td>76.833333</td>\n",
              "      <td>69.291667</td>\n",
              "      <td>74.166667</td>\n",
              "      <td>913.745833</td>\n",
              "      <td>23.760417</td>\n",
              "    </tr>\n",
              "    <tr>\n",
              "      <th>2018-01-04</th>\n",
              "      <td>1.320833</td>\n",
              "      <td>246.675000</td>\n",
              "      <td>20.695833</td>\n",
              "      <td>20.100000</td>\n",
              "      <td>91.708333</td>\n",
              "      <td>90.416667</td>\n",
              "      <td>91.166667</td>\n",
              "      <td>916.491667</td>\n",
              "      <td>20.397917</td>\n",
              "    </tr>\n",
              "    <tr>\n",
              "      <th>2018-01-05</th>\n",
              "      <td>1.237500</td>\n",
              "      <td>564.258333</td>\n",
              "      <td>21.666667</td>\n",
              "      <td>20.679167</td>\n",
              "      <td>87.875000</td>\n",
              "      <td>83.958333</td>\n",
              "      <td>85.958333</td>\n",
              "      <td>918.862500</td>\n",
              "      <td>21.172917</td>\n",
              "    </tr>\n",
              "    <tr>\n",
              "      <th>...</th>\n",
              "      <td>...</td>\n",
              "      <td>...</td>\n",
              "      <td>...</td>\n",
              "      <td>...</td>\n",
              "      <td>...</td>\n",
              "      <td>...</td>\n",
              "      <td>...</td>\n",
              "      <td>...</td>\n",
              "      <td>...</td>\n",
              "    </tr>\n",
              "    <tr>\n",
              "      <th>2019-12-27</th>\n",
              "      <td>2.512500</td>\n",
              "      <td>998.500000</td>\n",
              "      <td>24.683333</td>\n",
              "      <td>23.316667</td>\n",
              "      <td>63.791667</td>\n",
              "      <td>56.916667</td>\n",
              "      <td>60.208333</td>\n",
              "      <td>919.566667</td>\n",
              "      <td>24.000000</td>\n",
              "    </tr>\n",
              "    <tr>\n",
              "      <th>2019-12-28</th>\n",
              "      <td>1.962500</td>\n",
              "      <td>858.429167</td>\n",
              "      <td>24.166667</td>\n",
              "      <td>22.329167</td>\n",
              "      <td>70.083333</td>\n",
              "      <td>60.375000</td>\n",
              "      <td>65.583333</td>\n",
              "      <td>918.841667</td>\n",
              "      <td>23.247917</td>\n",
              "    </tr>\n",
              "    <tr>\n",
              "      <th>2019-12-29</th>\n",
              "      <td>1.579167</td>\n",
              "      <td>809.720833</td>\n",
              "      <td>23.270833</td>\n",
              "      <td>21.595833</td>\n",
              "      <td>77.083333</td>\n",
              "      <td>68.166667</td>\n",
              "      <td>72.666667</td>\n",
              "      <td>917.520833</td>\n",
              "      <td>22.433333</td>\n",
              "    </tr>\n",
              "    <tr>\n",
              "      <th>2019-12-30</th>\n",
              "      <td>2.166667</td>\n",
              "      <td>984.829167</td>\n",
              "      <td>23.658333</td>\n",
              "      <td>22.045833</td>\n",
              "      <td>67.208333</td>\n",
              "      <td>57.833333</td>\n",
              "      <td>61.375000</td>\n",
              "      <td>915.866667</td>\n",
              "      <td>22.852083</td>\n",
              "    </tr>\n",
              "    <tr>\n",
              "      <th>2019-12-31</th>\n",
              "      <td>2.354167</td>\n",
              "      <td>1088.145833</td>\n",
              "      <td>24.745833</td>\n",
              "      <td>23.216667</td>\n",
              "      <td>62.750000</td>\n",
              "      <td>55.208333</td>\n",
              "      <td>59.125000</td>\n",
              "      <td>915.204167</td>\n",
              "      <td>23.981250</td>\n",
              "    </tr>\n",
              "  </tbody>\n",
              "</table>\n",
              "<p>730 rows × 9 columns</p>\n",
              "</div>"
            ],
            "text/plain": [
              "               vento     radiacao   temp_max  ...    umi_rel   press_atm  temp_media\n",
              "Data                                          ...                                   \n",
              "2018-01-01  1.625000   875.754167  24.408333  ...  75.375000  916.491667   23.595833\n",
              "2018-01-02  1.883333   865.570833  24.566667  ...  71.583333  914.350000   23.912500\n",
              "2018-01-03  1.712500   883.162500  24.529167  ...  74.166667  913.745833   23.760417\n",
              "2018-01-04  1.320833   246.675000  20.695833  ...  91.166667  916.491667   20.397917\n",
              "2018-01-05  1.237500   564.258333  21.666667  ...  85.958333  918.862500   21.172917\n",
              "...              ...          ...        ...  ...        ...         ...         ...\n",
              "2019-12-27  2.512500   998.500000  24.683333  ...  60.208333  919.566667   24.000000\n",
              "2019-12-28  1.962500   858.429167  24.166667  ...  65.583333  918.841667   23.247917\n",
              "2019-12-29  1.579167   809.720833  23.270833  ...  72.666667  917.520833   22.433333\n",
              "2019-12-30  2.166667   984.829167  23.658333  ...  61.375000  915.866667   22.852083\n",
              "2019-12-31  2.354167  1088.145833  24.745833  ...  59.125000  915.204167   23.981250\n",
              "\n",
              "[730 rows x 9 columns]"
            ]
          },
          "metadata": {
            "tags": []
          },
          "execution_count": 27
        }
      ]
    },
    {
      "cell_type": "code",
      "metadata": {
        "id": "jlVONFZWgryk",
        "colab_type": "code",
        "colab": {
          "base_uri": "https://localhost:8080/",
          "height": 450
        },
        "outputId": "172205ed-91fd-4af6-fd6c-2d0c7cf2cae5"
      },
      "source": [
        "dataFrameDay['temp_max'] = temp_max_dia.values\n",
        "dataFrameDay['temp_min'] = temp_min_dia.values\n",
        "dataFrameDay['umi_max'] = umidade_max_dia.values\n",
        "dataFrameDay['umi_min'] = umidade_min_dia.values\n",
        "dataFrameDay"
      ],
      "execution_count": null,
      "outputs": [
        {
          "output_type": "execute_result",
          "data": {
            "text/html": [
              "<div>\n",
              "<style scoped>\n",
              "    .dataframe tbody tr th:only-of-type {\n",
              "        vertical-align: middle;\n",
              "    }\n",
              "\n",
              "    .dataframe tbody tr th {\n",
              "        vertical-align: top;\n",
              "    }\n",
              "\n",
              "    .dataframe thead th {\n",
              "        text-align: right;\n",
              "    }\n",
              "</style>\n",
              "<table border=\"1\" class=\"dataframe\">\n",
              "  <thead>\n",
              "    <tr style=\"text-align: right;\">\n",
              "      <th></th>\n",
              "      <th>vento</th>\n",
              "      <th>radiacao</th>\n",
              "      <th>temp_max</th>\n",
              "      <th>temp_min</th>\n",
              "      <th>umi_max</th>\n",
              "      <th>umi_min</th>\n",
              "      <th>umi_rel</th>\n",
              "      <th>press_atm</th>\n",
              "      <th>temp_media</th>\n",
              "    </tr>\n",
              "    <tr>\n",
              "      <th>Data</th>\n",
              "      <th></th>\n",
              "      <th></th>\n",
              "      <th></th>\n",
              "      <th></th>\n",
              "      <th></th>\n",
              "      <th></th>\n",
              "      <th></th>\n",
              "      <th></th>\n",
              "      <th></th>\n",
              "    </tr>\n",
              "  </thead>\n",
              "  <tbody>\n",
              "    <tr>\n",
              "      <th>2018-01-01</th>\n",
              "      <td>1.625000</td>\n",
              "      <td>875.754167</td>\n",
              "      <td>29.8</td>\n",
              "      <td>20.3</td>\n",
              "      <td>92.0</td>\n",
              "      <td>40.0</td>\n",
              "      <td>75.375000</td>\n",
              "      <td>916.491667</td>\n",
              "      <td>23.595833</td>\n",
              "    </tr>\n",
              "    <tr>\n",
              "      <th>2018-01-02</th>\n",
              "      <td>1.883333</td>\n",
              "      <td>865.570833</td>\n",
              "      <td>29.8</td>\n",
              "      <td>19.4</td>\n",
              "      <td>92.0</td>\n",
              "      <td>49.0</td>\n",
              "      <td>71.583333</td>\n",
              "      <td>914.350000</td>\n",
              "      <td>23.912500</td>\n",
              "    </tr>\n",
              "    <tr>\n",
              "      <th>2018-01-03</th>\n",
              "      <td>1.712500</td>\n",
              "      <td>883.162500</td>\n",
              "      <td>30.1</td>\n",
              "      <td>18.7</td>\n",
              "      <td>93.0</td>\n",
              "      <td>47.0</td>\n",
              "      <td>74.166667</td>\n",
              "      <td>913.745833</td>\n",
              "      <td>23.760417</td>\n",
              "    </tr>\n",
              "    <tr>\n",
              "      <th>2018-01-04</th>\n",
              "      <td>1.320833</td>\n",
              "      <td>246.675000</td>\n",
              "      <td>22.4</td>\n",
              "      <td>18.8</td>\n",
              "      <td>93.0</td>\n",
              "      <td>85.0</td>\n",
              "      <td>91.166667</td>\n",
              "      <td>916.491667</td>\n",
              "      <td>20.397917</td>\n",
              "    </tr>\n",
              "    <tr>\n",
              "      <th>2018-01-05</th>\n",
              "      <td>1.237500</td>\n",
              "      <td>564.258333</td>\n",
              "      <td>28.0</td>\n",
              "      <td>19.0</td>\n",
              "      <td>93.0</td>\n",
              "      <td>58.0</td>\n",
              "      <td>85.958333</td>\n",
              "      <td>918.862500</td>\n",
              "      <td>21.172917</td>\n",
              "    </tr>\n",
              "    <tr>\n",
              "      <th>...</th>\n",
              "      <td>...</td>\n",
              "      <td>...</td>\n",
              "      <td>...</td>\n",
              "      <td>...</td>\n",
              "      <td>...</td>\n",
              "      <td>...</td>\n",
              "      <td>...</td>\n",
              "      <td>...</td>\n",
              "      <td>...</td>\n",
              "    </tr>\n",
              "    <tr>\n",
              "      <th>2019-12-27</th>\n",
              "      <td>2.512500</td>\n",
              "      <td>998.500000</td>\n",
              "      <td>29.1</td>\n",
              "      <td>19.9</td>\n",
              "      <td>83.0</td>\n",
              "      <td>40.0</td>\n",
              "      <td>60.208333</td>\n",
              "      <td>919.566667</td>\n",
              "      <td>24.000000</td>\n",
              "    </tr>\n",
              "    <tr>\n",
              "      <th>2019-12-28</th>\n",
              "      <td>1.962500</td>\n",
              "      <td>858.429167</td>\n",
              "      <td>28.6</td>\n",
              "      <td>19.7</td>\n",
              "      <td>88.0</td>\n",
              "      <td>44.0</td>\n",
              "      <td>65.583333</td>\n",
              "      <td>918.841667</td>\n",
              "      <td>23.247917</td>\n",
              "    </tr>\n",
              "    <tr>\n",
              "      <th>2019-12-29</th>\n",
              "      <td>1.579167</td>\n",
              "      <td>809.720833</td>\n",
              "      <td>29.4</td>\n",
              "      <td>18.8</td>\n",
              "      <td>90.0</td>\n",
              "      <td>40.0</td>\n",
              "      <td>72.666667</td>\n",
              "      <td>917.520833</td>\n",
              "      <td>22.433333</td>\n",
              "    </tr>\n",
              "    <tr>\n",
              "      <th>2019-12-30</th>\n",
              "      <td>2.166667</td>\n",
              "      <td>984.829167</td>\n",
              "      <td>29.3</td>\n",
              "      <td>18.1</td>\n",
              "      <td>84.0</td>\n",
              "      <td>32.0</td>\n",
              "      <td>61.375000</td>\n",
              "      <td>915.866667</td>\n",
              "      <td>22.852083</td>\n",
              "    </tr>\n",
              "    <tr>\n",
              "      <th>2019-12-31</th>\n",
              "      <td>2.354167</td>\n",
              "      <td>1088.145833</td>\n",
              "      <td>29.9</td>\n",
              "      <td>18.8</td>\n",
              "      <td>79.0</td>\n",
              "      <td>37.0</td>\n",
              "      <td>59.125000</td>\n",
              "      <td>915.204167</td>\n",
              "      <td>23.981250</td>\n",
              "    </tr>\n",
              "  </tbody>\n",
              "</table>\n",
              "<p>730 rows × 9 columns</p>\n",
              "</div>"
            ],
            "text/plain": [
              "               vento     radiacao  temp_max  ...    umi_rel   press_atm  temp_media\n",
              "Data                                         ...                                   \n",
              "2018-01-01  1.625000   875.754167      29.8  ...  75.375000  916.491667   23.595833\n",
              "2018-01-02  1.883333   865.570833      29.8  ...  71.583333  914.350000   23.912500\n",
              "2018-01-03  1.712500   883.162500      30.1  ...  74.166667  913.745833   23.760417\n",
              "2018-01-04  1.320833   246.675000      22.4  ...  91.166667  916.491667   20.397917\n",
              "2018-01-05  1.237500   564.258333      28.0  ...  85.958333  918.862500   21.172917\n",
              "...              ...          ...       ...  ...        ...         ...         ...\n",
              "2019-12-27  2.512500   998.500000      29.1  ...  60.208333  919.566667   24.000000\n",
              "2019-12-28  1.962500   858.429167      28.6  ...  65.583333  918.841667   23.247917\n",
              "2019-12-29  1.579167   809.720833      29.4  ...  72.666667  917.520833   22.433333\n",
              "2019-12-30  2.166667   984.829167      29.3  ...  61.375000  915.866667   22.852083\n",
              "2019-12-31  2.354167  1088.145833      29.9  ...  59.125000  915.204167   23.981250\n",
              "\n",
              "[730 rows x 9 columns]"
            ]
          },
          "metadata": {
            "tags": []
          },
          "execution_count": 28
        }
      ]
    },
    {
      "cell_type": "code",
      "metadata": {
        "id": "PXFDAJJKD54q",
        "colab_type": "code",
        "colab": {
          "base_uri": "https://localhost:8080/",
          "height": 34
        },
        "outputId": "cecf76fd-86c1-42f4-d4ce-e502595ff889"
      },
      "source": [
        "#Calcula U2\n",
        "#Transforma a velocidade do vendo para uma velocidade a 2 m de altura e caso não tenha o valor da velocidade considera \n",
        "#2 m/s \n",
        "print(dataFrameDay.vento.values.shape)\n",
        "\n",
        "for i in range(len(dataFrameDay['vento'])):\n",
        " if float(dataFrameDay['vento'][i]) >= 0:\n",
        "    dataFrameDay['vento'][i] = float(dataFrameDay['vento'][i])* (4.87 / math.log(67.8 * altitude - 5.42))  \n",
        "    if dataFrameDay['vento'][i]<0.5:\n",
        "      dataFrameDay['vento'][i]=0.5\n",
        "\n",
        "\n",
        "\n",
        "\n"
      ],
      "execution_count": null,
      "outputs": [
        {
          "output_type": "stream",
          "text": [
            "(730,)\n"
          ],
          "name": "stdout"
        }
      ]
    },
    {
      "cell_type": "code",
      "metadata": {
        "id": "xq5OdpdlVt6a",
        "colab_type": "code",
        "colab": {}
      },
      "source": [
        "# dataFrameDay.reset_index(level=0,inplace=True)\n",
        "# dataFrameDay.head()\n",
        "\n",
        "\n"
      ],
      "execution_count": null,
      "outputs": []
    },
    {
      "cell_type": "code",
      "metadata": {
        "id": "Q-sRKVT2toiT",
        "colab_type": "code",
        "colab": {
          "base_uri": "https://localhost:8080/",
          "height": 450
        },
        "outputId": "5d3f410f-e188-4d74-b34e-95d0994de5a5"
      },
      "source": [
        " #Transforma W/m2-> MJ/m2d\n",
        " # 1 W/m2 = 1 J/m2 s\n",
        " # 1 day = 60s * 60min *24h = 86400s\n",
        " # radiação (W/m2)/(1000000/86400s) -> RAD MJ/m2d \n",
        "\n",
        " for i in range(len(dataFrameDay)):\n",
        "        dataFrameDay[\"radiacao\"][i] = (dataFrameDay[\"radiacao\"][i])/(1000000/86400)\n",
        "dataFrameDay"
      ],
      "execution_count": null,
      "outputs": [
        {
          "output_type": "execute_result",
          "data": {
            "text/html": [
              "<div>\n",
              "<style scoped>\n",
              "    .dataframe tbody tr th:only-of-type {\n",
              "        vertical-align: middle;\n",
              "    }\n",
              "\n",
              "    .dataframe tbody tr th {\n",
              "        vertical-align: top;\n",
              "    }\n",
              "\n",
              "    .dataframe thead th {\n",
              "        text-align: right;\n",
              "    }\n",
              "</style>\n",
              "<table border=\"1\" class=\"dataframe\">\n",
              "  <thead>\n",
              "    <tr style=\"text-align: right;\">\n",
              "      <th></th>\n",
              "      <th>vento</th>\n",
              "      <th>radiacao</th>\n",
              "      <th>temp_max</th>\n",
              "      <th>temp_min</th>\n",
              "      <th>umi_max</th>\n",
              "      <th>umi_min</th>\n",
              "      <th>umi_rel</th>\n",
              "      <th>press_atm</th>\n",
              "      <th>temp_media</th>\n",
              "    </tr>\n",
              "    <tr>\n",
              "      <th>Data</th>\n",
              "      <th></th>\n",
              "      <th></th>\n",
              "      <th></th>\n",
              "      <th></th>\n",
              "      <th></th>\n",
              "      <th></th>\n",
              "      <th></th>\n",
              "      <th></th>\n",
              "      <th></th>\n",
              "    </tr>\n",
              "  </thead>\n",
              "  <tbody>\n",
              "    <tr>\n",
              "      <th>2018-01-01</th>\n",
              "      <td>1.196103</td>\n",
              "      <td>75.66516</td>\n",
              "      <td>29.8</td>\n",
              "      <td>20.3</td>\n",
              "      <td>92.0</td>\n",
              "      <td>40.0</td>\n",
              "      <td>75.375000</td>\n",
              "      <td>916.491667</td>\n",
              "      <td>23.595833</td>\n",
              "    </tr>\n",
              "    <tr>\n",
              "      <th>2018-01-02</th>\n",
              "      <td>1.386252</td>\n",
              "      <td>74.78532</td>\n",
              "      <td>29.8</td>\n",
              "      <td>19.4</td>\n",
              "      <td>92.0</td>\n",
              "      <td>49.0</td>\n",
              "      <td>71.583333</td>\n",
              "      <td>914.350000</td>\n",
              "      <td>23.912500</td>\n",
              "    </tr>\n",
              "    <tr>\n",
              "      <th>2018-01-03</th>\n",
              "      <td>1.260508</td>\n",
              "      <td>76.30524</td>\n",
              "      <td>30.1</td>\n",
              "      <td>18.7</td>\n",
              "      <td>93.0</td>\n",
              "      <td>47.0</td>\n",
              "      <td>74.166667</td>\n",
              "      <td>913.745833</td>\n",
              "      <td>23.760417</td>\n",
              "    </tr>\n",
              "    <tr>\n",
              "      <th>2018-01-04</th>\n",
              "      <td>0.972217</td>\n",
              "      <td>21.31272</td>\n",
              "      <td>22.4</td>\n",
              "      <td>18.8</td>\n",
              "      <td>93.0</td>\n",
              "      <td>85.0</td>\n",
              "      <td>91.166667</td>\n",
              "      <td>916.491667</td>\n",
              "      <td>20.397917</td>\n",
              "    </tr>\n",
              "    <tr>\n",
              "      <th>2018-01-05</th>\n",
              "      <td>0.910878</td>\n",
              "      <td>48.75192</td>\n",
              "      <td>28.0</td>\n",
              "      <td>19.0</td>\n",
              "      <td>93.0</td>\n",
              "      <td>58.0</td>\n",
              "      <td>85.958333</td>\n",
              "      <td>918.862500</td>\n",
              "      <td>21.172917</td>\n",
              "    </tr>\n",
              "    <tr>\n",
              "      <th>...</th>\n",
              "      <td>...</td>\n",
              "      <td>...</td>\n",
              "      <td>...</td>\n",
              "      <td>...</td>\n",
              "      <td>...</td>\n",
              "      <td>...</td>\n",
              "      <td>...</td>\n",
              "      <td>...</td>\n",
              "      <td>...</td>\n",
              "    </tr>\n",
              "    <tr>\n",
              "      <th>2019-12-27</th>\n",
              "      <td>1.849359</td>\n",
              "      <td>86.27040</td>\n",
              "      <td>29.1</td>\n",
              "      <td>19.9</td>\n",
              "      <td>83.0</td>\n",
              "      <td>40.0</td>\n",
              "      <td>60.208333</td>\n",
              "      <td>919.566667</td>\n",
              "      <td>24.000000</td>\n",
              "    </tr>\n",
              "    <tr>\n",
              "      <th>2019-12-28</th>\n",
              "      <td>1.444524</td>\n",
              "      <td>74.16828</td>\n",
              "      <td>28.6</td>\n",
              "      <td>19.7</td>\n",
              "      <td>88.0</td>\n",
              "      <td>44.0</td>\n",
              "      <td>65.583333</td>\n",
              "      <td>918.841667</td>\n",
              "      <td>23.247917</td>\n",
              "    </tr>\n",
              "    <tr>\n",
              "      <th>2019-12-29</th>\n",
              "      <td>1.162367</td>\n",
              "      <td>69.95988</td>\n",
              "      <td>29.4</td>\n",
              "      <td>18.8</td>\n",
              "      <td>90.0</td>\n",
              "      <td>40.0</td>\n",
              "      <td>72.666667</td>\n",
              "      <td>917.520833</td>\n",
              "      <td>22.433333</td>\n",
              "    </tr>\n",
              "    <tr>\n",
              "      <th>2019-12-30</th>\n",
              "      <td>1.594804</td>\n",
              "      <td>85.08924</td>\n",
              "      <td>29.3</td>\n",
              "      <td>18.1</td>\n",
              "      <td>84.0</td>\n",
              "      <td>32.0</td>\n",
              "      <td>61.375000</td>\n",
              "      <td>915.866667</td>\n",
              "      <td>22.852083</td>\n",
              "    </tr>\n",
              "    <tr>\n",
              "      <th>2019-12-31</th>\n",
              "      <td>1.732816</td>\n",
              "      <td>94.01580</td>\n",
              "      <td>29.9</td>\n",
              "      <td>18.8</td>\n",
              "      <td>79.0</td>\n",
              "      <td>37.0</td>\n",
              "      <td>59.125000</td>\n",
              "      <td>915.204167</td>\n",
              "      <td>23.981250</td>\n",
              "    </tr>\n",
              "  </tbody>\n",
              "</table>\n",
              "<p>730 rows × 9 columns</p>\n",
              "</div>"
            ],
            "text/plain": [
              "               vento  radiacao  temp_max  ...    umi_rel   press_atm  temp_media\n",
              "Data                                      ...                                   \n",
              "2018-01-01  1.196103  75.66516      29.8  ...  75.375000  916.491667   23.595833\n",
              "2018-01-02  1.386252  74.78532      29.8  ...  71.583333  914.350000   23.912500\n",
              "2018-01-03  1.260508  76.30524      30.1  ...  74.166667  913.745833   23.760417\n",
              "2018-01-04  0.972217  21.31272      22.4  ...  91.166667  916.491667   20.397917\n",
              "2018-01-05  0.910878  48.75192      28.0  ...  85.958333  918.862500   21.172917\n",
              "...              ...       ...       ...  ...        ...         ...         ...\n",
              "2019-12-27  1.849359  86.27040      29.1  ...  60.208333  919.566667   24.000000\n",
              "2019-12-28  1.444524  74.16828      28.6  ...  65.583333  918.841667   23.247917\n",
              "2019-12-29  1.162367  69.95988      29.4  ...  72.666667  917.520833   22.433333\n",
              "2019-12-30  1.594804  85.08924      29.3  ...  61.375000  915.866667   22.852083\n",
              "2019-12-31  1.732816  94.01580      29.9  ...  59.125000  915.204167   23.981250\n",
              "\n",
              "[730 rows x 9 columns]"
            ]
          },
          "metadata": {
            "tags": []
          },
          "execution_count": 31
        }
      ]
    },
    {
      "cell_type": "code",
      "metadata": {
        "id": "xspt1GVOuIlK",
        "colab_type": "code",
        "colab": {}
      },
      "source": [
        "# #Calcula dia do ano e acrescenta na base de dados\n",
        "     \n",
        "\n",
        "\n",
        "\n",
        "# def calcula_dia(dataset):\n",
        "    \n",
        "#     date = dataset['Data']\n",
        "#     day_of_year = []\n",
        "#     for i in range(date.shape[0]):\n",
        "#       adate = datetime.strptime(date[i],\"%Y-%m-%d\")\n",
        "#       day_of_year.append(adate.timetuple().tm_yday)\n",
        "#     day = np.asarray(day_of_year)\n",
        "#     dayframe=pd.DataFrame(day,columns=['J'])\n",
        "#     d = [dataset,dayframe]\n",
        "#     dataset = pd.concat(d,axis=1)\n",
        "#     return dataset\n",
        "    \n",
        "# dataFrameDay = calcula_dia(dataFrameDay)"
      ],
      "execution_count": null,
      "outputs": []
    },
    {
      "cell_type": "code",
      "metadata": {
        "id": "AH7Ncd8hEhbu",
        "colab_type": "code",
        "colab": {}
      },
      "source": [
        "#exporta para csv\n",
        "\n",
        "\n",
        "dataFrameDay.to_csv('/content/sample_data/dados3')\n",
        "series_ventovel.to_csv('/content/sample_data/series_ventovel2')\n",
        "series_radiacao.to_csv('/content/sample_data/series_radiacao2')\n",
        "# series_temp_max.to_csv('/content/sample_data/new_values_temp_max')\n",
        "# series_temp_min.to_csv('/content/sample_data/new_values_temp_min')\n",
        "# series_umidade_max.to_csv('/content/sample_data/new_values_umidade_max')\n",
        "# series_umidade_min.to_csv('/content/sample_data/new_values_umidade_min')"
      ],
      "execution_count": null,
      "outputs": []
    },
    {
      "cell_type": "markdown",
      "metadata": {
        "id": "Q_031ywtyFcE",
        "colab_type": "text"
      },
      "source": [
        "#ANALYZING DATA"
      ]
    },
    {
      "cell_type": "code",
      "metadata": {
        "id": "c8fxzMhZyZhz",
        "colab_type": "code",
        "colab": {
          "base_uri": "https://localhost:8080/",
          "height": 136
        },
        "outputId": "c8287df9-5353-4229-ed3b-c816b8632e0b"
      },
      "source": [
        "from statsmodels.tsa.stattools import acf, pacf\n",
        "import numpy as np\n",
        "import pandas as pd\n",
        "import time\n",
        "\n",
        "serie_rad = pd.read_csv('/content/sample_data/series_radiacao1', header=0, index_col=0)\n",
        "serie_ven = pd.read_csv('/content/sample_data/series_ventovel1', header=0, index_col=0)\n",
        "series_ventovel.head()"
      ],
      "execution_count": null,
      "outputs": [
        {
          "output_type": "execute_result",
          "data": {
            "text/plain": [
              "Data\n",
              "2018-01-01 00:00:00    0.7\n",
              "2018-01-01 01:00:00    0.8\n",
              "2018-01-01 02:00:00    0.6\n",
              "2018-01-01 03:00:00    0.3\n",
              "2018-01-01 04:00:00    0.3\n",
              "dtype: float64"
            ]
          },
          "metadata": {
            "tags": []
          },
          "execution_count": 34
        }
      ]
    },
    {
      "cell_type": "code",
      "metadata": {
        "id": "BDzYi4gi-o7Q",
        "colab_type": "code",
        "colab": {
          "base_uri": "https://localhost:8080/",
          "height": 71
        },
        "outputId": "30acb880-919c-4b9f-f2bc-1dba49932d3f"
      },
      "source": [
        "p, c = pacf(serie_ven, alpha=0.05)\n",
        "p2, c2 = acf(serie_ven, alpha=0.05)\n",
        "pd, cd = pacf((serie_ven.values[:-1] - serie_ven.values[1:]), alpha=0.05,nlags=168)\n",
        "p2d, c2d = acf((serie_ven.values[:-1] - serie_ven.values[1:]), alpha=0.05,nlags=168)"
      ],
      "execution_count": null,
      "outputs": [
        {
          "output_type": "stream",
          "text": [
            "/usr/local/lib/python3.6/dist-packages/statsmodels/tsa/stattools.py:541: FutureWarning: fft=True will become the default in a future version of statsmodels. To suppress this warning, explicitly set fft=False.\n",
            "  warnings.warn(msg, FutureWarning)\n"
          ],
          "name": "stderr"
        }
      ]
    },
    {
      "cell_type": "code",
      "metadata": {
        "id": "3p1XE6m5mKNg",
        "colab_type": "code",
        "colab": {
          "base_uri": "https://localhost:8080/",
          "height": 404
        },
        "outputId": "c961dd26-fe5e-46c3-b421-cd29abdb1117"
      },
      "source": [
        "#fazer :\n",
        "#ACF -> Sem Diff e com Diff para achar o Q \n",
        "#PACF-> Sem Diff e com Diff para achar o P\n",
        "#d = 0 , q0 -> ACF e p0-> PACF\n",
        "# d = 1 (serie_ven.values[:-1] - serie_ven.values[1:]), q1 -> ACF e p1-> PACF\n",
        "# ARIMA(p0,d0,q0)\n",
        "# ARIMA(p1,d1,q1)\n",
        "\n",
        "plt.plot(p2,'o')\n",
        "plt.plot(c2[:,1]-p2)\n",
        "plt.plot(c2[:,0]-p2)\n",
        "plt.title('Serie Temporal de Velocidade do Vento ACF ')\n",
        "plt.xlabel('lags em Horas')\n",
        "plt.ylabel('Correlação')\n",
        "plt.show()"
      ],
      "execution_count": null,
      "outputs": [
        {
          "output_type": "display_data",
          "data": {
            "image/png": "[encoded data removed]",
            "text/plain": [
              "<Figure size 720x432 with 1 Axes>"
            ]
          },
          "metadata": {
            "tags": [],
            "needs_background": "light"
          }
        }
      ]
    },
    {
      "cell_type": "code",
      "metadata": {
        "id": "nIWmfR9H1TAR",
        "colab_type": "code",
        "colab": {
          "base_uri": "https://localhost:8080/",
          "height": 404
        },
        "outputId": "4061f922-0ae8-4ef9-d04b-eb0d3c184f65"
      },
      "source": [
        "import matplotlib.pyplot as plt\n",
        "plt.plot(pd,'o')\n",
        "plt.plot(cd[:,1]-pd)\n",
        "plt.plot(cd[:,0]-pd)\n",
        "plt.title('Serie Temporal de Velocidade do Vento PACF')\n",
        "plt.xlabel('lags em Horas')\n",
        "plt.ylabel('Correlação')\n",
        "plt.show()"
      ],
      "execution_count": null,
      "outputs": [
        {
          "output_type": "display_data",
          "data": {
            "image/png": "[encoded data removed]",
            "text/plain": [
              "<Figure size 720x432 with 1 Axes>"
            ]
          },
          "metadata": {
            "tags": [],
            "needs_background": "light"
          }
        }
      ]
    },
    {
      "cell_type": "code",
      "metadata": {
        "id": "m4mnP7MeCjm6",
        "colab_type": "code",
        "colab": {
          "base_uri": "https://localhost:8080/",
          "height": 34
        },
        "outputId": "4824887a-6ea4-409c-dca0-de9087ea055b"
      },
      "source": [
        "\n",
        "cont_Ordem = 0\n",
        "for _p,_c0,_c1 in zip(p,c[:,0],c[:,1]):  \n",
        "  if _p > (_c1-_p) or _p < (_c0-_p):\n",
        "    cont_Ordem+=1\n",
        "  else:\n",
        "    break\n",
        "print(cont_Ordem)  "
      ],
      "execution_count": null,
      "outputs": [
        {
          "output_type": "stream",
          "text": [
            "5\n"
          ],
          "name": "stdout"
        }
      ]
    },
    {
      "cell_type": "code",
      "metadata": {
        "colab_type": "code",
        "id": "nkAkDgGAV0-5",
        "colab": {}
      },
      "source": [
        "cont = 0\n",
        "lista_Relevancia = []\n",
        "for _p,_c0,_c1 in zip(p,c[:,0],c[:,1]):\n",
        "  if _p > (_c1-_p) or _p < (_c0-_p):\n",
        "    lista_Relevancia.append(1)\n",
        "    \n",
        "  else:\n",
        "    lista_Relevancia.append(0)\n",
        " \n"
      ],
      "execution_count": null,
      "outputs": []
    },
    {
      "cell_type": "code",
      "metadata": {
        "id": "8EEjU_9zVzbA",
        "colab_type": "code",
        "colab": {}
      },
      "source": [
        "#lista_Relevancia"
      ],
      "execution_count": null,
      "outputs": []
    },
    {
      "cell_type": "code",
      "metadata": {
        "id": "eHMfty_nWEMu",
        "colab_type": "code",
        "colab": {
          "base_uri": "https://localhost:8080/",
          "height": 71
        },
        "outputId": "60467b8e-4196-44cc-8873-7def424a60d4"
      },
      "source": [
        "p1, c1 = pacf(serie_rad, alpha=0.05)\n",
        "p3, c3 = acf(serie_rad, alpha=0.05)\n",
        "p1d, c1d = pacf((serie_rad.values[:-1] - serie_rad.values[1:]), alpha=0.05,nlags=168)\n",
        "p3d, c3d = acf((serie_rad.values[:-1] - serie_rad.values[1:]), alpha=0.05,nlags=168)"
      ],
      "execution_count": null,
      "outputs": [
        {
          "output_type": "stream",
          "text": [
            "/usr/local/lib/python3.6/dist-packages/statsmodels/tsa/stattools.py:541: FutureWarning: fft=True will become the default in a future version of statsmodels. To suppress this warning, explicitly set fft=False.\n",
            "  warnings.warn(msg, FutureWarning)\n"
          ],
          "name": "stderr"
        }
      ]
    },
    {
      "cell_type": "code",
      "metadata": {
        "id": "OP2prmMSy0T5",
        "colab_type": "code",
        "colab": {
          "base_uri": "https://localhost:8080/",
          "height": 404
        },
        "outputId": "2aa7e727-707b-437e-a751-8d7a1dab71eb"
      },
      "source": [
        "plt.plot(p3,'o')\n",
        "plt.plot(c3[:,1]-p3)\n",
        "plt.plot(c3[:,0]-p3)\n",
        "plt.title('Serie Temporal do Indice de Radição ACF')\n",
        "plt.xlabel('lags em Horas')\n",
        "plt.ylabel('Correlação')\n",
        "plt.show()"
      ],
      "execution_count": null,
      "outputs": [
        {
          "output_type": "display_data",
          "data": {
            "image/png": "[encoded data removed]",
            "text/plain": [
              "<Figure size 720x432 with 1 Axes>"
            ]
          },
          "metadata": {
            "tags": [],
            "needs_background": "light"
          }
        }
      ]
    },
    {
      "cell_type": "code",
      "metadata": {
        "id": "xXr8RcgVWNUW",
        "colab_type": "code",
        "colab": {
          "base_uri": "https://localhost:8080/",
          "height": 404
        },
        "outputId": "8ee0c92c-a525-48a1-94e0-f8d1d697e5f2"
      },
      "source": [
        "\n",
        "plt.plot(p1,'o')\n",
        "plt.plot(c1[:,1]-p1)\n",
        "plt.plot(c1[:,0]-p1)\n",
        "plt.title('Serie Temporal do Indice de Radição PACF ')\n",
        "plt.xlabel('lags em Horas')\n",
        "plt.ylabel('Correlação')\n",
        "plt.show()"
      ],
      "execution_count": null,
      "outputs": [
        {
          "output_type": "display_data",
          "data": {
            "image/png": "[encoded data removed]",
            "text/plain": [
              "<Figure size 720x432 with 1 Axes>"
            ]
          },
          "metadata": {
            "tags": [],
            "needs_background": "light"
          }
        }
      ]
    },
    {
      "cell_type": "code",
      "metadata": {
        "id": "lbObiS5-Waed",
        "colab_type": "code",
        "colab": {}
      },
      "source": [
        "#lcap ou ssAutoArima = low cost arima parameters or Super simple autoArima\n",
        "\n",
        "#serie = serie temporal\n",
        "#tipo_ACF_ou_PACF = acf ou pacf\n",
        "#diferenciar = numero inteiro 0 ou 1\n",
        "#Se você passou acf, o valor retornado é a ordem do \"q\"\n",
        "#Se você passou pacf, o valor retornado é a ordem do \"p\"\n",
        "\n",
        "def lcap (serie,difenciar,tipo_ACF_ou_PACF):\n",
        "  from statsmodels.tsa.stattools import acf, pacf\n",
        "\n",
        "  \n",
        "  cont_Ordem = 0\n",
        "  if difenciar == 0:\n",
        "       p1, c1 = tipo_ACF_ou_PACF(serie, alpha=0.05)\n",
        "       for _p,_c0,_c1 in zip(p1,c1[:,0],c1[:,1]):\n",
        "          if _p > (_c1-_p) or _p < (_c0-_p):\n",
        "            cont_Ordem+=1\n",
        "          else:\n",
        "            break\n",
        "  elif difenciar == 1:\n",
        "       p1, c1 = tipo_ACF_ou_PACF((serie.values[:-1] - serie.values[1:]), alpha=0.05)\n",
        "       for _p,_c0,_c1 in zip(p1,c1[:,0],c1[:,1]):\n",
        "          if _p > (_c1-_p) or _p < (_c0-_p):\n",
        "            cont_Ordem+=1\n",
        "          else:\n",
        "            break\n",
        "  \n",
        "  else:\n",
        "    print (\"Difrenciacao Maxima permitida == 1 \")\n",
        "  \n",
        "  \n",
        "  return cont_Ordem"
      ],
      "execution_count": null,
      "outputs": []
    },
    {
      "cell_type": "code",
      "metadata": {
        "id": "AC6Vm43zYYOX",
        "colab_type": "code",
        "colab": {}
      },
      "source": [
        "#ssAutoArima = Super simple autoArima\n",
        "\n",
        "def ssArima(serie,d):\n",
        "  start = time.time()\n",
        "  q=lcap(serie,d,acf)\n",
        "  p=lcap(serie,d,pacf)\n",
        "  t = time.time() - start\n",
        "\n",
        "  return print(\"Arimalcap\",(p,d,q),t)"
      ],
      "execution_count": null,
      "outputs": []
    },
    {
      "cell_type": "code",
      "metadata": {
        "id": "IC47se-METua",
        "colab_type": "code",
        "colab": {
          "base_uri": "https://localhost:8080/",
          "height": 88
        },
        "outputId": "3f0421f9-3bb0-4497-b059-3ad325a50016"
      },
      "source": [
        "ssArima(serie_ven,0)"
      ],
      "execution_count": null,
      "outputs": [
        {
          "output_type": "stream",
          "text": [
            "Arimalcap (5, 0, 41) 0.14956164360046387\n"
          ],
          "name": "stdout"
        },
        {
          "output_type": "stream",
          "text": [
            "/usr/local/lib/python3.6/dist-packages/statsmodels/tsa/stattools.py:541: FutureWarning: fft=True will become the default in a future version of statsmodels. To suppress this warning, explicitly set fft=False.\n",
            "  warnings.warn(msg, FutureWarning)\n"
          ],
          "name": "stderr"
        }
      ]
    },
    {
      "cell_type": "code",
      "metadata": {
        "id": "DOFCU03XGDb4",
        "colab_type": "code",
        "colab": {
          "base_uri": "https://localhost:8080/",
          "height": 88
        },
        "outputId": "4cbb5cdf-449b-4b3d-d692-09004cbc6cc1"
      },
      "source": [
        "ssArima(serie_rad,0)"
      ],
      "execution_count": null,
      "outputs": [
        {
          "output_type": "stream",
          "text": [
            "/usr/local/lib/python3.6/dist-packages/statsmodels/tsa/stattools.py:541: FutureWarning: fft=True will become the default in a future version of statsmodels. To suppress this warning, explicitly set fft=False.\n",
            "  warnings.warn(msg, FutureWarning)\n"
          ],
          "name": "stderr"
        },
        {
          "output_type": "stream",
          "text": [
            "Arimalcap (30, 0, 29) 0.1632986068725586\n"
          ],
          "name": "stdout"
        }
      ]
    },
    {
      "cell_type": "code",
      "metadata": {
        "id": "OhLuTau7GNnp",
        "colab_type": "code",
        "colab": {
          "base_uri": "https://localhost:8080/",
          "height": 88
        },
        "outputId": "3ae2cca3-f995-4c27-c844-2c762b832c60"
      },
      "source": [
        "ssArima(serie_ven,1)"
      ],
      "execution_count": null,
      "outputs": [
        {
          "output_type": "stream",
          "text": [
            "/usr/local/lib/python3.6/dist-packages/statsmodels/tsa/stattools.py:541: FutureWarning: fft=True will become the default in a future version of statsmodels. To suppress this warning, explicitly set fft=False.\n",
            "  warnings.warn(msg, FutureWarning)\n"
          ],
          "name": "stderr"
        },
        {
          "output_type": "stream",
          "text": [
            "Arimalcap (24, 1, 4) 0.1517167091369629\n"
          ],
          "name": "stdout"
        }
      ]
    },
    {
      "cell_type": "code",
      "metadata": {
        "id": "OD9_mPVhGN_o",
        "colab_type": "code",
        "colab": {
          "base_uri": "https://localhost:8080/",
          "height": 88
        },
        "outputId": "6b872ff4-a787-4aa5-bf9e-3022c44ce607"
      },
      "source": [
        "ssArima(serie_rad,1)"
      ],
      "execution_count": null,
      "outputs": [
        {
          "output_type": "stream",
          "text": [
            "/usr/local/lib/python3.6/dist-packages/statsmodels/tsa/stattools.py:541: FutureWarning: fft=True will become the default in a future version of statsmodels. To suppress this warning, explicitly set fft=False.\n",
            "  warnings.warn(msg, FutureWarning)\n"
          ],
          "name": "stderr"
        },
        {
          "output_type": "stream",
          "text": [
            "Arimalcap (10, 1, 20) 0.1794757843017578\n"
          ],
          "name": "stdout"
        }
      ]
    },
    {
      "cell_type": "markdown",
      "metadata": {
        "id": "wjJ2nSc7vrOU",
        "colab_type": "text"
      },
      "source": [
        "#Test ARIMA"
      ]
    },
    {
      "cell_type": "code",
      "metadata": {
        "id": "Wyu-rYXAvxrJ",
        "colab_type": "code",
        "colab": {}
      },
      "source": [
        " from statsmodels.tsa.arima_model import ARIMA"
      ],
      "execution_count": null,
      "outputs": []
    },
    {
      "cell_type": "code",
      "metadata": {
        "id": "e2CyIu7n6s-b",
        "colab_type": "code",
        "colab": {}
      },
      "source": [
        "# from statsmodels.tsa.stattools import adfuller\n",
        "# from numpy import log\n",
        "# result = adfuller(serie_ven.dropna())\n",
        "# print('ADF Statistic: %f' % result[0])\n",
        "# print('p-value: %f' % result[1])\n"
      ],
      "execution_count": null,
      "outputs": []
    }
  ]
}