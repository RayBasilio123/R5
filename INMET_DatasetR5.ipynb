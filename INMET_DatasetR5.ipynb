{
  "nbformat": 4,
  "nbformat_minor": 0,
  "metadata": {
    "colab": {
      "name": "INMET_DatasetR5.ipynb",
      "provenance": [],
      "toc_visible": true,
      "authorship_tag": "ABX9TyPe5z6msMBCngks3yjghdQC",
      "include_colab_link": true
    },
    "kernelspec": {
      "name": "python3",
      "display_name": "Python 3"
    }
  },
  "cells": [
    {
      "cell_type": "markdown",
      "metadata": {
        "id": "view-in-github",
        "colab_type": "text"
      },
      "source": [
        "<a href=\"https://colab.research.google.com/github/RayBasilio123/R5/blob/master/INMET_DatasetR5.ipynb\" target=\"_parent\"><img src=\"https://colab.research.google.com/assets/colab-badge.svg\" alt=\"Open In Colab\"/></a>"
      ]
    },
    {
      "cell_type": "markdown",
      "metadata": {
        "id": "ZDICttJNyKLr",
        "colab_type": "text"
      },
      "source": [
        "#Data treatment"
      ]
    },
    {
      "cell_type": "code",
      "metadata": {
        "id": "fpzGU_lCpO9B",
        "colab_type": "code",
        "colab": {}
      },
      "source": [
        "#imports\n",
        "import warnings\n",
        "import itertools\n",
        "import pandas as pd\n",
        "import numpy as np\n",
        "import statsmodels.api as sm\n",
        "from datetime import timedelta\n",
        "import itertools\n",
        "from statsmodels.tsa.arima_model import ARIMA\n",
        "from tqdm import tqdm\n",
        "import matplotlib.pyplot as plt\n",
        "from matplotlib.pyplot import figure\n"
      ],
      "execution_count": 19,
      "outputs": []
    },
    {
      "cell_type": "code",
      "metadata": {
        "id": "3D__MBqcpfDD",
        "colab_type": "code",
        "colab": {}
      },
      "source": [
        "#setting parameters for graphics\n",
        "from matplotlib.pylab import rcParams\n",
        "rcParams['figure.figsize'] = 16,9"
      ],
      "execution_count": 20,
      "outputs": []
    },
    {
      "cell_type": "code",
      "metadata": {
        "id": "0AIc3KAwpjvn",
        "colab_type": "code",
        "colab": {}
      },
      "source": [
        "#reading file\n",
        "url = 'https://raw.githubusercontent.com/RayBasilio123/INMET_Dados_R3/master/a521%202018-2019.txt?token=AOAZ4LQMTS3RCAZRUPPPE427CDJIA'\n",
        "read_table = pd.read_table(url, delim_whitespace=True, usecols=[\"ID\",'ANO','MES','DIA','HORA',\"RAD\",\"VENTOVEL\"])\n",
        "df = pd.DataFrame(read_table)"
      ],
      "execution_count": 40,
      "outputs": []
    },
    {
      "cell_type": "code",
      "metadata": {
        "id": "9KbzTBM37wB8",
        "colab_type": "code",
        "colab": {}
      },
      "source": [
        ""
      ],
      "execution_count": 21,
      "outputs": []
    },
    {
      "cell_type": "code",
      "metadata": {
        "id": "wwGUW-Hr70Mu",
        "colab_type": "code",
        "colab": {}
      },
      "source": [
        ""
      ],
      "execution_count": 40,
      "outputs": []
    },
    {
      "cell_type": "code",
      "metadata": {
        "id": "Bol7sk6_qTMz",
        "colab_type": "code",
        "colab": {}
      },
      "source": [
        "#replacing negative radiation values\n",
        "df = df.assign(RAD = df.RAD.where(df.RAD.ge(0)))"
      ],
      "execution_count": 22,
      "outputs": []
    },
    {
      "cell_type": "code",
      "metadata": {
        "id": "dOxqMt-wqWzj",
        "colab_type": "code",
        "colab": {}
      },
      "source": [
        "#grouping dates \n",
        "source_col_loc = df.columns.get_loc('ID') \n",
        "\n",
        "df['datetime'] = df.iloc[:,source_col_loc+1:source_col_loc+5].apply(\n",
        "    lambda x: \"-\".join(x.astype(str)), axis=1)"
      ],
      "execution_count": 23,
      "outputs": []
    },
    {
      "cell_type": "code",
      "metadata": {
        "id": "8Mm6loWiqbat",
        "colab_type": "code",
        "colab": {
          "base_uri": "https://localhost:8080/",
          "height": 197
        },
        "outputId": "72f02ee4-2065-4c00-bc28-3f4b5c2ecca2"
      },
      "source": [
        "#mounting the datetime \n",
        "dataFormatada = pd.to_datetime(df['datetime'], format='%Y-%m-%d-%H')\n",
        "\n",
        "d = {'date':dataFormatada, 'ventovel': df['VENTOVEL'], 'radiacao': df['RAD'] }\n",
        "f= {'date': dataFormatada}\n",
        "\n",
        "dataFrame = pd.DataFrame(data=d).fillna(0) #datetime + ventovel + radiacao\n",
        "\n",
        "frameList = list(dataFrame.date) #list of all dates in 'dataFrame'\n",
        "dataFrame.head()"
      ],
      "execution_count": 24,
      "outputs": [
        {
          "output_type": "execute_result",
          "data": {
            "text/html": [
              "<div>\n",
              "<style scoped>\n",
              "    .dataframe tbody tr th:only-of-type {\n",
              "        vertical-align: middle;\n",
              "    }\n",
              "\n",
              "    .dataframe tbody tr th {\n",
              "        vertical-align: top;\n",
              "    }\n",
              "\n",
              "    .dataframe thead th {\n",
              "        text-align: right;\n",
              "    }\n",
              "</style>\n",
              "<table border=\"1\" class=\"dataframe\">\n",
              "  <thead>\n",
              "    <tr style=\"text-align: right;\">\n",
              "      <th></th>\n",
              "      <th>date</th>\n",
              "      <th>ventovel</th>\n",
              "      <th>radiacao</th>\n",
              "    </tr>\n",
              "  </thead>\n",
              "  <tbody>\n",
              "    <tr>\n",
              "      <th>0</th>\n",
              "      <td>2018-01-01 00:00:00</td>\n",
              "      <td>0.7</td>\n",
              "      <td>0.0</td>\n",
              "    </tr>\n",
              "    <tr>\n",
              "      <th>1</th>\n",
              "      <td>2018-01-01 01:00:00</td>\n",
              "      <td>0.8</td>\n",
              "      <td>0.0</td>\n",
              "    </tr>\n",
              "    <tr>\n",
              "      <th>2</th>\n",
              "      <td>2018-01-01 02:00:00</td>\n",
              "      <td>0.6</td>\n",
              "      <td>0.0</td>\n",
              "    </tr>\n",
              "    <tr>\n",
              "      <th>3</th>\n",
              "      <td>2018-01-01 03:00:00</td>\n",
              "      <td>0.3</td>\n",
              "      <td>0.0</td>\n",
              "    </tr>\n",
              "    <tr>\n",
              "      <th>4</th>\n",
              "      <td>2018-01-01 04:00:00</td>\n",
              "      <td>0.3</td>\n",
              "      <td>0.0</td>\n",
              "    </tr>\n",
              "  </tbody>\n",
              "</table>\n",
              "</div>"
            ],
            "text/plain": [
              "                 date  ventovel  radiacao\n",
              "0 2018-01-01 00:00:00       0.7       0.0\n",
              "1 2018-01-01 01:00:00       0.8       0.0\n",
              "2 2018-01-01 02:00:00       0.6       0.0\n",
              "3 2018-01-01 03:00:00       0.3       0.0\n",
              "4 2018-01-01 04:00:00       0.3       0.0"
            ]
          },
          "metadata": {
            "tags": []
          },
          "execution_count": 24
        }
      ]
    },
    {
      "cell_type": "code",
      "metadata": {
        "id": "zCvPc7zWqj7L",
        "colab_type": "code",
        "colab": {}
      },
      "source": [
        "#creating all dates \n",
        "#date_list = [pd.to_datetime('2018-01-01 01:00:00') + timedelta(hours=x) for x in range(date.shape[date])] (RASCUNHO)\n",
        "\n",
        "serieStart = '2018-01-01 00:00:00' \n",
        "serieEnd = '2019-12-31 23:00:00'\n",
        "\n",
        "date = pd.date_range(start=serieStart, end=serieEnd, freq='1H')\n",
        "\n",
        "dt = {'date': date}\n",
        "frameDate = date #list of dates all dates in 'date'\n"
      ],
      "execution_count": 25,
      "outputs": []
    },
    {
      "cell_type": "code",
      "metadata": {
        "id": "1yao2Pv3qryI",
        "colab_type": "code",
        "colab": {}
      },
      "source": [
        "#including the missing dates + nan values\n",
        "\n",
        "new_dates = []\n",
        "new_values_ventovel = []\n",
        "new_values_rad = []\n",
        "\n",
        "for i in frameDate:\n",
        "  if i in frameList:\n",
        "    new_dates.append(i)\n",
        "    new_values_ventovel.append(float(dataFrame[dataFrame['date']==i]['ventovel']))\n",
        "    new_values_rad.append(float(dataFrame[dataFrame['date']==i]['radiacao']))\n",
        "  else:\n",
        "    new_dates.append(i)\n",
        "    new_values_ventovel.append(np.nan)\n",
        "    new_values_rad.append(np.nan)"
      ],
      "execution_count": 26,
      "outputs": []
    },
    {
      "cell_type": "code",
      "metadata": {
        "id": "3WAqDo1eq5RW",
        "colab_type": "code",
        "colab": {
          "base_uri": "https://localhost:8080/",
          "height": 123
        },
        "outputId": "8d6e0ab6-7871-4b91-f9f8-2a5986a4f19e"
      },
      "source": [
        "#transforming data in series end interpolate NaN values\n",
        "index = pd.DatetimeIndex(new_dates)\n",
        "series_ventovel = pd.Series(new_values_ventovel, index=index).interpolate()\n",
        "series_radiacao = pd.Series(new_values_rad, index=index).interpolate()\n",
        "series_ventovel.head()"
      ],
      "execution_count": 27,
      "outputs": [
        {
          "output_type": "execute_result",
          "data": {
            "text/plain": [
              "2018-01-01 00:00:00    0.7\n",
              "2018-01-01 01:00:00    0.8\n",
              "2018-01-01 02:00:00    0.6\n",
              "2018-01-01 03:00:00    0.3\n",
              "2018-01-01 04:00:00    0.3\n",
              "dtype: float64"
            ]
          },
          "metadata": {
            "tags": []
          },
          "execution_count": 27
        }
      ]
    },
    {
      "cell_type": "code",
      "metadata": {
        "id": "llLL0uWxq_TL",
        "colab_type": "code",
        "colab": {}
      },
      "source": [
        "#exporting to csv\n",
        "series_ventovel.to_csv('/content/sample_data/series_ventovel')\n",
        "series_radiacao.to_csv('/content/sample_data/series_radiacao')"
      ],
      "execution_count": 28,
      "outputs": []
    },
    {
      "cell_type": "markdown",
      "metadata": {
        "id": "Q_031ywtyFcE",
        "colab_type": "text"
      },
      "source": [
        "#ANALYZING DATA"
      ]
    },
    {
      "cell_type": "code",
      "metadata": {
        "id": "c8fxzMhZyZhz",
        "colab_type": "code",
        "colab": {
          "base_uri": "https://localhost:8080/",
          "height": 197
        },
        "outputId": "dd524da7-3595-4e80-ded1-e9166f03266e"
      },
      "source": [
        "from statsmodels.tsa.stattools import acf, pacf\n",
        "import numpy as np\n",
        "import pandas as pd\n",
        "\n",
        "serie_rad = pd.read_csv('/content/sample_data/series_radiacao', header=0, index_col=0)\n",
        "serie_ven = pd.read_csv('/content/sample_data/series_ventovel', header=0, index_col=0)\n",
        "serie_ven.head()"
      ],
      "execution_count": 29,
      "outputs": [
        {
          "output_type": "execute_result",
          "data": {
            "text/html": [
              "<div>\n",
              "<style scoped>\n",
              "    .dataframe tbody tr th:only-of-type {\n",
              "        vertical-align: middle;\n",
              "    }\n",
              "\n",
              "    .dataframe tbody tr th {\n",
              "        vertical-align: top;\n",
              "    }\n",
              "\n",
              "    .dataframe thead th {\n",
              "        text-align: right;\n",
              "    }\n",
              "</style>\n",
              "<table border=\"1\" class=\"dataframe\">\n",
              "  <thead>\n",
              "    <tr style=\"text-align: right;\">\n",
              "      <th></th>\n",
              "      <th>0</th>\n",
              "    </tr>\n",
              "  </thead>\n",
              "  <tbody>\n",
              "    <tr>\n",
              "      <th>2018-01-01 00:00:00</th>\n",
              "      <td>0.7</td>\n",
              "    </tr>\n",
              "    <tr>\n",
              "      <th>2018-01-01 01:00:00</th>\n",
              "      <td>0.8</td>\n",
              "    </tr>\n",
              "    <tr>\n",
              "      <th>2018-01-01 02:00:00</th>\n",
              "      <td>0.6</td>\n",
              "    </tr>\n",
              "    <tr>\n",
              "      <th>2018-01-01 03:00:00</th>\n",
              "      <td>0.3</td>\n",
              "    </tr>\n",
              "    <tr>\n",
              "      <th>2018-01-01 04:00:00</th>\n",
              "      <td>0.3</td>\n",
              "    </tr>\n",
              "  </tbody>\n",
              "</table>\n",
              "</div>"
            ],
            "text/plain": [
              "                       0\n",
              "2018-01-01 00:00:00  0.7\n",
              "2018-01-01 01:00:00  0.8\n",
              "2018-01-01 02:00:00  0.6\n",
              "2018-01-01 03:00:00  0.3\n",
              "2018-01-01 04:00:00  0.3"
            ]
          },
          "metadata": {
            "tags": []
          },
          "execution_count": 29
        }
      ]
    },
    {
      "cell_type": "code",
      "metadata": {
        "id": "BDzYi4gi-o7Q",
        "colab_type": "code",
        "colab": {}
      },
      "source": [
        "p, c = pacf(serie_ven,nlags=168, alpha=0.05)"
      ],
      "execution_count": 30,
      "outputs": []
    },
    {
      "cell_type": "code",
      "metadata": {
        "id": "3p1XE6m5mKNg",
        "colab_type": "code",
        "colab": {
          "base_uri": "https://localhost:8080/",
          "height": 622
        },
        "outputId": "e927ebbf-05e6-42bc-e2af-986cf821e1ae"
      },
      "source": [
        "\n",
        "p2, c2 = acf((serie_ven.values[:-1] - serie_ven.values[1:]),nlags=168, alpha=0.05)\n",
        "#fazer :\n",
        "#ACF -> Sem Diff e com Diff para achar o Q \n",
        "#PACF-> Sem Diff e com Diff para achar o P\n",
        "#d = 0 , q0 -> ACF e p0-> PACF\n",
        "# d = 1 , q1 -> ACF e p1-> PACF\n",
        "# ARIMA(p0,d0,q0)\n",
        "# ARIMA(p1,d1,q1)\n",
        "\n",
        "plt.plot(p2,'o')\n",
        "plt.plot(c2[:,1]-p2)\n",
        "plt.plot(c2[:,0]-p2)\n",
        "plt.title('Serie Temporal de Velocidade do Vento ACF ')\n",
        "plt.xlabel('lags em Horas')\n",
        "plt.ylabel('Correlação')\n",
        "plt.show()"
      ],
      "execution_count": 31,
      "outputs": [
        {
          "output_type": "stream",
          "text": [
            "/usr/local/lib/python3.6/dist-packages/statsmodels/tsa/stattools.py:541: FutureWarning: fft=True will become the default in a future version of statsmodels. To suppress this warning, explicitly set fft=False.\n",
            "  warnings.warn(msg, FutureWarning)\n"
          ],
          "name": "stderr"
        },
        {
          "output_type": "display_data",
          "data": {
            "image/png": "[encoded data removed]",
            "text/plain": [
              "<Figure size 1152x648 with 1 Axes>"
            ]
          },
          "metadata": {
            "tags": [],
            "needs_background": "light"
          }
        }
      ]
    },
    {
      "cell_type": "code",
      "metadata": {
        "id": "nIWmfR9H1TAR",
        "colab_type": "code",
        "colab": {
          "base_uri": "https://localhost:8080/",
          "height": 566
        },
        "outputId": "37c3a8d2-0edc-4053-e8a9-db94ebca3435"
      },
      "source": [
        "import matplotlib.pyplot as plt\n",
        "plt.plot(p,'o')\n",
        "plt.plot(c[:,1]-p)\n",
        "plt.plot(c[:,0]-p)\n",
        "plt.title('Serie Temporal de Velocidade do Vento PACF')\n",
        "plt.xlabel('lags em Horas')\n",
        "plt.ylabel('Correlação')\n",
        "plt.show()"
      ],
      "execution_count": 32,
      "outputs": [
        {
          "output_type": "display_data",
          "data": {
            "image/png": "[encoded data removed]",
            "text/plain": [
              "<Figure size 1152x648 with 1 Axes>"
            ]
          },
          "metadata": {
            "tags": [],
            "needs_background": "light"
          }
        }
      ]
    },
    {
      "cell_type": "code",
      "metadata": {
        "id": "m4mnP7MeCjm6",
        "colab_type": "code",
        "colab": {
          "base_uri": "https://localhost:8080/",
          "height": 34
        },
        "outputId": "2535dccb-bee0-4f1e-ec33-f32e48f25b97"
      },
      "source": [
        "cont_Ordem = 0\n",
        "for _p,_c0,_c1 in zip(p,c[:,0],c[:,1]):\n",
        "  if _p > (_c1-_p) or _p < (_c0-_p):\n",
        "    cont_Ordem+=1\n",
        "  else:\n",
        "    break\n",
        "print(cont_Ordem)  "
      ],
      "execution_count": 33,
      "outputs": [
        {
          "output_type": "stream",
          "text": [
            "5\n"
          ],
          "name": "stdout"
        }
      ]
    },
    {
      "cell_type": "code",
      "metadata": {
        "colab_type": "code",
        "id": "nkAkDgGAV0-5",
        "colab": {}
      },
      "source": [
        "cont = 0\n",
        "lista_Relevancia = []\n",
        "for _p,_c0,_c1 in zip(p,c[:,0],c[:,1]):\n",
        "  if _p > (_c1-_p) or _p < (_c0-_p):\n",
        "    lista_Relevancia.append(1)\n",
        "    \n",
        "  else:\n",
        "    lista_Relevancia.append(0)\n",
        " \n"
      ],
      "execution_count": 34,
      "outputs": []
    },
    {
      "cell_type": "code",
      "metadata": {
        "id": "8EEjU_9zVzbA",
        "colab_type": "code",
        "colab": {
          "base_uri": "https://localhost:8080/",
          "height": 1000
        },
        "outputId": "481df08c-7f4f-4763-9c17-73d8c94612d2"
      },
      "source": [
        "lista_Relevancia"
      ],
      "execution_count": 35,
      "outputs": [
        {
          "output_type": "execute_result",
          "data": {
            "text/plain": [
              "[1,\n",
              " 1,\n",
              " 1,\n",
              " 1,\n",
              " 1,\n",
              " 0,\n",
              " 0,\n",
              " 0,\n",
              " 0,\n",
              " 1,\n",
              " 1,\n",
              " 1,\n",
              " 0,\n",
              " 1,\n",
              " 1,\n",
              " 1,\n",
              " 1,\n",
              " 1,\n",
              " 1,\n",
              " 1,\n",
              " 1,\n",
              " 1,\n",
              " 1,\n",
              " 1,\n",
              " 1,\n",
              " 0,\n",
              " 1,\n",
              " 1,\n",
              " 1,\n",
              " 1,\n",
              " 1,\n",
              " 1,\n",
              " 0,\n",
              " 0,\n",
              " 1,\n",
              " 1,\n",
              " 0,\n",
              " 0,\n",
              " 0,\n",
              " 0,\n",
              " 0,\n",
              " 1,\n",
              " 0,\n",
              " 1,\n",
              " 1,\n",
              " 1,\n",
              " 1,\n",
              " 1,\n",
              " 0,\n",
              " 0,\n",
              " 1,\n",
              " 1,\n",
              " 0,\n",
              " 0,\n",
              " 0,\n",
              " 0,\n",
              " 0,\n",
              " 1,\n",
              " 1,\n",
              " 0,\n",
              " 0,\n",
              " 0,\n",
              " 0,\n",
              " 0,\n",
              " 1,\n",
              " 1,\n",
              " 0,\n",
              " 1,\n",
              " 1,\n",
              " 0,\n",
              " 1,\n",
              " 1,\n",
              " 0,\n",
              " 0,\n",
              " 1,\n",
              " 0,\n",
              " 0,\n",
              " 0,\n",
              " 0,\n",
              " 0,\n",
              " 0,\n",
              " 0,\n",
              " 1,\n",
              " 0,\n",
              " 0,\n",
              " 0,\n",
              " 0,\n",
              " 0,\n",
              " 0,\n",
              " 1,\n",
              " 0,\n",
              " 1,\n",
              " 0,\n",
              " 1,\n",
              " 1,\n",
              " 1,\n",
              " 0,\n",
              " 0,\n",
              " 0,\n",
              " 0,\n",
              " 0,\n",
              " 0,\n",
              " 0,\n",
              " 0,\n",
              " 0,\n",
              " 0,\n",
              " 0,\n",
              " 0,\n",
              " 0,\n",
              " 0,\n",
              " 0,\n",
              " 0,\n",
              " 0,\n",
              " 0,\n",
              " 1,\n",
              " 1,\n",
              " 0,\n",
              " 1,\n",
              " 1,\n",
              " 0,\n",
              " 1,\n",
              " 0,\n",
              " 1,\n",
              " 0,\n",
              " 0,\n",
              " 0,\n",
              " 0,\n",
              " 1,\n",
              " 0,\n",
              " 0,\n",
              " 0,\n",
              " 0,\n",
              " 0,\n",
              " 0,\n",
              " 0,\n",
              " 0,\n",
              " 0,\n",
              " 0,\n",
              " 0,\n",
              " 0,\n",
              " 0,\n",
              " 1,\n",
              " 0,\n",
              " 1,\n",
              " 0,\n",
              " 0,\n",
              " 0,\n",
              " 0,\n",
              " 0,\n",
              " 0,\n",
              " 1,\n",
              " 0,\n",
              " 0,\n",
              " 1,\n",
              " 0,\n",
              " 0,\n",
              " 1,\n",
              " 0,\n",
              " 0,\n",
              " 0,\n",
              " 0,\n",
              " 0,\n",
              " 0,\n",
              " 0,\n",
              " 1,\n",
              " 1,\n",
              " 1,\n",
              " 0,\n",
              " 0]"
            ]
          },
          "metadata": {
            "tags": []
          },
          "execution_count": 35
        }
      ]
    },
    {
      "cell_type": "code",
      "metadata": {
        "id": "eHMfty_nWEMu",
        "colab_type": "code",
        "colab": {}
      },
      "source": [
        "p1, c1 = pacf(serie_rad,nlags=168, alpha=0.05)"
      ],
      "execution_count": 36,
      "outputs": []
    },
    {
      "cell_type": "code",
      "metadata": {
        "id": "xXr8RcgVWNUW",
        "colab_type": "code",
        "colab": {
          "base_uri": "https://localhost:8080/",
          "height": 566
        },
        "outputId": "3e00e64f-27ae-40e8-cce0-a7e824e603a7"
      },
      "source": [
        "import matplotlib.pyplot as plt\n",
        "plt.plot(p1,'o')\n",
        "plt.plot(c1[:,1]-p1)\n",
        "plt.plot(c1[:,0]-p1)\n",
        "plt.title('Serie Temporal do Indice de Radição ')\n",
        "plt.xlabel('lags em Horas')\n",
        "plt.ylabel('Correlação')\n",
        "plt.show()"
      ],
      "execution_count": 37,
      "outputs": [
        {
          "output_type": "display_data",
          "data": {
            "image/png": "[encoded data removed]",
            "text/plain": [
              "<Figure size 1152x648 with 1 Axes>"
            ]
          },
          "metadata": {
            "tags": [],
            "needs_background": "light"
          }
        }
      ]
    },
    {
      "cell_type": "code",
      "metadata": {
        "id": "lbObiS5-Waed",
        "colab_type": "code",
        "colab": {
          "base_uri": "https://localhost:8080/",
          "height": 34
        },
        "outputId": "015f47c6-5056-4372-8cdb-36c8361591ce"
      },
      "source": [
        "cont_Ordem = 0\n",
        "for _p,_c0,_c1 in zip(p1,c1[:,0],c1[:,1]):\n",
        "  if _p > (_c1-_p) or _p < (_c0-_p):\n",
        "    cont_Ordem+=1\n",
        "  else:\n",
        "    break\n",
        "print(cont_Ordem)  "
      ],
      "execution_count": 38,
      "outputs": [
        {
          "output_type": "stream",
          "text": [
            "30\n"
          ],
          "name": "stdout"
        }
      ]
    },
    {
      "cell_type": "code",
      "metadata": {
        "id": "AC6Vm43zYYOX",
        "colab_type": "code",
        "colab": {}
      },
      "source": [
        "cont = 0\n",
        "lista_Relevancia = []\n",
        "for _p,_c0,_c1 in zip(p,c[:,0],c[:,1]):\n",
        "  if _p > (_c1-_p) or _p < (_c0-_p):\n",
        "    lista_Relevancia.append(1)\n",
        "    \n",
        "  else:\n",
        "    lista_Relevancia.append(0)\n",
        " "
      ],
      "execution_count": 39,
      "outputs": []
    }
  ]
}