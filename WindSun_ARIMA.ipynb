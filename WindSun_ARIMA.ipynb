{
  "nbformat": 4,
  "nbformat_minor": 0,
  "metadata": {
    "colab": {
      "name": "WindSun_ARIMA.ipynb",
      "provenance": [],
      "collapsed_sections": [],
      "include_colab_link": true
    },
    "kernelspec": {
      "name": "python3",
      "display_name": "Python 3"
    }
  },
  "cells": [
    {
      "cell_type": "markdown",
      "metadata": {
        "id": "view-in-github",
        "colab_type": "text"
      },
      "source": [
        "<a href=\"https://colab.research.google.com/github/RayBasilio123/R5/blob/master/WindSun_ARIMA.ipynb\" target=\"_parent\"><img src=\"https://colab.research.google.com/assets/colab-badge.svg\" alt=\"Open In Colab\"/></a>"
      ]
    },
    {
      "cell_type": "markdown",
      "metadata": {
        "id": "W6zRVi0HNF31",
        "colab_type": "text"
      },
      "source": [
        "# Algoritmo ARIMA para Previsão de Séries Temporais com base nos dados do INMET"
      ]
    },
    {
      "cell_type": "markdown",
      "metadata": {
        "id": "9X2sSfSANQsf",
        "colab_type": "text"
      },
      "source": [
        "## Obtendo os dados atráves do github"
      ]
    },
    {
      "cell_type": "code",
      "metadata": {
        "id": "Kbpd7SI2MUrk",
        "colab_type": "code",
        "colab": {
          "base_uri": "https://localhost:8080/",
          "height": 71
        },
        "outputId": "6d523031-0dd0-492f-d250-f097b5e460ad"
      },
      "source": [
        "#imports\n",
        "import pandas as pd\n",
        "import numpy as np\n",
        "from datetime import timedelta\n",
        "import statsmodels.api as sm\n",
        "import time"
      ],
      "execution_count": 1,
      "outputs": [
        {
          "output_type": "stream",
          "text": [
            "/usr/local/lib/python3.6/dist-packages/statsmodels/tools/_testing.py:19: FutureWarning: pandas.util.testing is deprecated. Use the functions in the public API at pandas.testing instead.\n",
            "  import pandas.util.testing as tm\n"
          ],
          "name": "stderr"
        }
      ]
    },
    {
      "cell_type": "code",
      "metadata": {
        "id": "I0vnWCO9MdHC",
        "colab_type": "code",
        "colab": {}
      },
      "source": [
        "#obtem os dados\n",
        "url1 = 'https://raw.githubusercontent.com/lrssv/TimeSeriesForecastingWindSun/master/series_ventovel_pampulha_2018_2019'\n",
        "url2 = 'https://raw.githubusercontent.com/lrssv/TimeSeriesForecastingWindSun/master/series_radiacao_pampulha_2018_2019'\n",
        "url3 = 'https://raw.githubusercontent.com/RayBasilio123/R5/master/Eto'\n",
        "\n",
        "df_ventovel = pd.read_csv(url1, header=0, parse_dates=[0], index_col=0, squeeze=True)\n",
        "df_radiacao = pd.read_csv(url2, header=0, parse_dates=[0], index_col=0, squeeze=True)\n",
        "df_eto = pd.read_csv(url3, header=0, parse_dates=[0], index_col=0, squeeze=True)\n",
        "\n",
        "series_ventovel = pd.Series(df_ventovel)\n",
        "series_radiacao = pd.Series(df_radiacao)\n",
        "series_eto = pd.Series(df_eto)\n",
        "\n"
      ],
      "execution_count": 2,
      "outputs": []
    },
    {
      "cell_type": "code",
      "metadata": {
        "id": "-Tuxa2NfK7gB",
        "colab_type": "code",
        "colab": {
          "base_uri": "https://localhost:8080/",
          "height": 34
        },
        "outputId": "5e0326c2-73ea-470d-e77c-a3f0e8625e62"
      },
      "source": [
        "series_eto.index.max()"
      ],
      "execution_count": 3,
      "outputs": [
        {
          "output_type": "execute_result",
          "data": {
            "text/plain": [
              "Timestamp('2019-12-31 00:00:00')"
            ]
          },
          "metadata": {
            "tags": []
          },
          "execution_count": 3
        }
      ]
    },
    {
      "cell_type": "markdown",
      "metadata": {
        "id": "MkYRtdxrNbsy",
        "colab_type": "text"
      },
      "source": [
        "## ARIMA \n"
      ]
    },
    {
      "cell_type": "code",
      "metadata": {
        "id": "2dT2fVGcEWoc",
        "colab_type": "code",
        "colab": {}
      },
      "source": [
        "def run_arima(series, steps_ahead, configuracao):\n",
        "  result = []\n",
        "  \n",
        "  #Lista de data+hora que será previsto\n",
        "  begin = series.index.max() + timedelta(days=0)\n",
        "  date_list = [begin + timedelta(hours=x) for x in range(1,steps_ahead+1)]\n",
        "  \n",
        "  #Valores da série\n",
        "  values = series.values\n",
        "\n",
        "  #ARIMA\n",
        "  start_fit = time.time()\n",
        "  mod = sm.tsa.statespace.SARIMAX(values, order=configuracao)\n",
        "  res = mod.fit(disp=False)\n",
        "  t_fit = time.time() - start_fit\n",
        "  \n",
        "  start_fcast = time.time() \n",
        "  forecast = res.forecast(steps=steps_ahead)\n",
        "  t_fcast = time.time() - start_fcast \n",
        "  \n",
        "  #Resultado no formato para ser exibido no gráfico\n",
        "  for i in range(steps_ahead):\n",
        "    if forecast[i] < 0: \n",
        "      result.append([date_list[i].strftime('%d/%m/%Y %H:%M:%S'),0])\n",
        "    else:\n",
        "      result.append([date_list[i].strftime('%d/%m/%Y %H:%M:%S'),round((forecast[i]),3)])\n",
        "\n",
        "  return result, t_fit, t_fcast"
      ],
      "execution_count": 4,
      "outputs": []
    },
    {
      "cell_type": "code",
      "metadata": {
        "id": "Nfm-lP4XHmSs",
        "colab_type": "code",
        "colab": {}
      },
      "source": [
        "def run_arimaDay(series, steps_ahead, configuracao):\n",
        "  result = []\n",
        "  \n",
        "  #Lista de data+hora que será previsto\n",
        "  begin = series.index.max() + timedelta(days=0)\n",
        "  date_list = [begin + timedelta(days=x) for x in range(1,steps_ahead+1)]\n",
        "  \n",
        "  #Valores da série\n",
        "  values = series.values\n",
        "\n",
        "  #ARIMA\n",
        "  start_fit = time.time()\n",
        "  mod = sm.tsa.statespace.SARIMAX(values, order=configuracao)\n",
        "  res = mod.fit(disp=False)\n",
        "  t_fit = time.time() - start_fit\n",
        "  \n",
        "  start_fcast = time.time() \n",
        "  forecast = res.forecast(steps=steps_ahead)\n",
        "  t_fcast = time.time() - start_fcast \n",
        "  \n",
        "  #Resultado no formato para ser exibido no gráfico\n",
        "  for i in range(steps_ahead):\n",
        "    if forecast[i] < 0: \n",
        "      result.append([date_list[i].strftime('%d/%m/%Y '),0])\n",
        "    else:\n",
        "      result.append([date_list[i].strftime('%d/%m/%Y '),round((forecast[i]),3)])\n",
        "\n",
        "  return result, t_fit, t_fcast"
      ],
      "execution_count": 5,
      "outputs": []
    },
    {
      "cell_type": "markdown",
      "metadata": {
        "id": "d9kgW_3xCKOd",
        "colab_type": "text"
      },
      "source": [
        "Configurações:"
      ]
    },
    {
      "cell_type": "code",
      "metadata": {
        "id": "WG3ru75J6AuO",
        "colab_type": "code",
        "colab": {}
      },
      "source": [
        "order_ven = (12,1,0)"
      ],
      "execution_count": 6,
      "outputs": []
    },
    {
      "cell_type": "code",
      "metadata": {
        "id": "wTPQvLr9CJBT",
        "colab_type": "code",
        "colab": {}
      },
      "source": [
        "order_rad = (2,1,4) #auto"
      ],
      "execution_count": 7,
      "outputs": []
    },
    {
      "cell_type": "code",
      "metadata": {
        "id": "verv1hDkLSBz",
        "colab_type": "code",
        "colab": {}
      },
      "source": [
        "order_rad = (24,0,24) #graficos\n",
        "order_eto1 = (6, 0, 41) #graficos\n",
        "order_eto2 = (5, 1, 2) #graficos"
      ],
      "execution_count": 8,
      "outputs": []
    },
    {
      "cell_type": "markdown",
      "metadata": {
        "id": "IJhNX0pzc0CC",
        "colab_type": "text"
      },
      "source": [
        "## Previsão 1 hora a frente"
      ]
    },
    {
      "cell_type": "code",
      "metadata": {
        "id": "1LJbvvDJcziH",
        "colab_type": "code",
        "colab": {
          "base_uri": "https://localhost:8080/",
          "height": 34
        },
        "outputId": "f7416eeb-b0dd-4b21-fb92-badc16a20eeb"
      },
      "source": [
        "result_ven_1 = run_arima(series_ventovel,1,order_ven)\n",
        "result_ven_1"
      ],
      "execution_count": 9,
      "outputs": [
        {
          "output_type": "execute_result",
          "data": {
            "text/plain": [
              "([['01/01/2020 00:00:00', 2.477]], 5.642815828323364, 0.25826549530029297)"
            ]
          },
          "metadata": {
            "tags": []
          },
          "execution_count": 9
        }
      ]
    },
    {
      "cell_type": "code",
      "metadata": {
        "id": "dWFu5llRc5Y4",
        "colab_type": "code",
        "colab": {
          "base_uri": "https://localhost:8080/",
          "height": 105
        },
        "outputId": "8a1f6d80-a228-4e55-d261-f90b194c1945"
      },
      "source": [
        "result_rad_1 = run_arima(series_radiacao,1,order_rad)\n",
        "result_rad_1"
      ],
      "execution_count": null,
      "outputs": [
        {
          "output_type": "stream",
          "text": [
            "/usr/local/lib/python3.6/dist-packages/statsmodels/tsa/statespace/sarimax.py:949: UserWarning: Non-stationary starting autoregressive parameters found. Using zeros as starting parameters.\n",
            "  warn('Non-stationary starting autoregressive parameters'\n",
            "/usr/local/lib/python3.6/dist-packages/statsmodels/tsa/statespace/sarimax.py:961: UserWarning: Non-invertible starting MA parameters found. Using zeros as starting parameters.\n",
            "  warn('Non-invertible starting MA parameters found.'\n"
          ],
          "name": "stderr"
        }
      ]
    },
    {
      "cell_type": "markdown",
      "metadata": {
        "id": "imQp2fgbuGT-",
        "colab_type": "text"
      },
      "source": [
        "## Previsão 1 dia a frente"
      ]
    },
    {
      "cell_type": "code",
      "metadata": {
        "id": "b6YeCfpqXDXE",
        "colab_type": "code",
        "colab": {}
      },
      "source": [
        "result_ven_1 = run_arima(series_ventovel,24,order_ven)\n",
        "result_ven_1"
      ],
      "execution_count": null,
      "outputs": []
    },
    {
      "cell_type": "code",
      "metadata": {
        "id": "frZrbKYzL4mm",
        "colab_type": "code",
        "colab": {}
      },
      "source": [
        "result_rad_1 = run_arima(series_radiacao,24,order_rad)\n",
        "result_rad_1"
      ],
      "execution_count": null,
      "outputs": []
    },
    {
      "cell_type": "code",
      "metadata": {
        "id": "huB_cLz3vqIn",
        "colab_type": "code",
        "colab": {}
      },
      "source": [
        "df_eto_1 = run_arimaDay(series_eto,1,order_eto2)\n",
        "df_eto_1"
      ],
      "execution_count": null,
      "outputs": []
    },
    {
      "cell_type": "markdown",
      "metadata": {
        "id": "Tilb661tiFkQ",
        "colab_type": "text"
      },
      "source": [
        "## Previsão 3 dias a frente"
      ]
    },
    {
      "cell_type": "code",
      "metadata": {
        "id": "NajnNZl5iAem",
        "colab_type": "code",
        "colab": {}
      },
      "source": [
        "df_eto_2 = run_arimaDay(series_eto,3,order_eto2)\n",
        "df_eto_2"
      ],
      "execution_count": null,
      "outputs": []
    },
    {
      "cell_type": "markdown",
      "metadata": {
        "id": "TK7bOyHFMiD_",
        "colab_type": "text"
      },
      "source": [
        "## Previsão 7 dias a frente"
      ]
    },
    {
      "cell_type": "code",
      "metadata": {
        "id": "o19IDS70Mkf-",
        "colab_type": "code",
        "colab": {}
      },
      "source": [
        "result_ven_2 = run_arima(series_ventovel,168,order_ven)\n",
        "result_ven_2"
      ],
      "execution_count": null,
      "outputs": []
    },
    {
      "cell_type": "code",
      "metadata": {
        "id": "jyEdtiQtGM_O",
        "colab_type": "code",
        "colab": {}
      },
      "source": [
        "result_rad_2 = run_arima(series_radiacao,168,order_rad)\n",
        "result_rad_2"
      ],
      "execution_count": null,
      "outputs": []
    },
    {
      "cell_type": "code",
      "metadata": {
        "id": "pq8m_Pl10H4F",
        "colab_type": "code",
        "colab": {}
      },
      "source": [
        "df_eto_3 = run_arimaDay(series_eto,7,order_eto2)\n",
        "df_eto_3"
      ],
      "execution_count": null,
      "outputs": []
    },
    {
      "cell_type": "markdown",
      "metadata": {
        "id": "kXQU8COQAJBc",
        "colab_type": "text"
      },
      "source": [
        "## Previsão 10 dias a frente"
      ]
    },
    {
      "cell_type": "code",
      "metadata": {
        "id": "eWzkJqNBBBks",
        "colab_type": "code",
        "colab": {}
      },
      "source": [
        "df_eto_4 = run_arimaDay(series_eto,30,order_eto2)\n",
        "df_eto_4"
      ],
      "execution_count": null,
      "outputs": []
    }
  ]
}