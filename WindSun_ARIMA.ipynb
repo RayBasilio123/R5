{
  "nbformat": 4,
  "nbformat_minor": 0,
  "metadata": {
    "colab": {
      "name": "WindSun_ARIMA.ipynb",
      "provenance": [],
      "collapsed_sections": [],
      "include_colab_link": true
    },
    "kernelspec": {
      "name": "python3",
      "display_name": "Python 3"
    }
  },
  "cells": [
    {
      "cell_type": "markdown",
      "metadata": {
        "id": "view-in-github",
        "colab_type": "text"
      },
      "source": [
        "<a href=\"https://colab.research.google.com/github/RayBasilio123/R5/blob/master/WindSun_ARIMA.ipynb\" target=\"_parent\"><img src=\"https://colab.research.google.com/assets/colab-badge.svg\" alt=\"Open In Colab\"/></a>"
      ]
    },
    {
      "cell_type": "markdown",
      "metadata": {
        "id": "W6zRVi0HNF31",
        "colab_type": "text"
      },
      "source": [
        "# Algoritmo ARIMA para Previsão de Séries Temporais com base nos dados do INMET"
      ]
    },
    {
      "cell_type": "markdown",
      "metadata": {
        "id": "9X2sSfSANQsf",
        "colab_type": "text"
      },
      "source": [
        "## Obtendo os dados atráves do github"
      ]
    },
    {
      "cell_type": "code",
      "metadata": {
        "id": "Kbpd7SI2MUrk",
        "colab_type": "code",
        "colab": {}
      },
      "source": [
        "#imports\n",
        "import pandas as pd\n",
        "import numpy as np\n",
        "from datetime import timedelta\n",
        "import statsmodels.api as sm\n",
        "import time"
      ],
      "execution_count": 16,
      "outputs": []
    },
    {
      "cell_type": "code",
      "metadata": {
        "id": "I0vnWCO9MdHC",
        "colab_type": "code",
        "colab": {}
      },
      "source": [
        "#obtem os dados\n",
        "url1 = 'https://raw.githubusercontent.com/lrssv/TimeSeriesForecastingWindSun/master/series_ventovel_pampulha_2018_2019'\n",
        "url2 = 'https://raw.githubusercontent.com/lrssv/TimeSeriesForecastingWindSun/master/series_radiacao_pampulha_2018_2019'\n",
        "url3 = 'https://raw.githubusercontent.com/RayBasilio123/R5/master/Eto'\n",
        "\n",
        "df_ventovel = pd.read_csv(url1, header=0, parse_dates=[0], index_col=0, squeeze=True)\n",
        "df_radiacao = pd.read_csv(url2, header=0, parse_dates=[0], index_col=0, squeeze=True)\n",
        "df_eto = pd.read_csv(url3, header=0, parse_dates=[0], index_col=0, squeeze=True)\n",
        "\n",
        "series_ventovel = pd.Series(df_ventovel)\n",
        "series_radiacao = pd.Series(df_radiacao)\n",
        "series_eto = pd.Series(df_eto)\n",
        "\n"
      ],
      "execution_count": 17,
      "outputs": []
    },
    {
      "cell_type": "code",
      "metadata": {
        "id": "-Tuxa2NfK7gB",
        "colab_type": "code",
        "colab": {
          "base_uri": "https://localhost:8080/",
          "height": 34
        },
        "outputId": "09d4bfb0-0308-47cb-8b19-a0108f2a2a97"
      },
      "source": [
        "series_eto.index.max()"
      ],
      "execution_count": 18,
      "outputs": [
        {
          "output_type": "execute_result",
          "data": {
            "text/plain": [
              "Timestamp('2019-12-31 00:00:00')"
            ]
          },
          "metadata": {
            "tags": []
          },
          "execution_count": 18
        }
      ]
    },
    {
      "cell_type": "markdown",
      "metadata": {
        "id": "MkYRtdxrNbsy",
        "colab_type": "text"
      },
      "source": [
        "## ARIMA \n"
      ]
    },
    {
      "cell_type": "code",
      "metadata": {
        "id": "2dT2fVGcEWoc",
        "colab_type": "code",
        "colab": {}
      },
      "source": [
        "def run_arima(series, steps_ahead, configuracao):\n",
        "  result = []\n",
        "  \n",
        "  #Lista de data+hora que será previsto\n",
        "  begin = series.index.max() + timedelta(days=0)\n",
        "  date_list = [begin + timedelta(hours=x) for x in range(1,steps_ahead+1)]\n",
        "  \n",
        "  #Valores da série\n",
        "  values = series.values\n",
        "\n",
        "  #ARIMA\n",
        "  start_fit = time.time()\n",
        "  mod = sm.tsa.statespace.SARIMAX(values, order=configuracao)\n",
        "  res = mod.fit(disp=False)\n",
        "  t_fit = time.time() - start_fit\n",
        "  \n",
        "  start_fcast = time.time() \n",
        "  forecast = res.forecast(steps=steps_ahead)\n",
        "  t_fcast = time.time() - start_fcast \n",
        "  \n",
        "  #Resultado no formato para ser exibido no gráfico\n",
        "  for i in range(steps_ahead):\n",
        "    if forecast[i] < 0: \n",
        "      result.append([date_list[i].strftime('%d/%m/%Y %H:%M:%S'),0])\n",
        "    else:\n",
        "      result.append([date_list[i].strftime('%d/%m/%Y %H:%M:%S'),round((forecast[i]),3)])\n",
        "\n",
        "  return result, t_fit, t_fcast"
      ],
      "execution_count": 19,
      "outputs": []
    },
    {
      "cell_type": "code",
      "metadata": {
        "id": "Nfm-lP4XHmSs",
        "colab_type": "code",
        "colab": {}
      },
      "source": [
        "def run_arimaDay(series, steps_ahead, configuracao):\n",
        "  result = []\n",
        "  \n",
        "  #Lista de data+hora que será previsto\n",
        "  begin = series.index.max() + timedelta(days=0)\n",
        "  date_list = [begin + timedelta(days=x) for x in range(1,steps_ahead+1)]\n",
        "  \n",
        "  #Valores da série\n",
        "  values = series.values\n",
        "\n",
        "  #ARIMA\n",
        "  start_fit = time.time()\n",
        "  mod = sm.tsa.statespace.SARIMAX(values, order=configuracao)\n",
        "  res = mod.fit(disp=False)\n",
        "  t_fit = time.time() - start_fit\n",
        "  \n",
        "  start_fcast = time.time() \n",
        "  forecast = res.forecast(steps=steps_ahead)\n",
        "  t_fcast = time.time() - start_fcast \n",
        "  \n",
        "  #Resultado no formato para ser exibido no gráfico\n",
        "  for i in range(steps_ahead):\n",
        "    if forecast[i] < 0: \n",
        "      result.append([date_list[i].strftime('%d/%m/%Y '),0])\n",
        "    else:\n",
        "      result.append([date_list[i].strftime('%d/%m/%Y '),round((forecast[i]),3)])\n",
        "\n",
        "  return result, t_fit, t_fcast"
      ],
      "execution_count": 20,
      "outputs": []
    },
    {
      "cell_type": "markdown",
      "metadata": {
        "id": "d9kgW_3xCKOd",
        "colab_type": "text"
      },
      "source": [
        "Configurações:"
      ]
    },
    {
      "cell_type": "code",
      "metadata": {
        "id": "WG3ru75J6AuO",
        "colab_type": "code",
        "colab": {}
      },
      "source": [
        "order_ven = (12,1,0)"
      ],
      "execution_count": 21,
      "outputs": []
    },
    {
      "cell_type": "code",
      "metadata": {
        "id": "wTPQvLr9CJBT",
        "colab_type": "code",
        "colab": {}
      },
      "source": [
        "order_rad = (2,1,4) #auto"
      ],
      "execution_count": 22,
      "outputs": []
    },
    {
      "cell_type": "code",
      "metadata": {
        "id": "verv1hDkLSBz",
        "colab_type": "code",
        "colab": {}
      },
      "source": [
        "order_rad = (24,0,24) #graficos\n",
        "order_eto1 = (6, 0, 41) #graficos\n",
        "order_eto2 = (5, 1, 2) #graficos"
      ],
      "execution_count": 23,
      "outputs": []
    },
    {
      "cell_type": "markdown",
      "metadata": {
        "id": "IJhNX0pzc0CC",
        "colab_type": "text"
      },
      "source": [
        "## Previsão 1 hora a frente"
      ]
    },
    {
      "cell_type": "code",
      "metadata": {
        "id": "1LJbvvDJcziH",
        "colab_type": "code",
        "colab": {
          "base_uri": "https://localhost:8080/",
          "height": 34
        },
        "outputId": "7265017d-a85a-4dea-ca73-74365f181bb5"
      },
      "source": [
        "result_ven_1 = run_arima(series_ventovel,1,order_ven)\n",
        "result_ven_1"
      ],
      "execution_count": 24,
      "outputs": [
        {
          "output_type": "execute_result",
          "data": {
            "text/plain": [
              "([['01/01/2020 00:00:00', 2.477]], 6.313431739807129, 0.27041006088256836)"
            ]
          },
          "metadata": {
            "tags": []
          },
          "execution_count": 24
        }
      ]
    },
    {
      "cell_type": "code",
      "metadata": {
        "id": "dWFu5llRc5Y4",
        "colab_type": "code",
        "colab": {
          "base_uri": "https://localhost:8080/",
          "height": 156
        },
        "outputId": "adb4aa54-22a3-4a21-cced-a07a2d895131"
      },
      "source": [
        "result_rad_1 = run_arima(series_radiacao,1,order_rad)\n",
        "result_rad_1"
      ],
      "execution_count": 25,
      "outputs": [
        {
          "output_type": "stream",
          "text": [
            "/usr/local/lib/python3.6/dist-packages/statsmodels/tsa/statespace/sarimax.py:949: UserWarning: Non-stationary starting autoregressive parameters found. Using zeros as starting parameters.\n",
            "  warn('Non-stationary starting autoregressive parameters'\n",
            "/usr/local/lib/python3.6/dist-packages/statsmodels/tsa/statespace/sarimax.py:961: UserWarning: Non-invertible starting MA parameters found. Using zeros as starting parameters.\n",
            "  warn('Non-invertible starting MA parameters found.'\n",
            "/usr/local/lib/python3.6/dist-packages/statsmodels/base/model.py:512: ConvergenceWarning: Maximum Likelihood optimization failed to converge. Check mle_retvals\n",
            "  \"Check mle_retvals\", ConvergenceWarning)\n"
          ],
          "name": "stderr"
        },
        {
          "output_type": "execute_result",
          "data": {
            "text/plain": [
              "([['01/01/2020 00:00:00', 0]], 512.7773995399475, 0.386444091796875)"
            ]
          },
          "metadata": {
            "tags": []
          },
          "execution_count": 25
        }
      ]
    },
    {
      "cell_type": "code",
      "metadata": {
        "id": "RWi1deGdvbUC",
        "colab_type": "code",
        "colab": {
          "base_uri": "https://localhost:8080/",
          "height": 68
        },
        "outputId": "6d73ed4a-b3eb-4809-e998-8534d990d876"
      },
      "source": [
        "df_eto_2 = run_arimaDay(series_eto,1,order_eto2)\n",
        "df_eto_2"
      ],
      "execution_count": 26,
      "outputs": [
        {
          "output_type": "stream",
          "text": [
            "/usr/local/lib/python3.6/dist-packages/statsmodels/base/model.py:512: ConvergenceWarning: Maximum Likelihood optimization failed to converge. Check mle_retvals\n",
            "  \"Check mle_retvals\", ConvergenceWarning)\n"
          ],
          "name": "stderr"
        },
        {
          "output_type": "execute_result",
          "data": {
            "text/plain": [
              "([['01/01/2020 ', 5.587]], 1.7943553924560547, 0.010106086730957031)"
            ]
          },
          "metadata": {
            "tags": []
          },
          "execution_count": 26
        }
      ]
    },
    {
      "cell_type": "markdown",
      "metadata": {
        "id": "imQp2fgbuGT-",
        "colab_type": "text"
      },
      "source": [
        "## Previsão 1 dia a frente"
      ]
    },
    {
      "cell_type": "code",
      "metadata": {
        "id": "b6YeCfpqXDXE",
        "colab_type": "code",
        "colab": {
          "base_uri": "https://localhost:8080/",
          "height": 459
        },
        "outputId": "925ef43c-2795-4667-e15d-c0523810185a"
      },
      "source": [
        "result_ven_1 = run_arima(series_ventovel,24,order_ven)\n",
        "result_ven_1"
      ],
      "execution_count": 27,
      "outputs": [
        {
          "output_type": "execute_result",
          "data": {
            "text/plain": [
              "([['01/01/2020 00:00:00', 2.477],\n",
              "  ['01/01/2020 01:00:00', 2.498],\n",
              "  ['01/01/2020 02:00:00', 2.468],\n",
              "  ['01/01/2020 03:00:00', 2.48],\n",
              "  ['01/01/2020 04:00:00', 2.494],\n",
              "  ['01/01/2020 05:00:00', 2.47],\n",
              "  ['01/01/2020 06:00:00', 2.445],\n",
              "  ['01/01/2020 07:00:00', 2.518],\n",
              "  ['01/01/2020 08:00:00', 2.62],\n",
              "  ['01/01/2020 09:00:00', 2.675],\n",
              "  ['01/01/2020 10:00:00', 2.55],\n",
              "  ['01/01/2020 11:00:00', 2.507],\n",
              "  ['01/01/2020 12:00:00', 2.485],\n",
              "  ['01/01/2020 13:00:00', 2.514],\n",
              "  ['01/01/2020 14:00:00', 2.517],\n",
              "  ['01/01/2020 15:00:00', 2.519],\n",
              "  ['01/01/2020 16:00:00', 2.523],\n",
              "  ['01/01/2020 17:00:00', 2.526],\n",
              "  ['01/01/2020 18:00:00', 2.528],\n",
              "  ['01/01/2020 19:00:00', 2.533],\n",
              "  ['01/01/2020 20:00:00', 2.54],\n",
              "  ['01/01/2020 21:00:00', 2.541],\n",
              "  ['01/01/2020 22:00:00', 2.535],\n",
              "  ['01/01/2020 23:00:00', 2.524]],\n",
              " 5.972358465194702,\n",
              " 0.20239520072937012)"
            ]
          },
          "metadata": {
            "tags": []
          },
          "execution_count": 27
        }
      ]
    },
    {
      "cell_type": "code",
      "metadata": {
        "id": "frZrbKYzL4mm",
        "colab_type": "code",
        "colab": {
          "base_uri": "https://localhost:8080/",
          "height": 581
        },
        "outputId": "f0be04ac-289d-4bc9-a5dd-7df14b44e641"
      },
      "source": [
        "result_rad_1 = run_arima(series_radiacao,24,order_rad)\n",
        "result_rad_1"
      ],
      "execution_count": 28,
      "outputs": [
        {
          "output_type": "stream",
          "text": [
            "/usr/local/lib/python3.6/dist-packages/statsmodels/tsa/statespace/sarimax.py:949: UserWarning: Non-stationary starting autoregressive parameters found. Using zeros as starting parameters.\n",
            "  warn('Non-stationary starting autoregressive parameters'\n",
            "/usr/local/lib/python3.6/dist-packages/statsmodels/tsa/statespace/sarimax.py:961: UserWarning: Non-invertible starting MA parameters found. Using zeros as starting parameters.\n",
            "  warn('Non-invertible starting MA parameters found.'\n",
            "/usr/local/lib/python3.6/dist-packages/statsmodels/base/model.py:512: ConvergenceWarning: Maximum Likelihood optimization failed to converge. Check mle_retvals\n",
            "  \"Check mle_retvals\", ConvergenceWarning)\n"
          ],
          "name": "stderr"
        },
        {
          "output_type": "execute_result",
          "data": {
            "text/plain": [
              "([['01/01/2020 00:00:00', 0],\n",
              "  ['01/01/2020 01:00:00', 8.044],\n",
              "  ['01/01/2020 02:00:00', 37.974],\n",
              "  ['01/01/2020 03:00:00', 35.903],\n",
              "  ['01/01/2020 04:00:00', 22.758],\n",
              "  ['01/01/2020 05:00:00', 0],\n",
              "  ['01/01/2020 06:00:00', 0],\n",
              "  ['01/01/2020 07:00:00', 0],\n",
              "  ['01/01/2020 08:00:00', 44.33],\n",
              "  ['01/01/2020 09:00:00', 262.261],\n",
              "  ['01/01/2020 10:00:00', 695.958],\n",
              "  ['01/01/2020 11:00:00', 1346.744],\n",
              "  ['01/01/2020 12:00:00', 2078.323],\n",
              "  ['01/01/2020 13:00:00', 2777.002],\n",
              "  ['01/01/2020 14:00:00', 3163.522],\n",
              "  ['01/01/2020 15:00:00', 3165.509],\n",
              "  ['01/01/2020 16:00:00', 2969.754],\n",
              "  ['01/01/2020 17:00:00', 2740.491],\n",
              "  ['01/01/2020 18:00:00', 2338.476],\n",
              "  ['01/01/2020 19:00:00', 1686.527],\n",
              "  ['01/01/2020 20:00:00', 942.007],\n",
              "  ['01/01/2020 21:00:00', 402.353],\n",
              "  ['01/01/2020 22:00:00', 90.837],\n",
              "  ['01/01/2020 23:00:00', 0]],\n",
              " 510.337571144104,\n",
              " 0.37468862533569336)"
            ]
          },
          "metadata": {
            "tags": []
          },
          "execution_count": 28
        }
      ]
    },
    {
      "cell_type": "code",
      "metadata": {
        "id": "huB_cLz3vqIn",
        "colab_type": "code",
        "colab": {
          "base_uri": "https://localhost:8080/",
          "height": 68
        },
        "outputId": "65430b27-50be-4089-db36-f70cd120e5da"
      },
      "source": [
        "df_eto_2 = run_arimaDay(series_eto,1,order_eto2)\n",
        "df_eto_2"
      ],
      "execution_count": 29,
      "outputs": [
        {
          "output_type": "stream",
          "text": [
            "/usr/local/lib/python3.6/dist-packages/statsmodels/base/model.py:512: ConvergenceWarning: Maximum Likelihood optimization failed to converge. Check mle_retvals\n",
            "  \"Check mle_retvals\", ConvergenceWarning)\n"
          ],
          "name": "stderr"
        },
        {
          "output_type": "execute_result",
          "data": {
            "text/plain": [
              "([['01/01/2020 ', 5.587]], 1.8780958652496338, 0.01241445541381836)"
            ]
          },
          "metadata": {
            "tags": []
          },
          "execution_count": 29
        }
      ]
    },
    {
      "cell_type": "markdown",
      "metadata": {
        "id": "TK7bOyHFMiD_",
        "colab_type": "text"
      },
      "source": [
        "## Previsão 7 dias a frente"
      ]
    },
    {
      "cell_type": "code",
      "metadata": {
        "id": "o19IDS70Mkf-",
        "colab_type": "code",
        "colab": {
          "base_uri": "https://localhost:8080/",
          "height": 1000
        },
        "outputId": "1c50fb1e-b109-468e-d144-0fc7fedfe887"
      },
      "source": [
        "result_ven_2 = run_arima(series_ventovel,168,order_ven)\n",
        "result_ven_2"
      ],
      "execution_count": 30,
      "outputs": [
        {
          "output_type": "execute_result",
          "data": {
            "text/plain": [
              "([['01/01/2020 00:00:00', 2.477],\n",
              "  ['01/01/2020 01:00:00', 2.498],\n",
              "  ['01/01/2020 02:00:00', 2.468],\n",
              "  ['01/01/2020 03:00:00', 2.48],\n",
              "  ['01/01/2020 04:00:00', 2.494],\n",
              "  ['01/01/2020 05:00:00', 2.47],\n",
              "  ['01/01/2020 06:00:00', 2.445],\n",
              "  ['01/01/2020 07:00:00', 2.518],\n",
              "  ['01/01/2020 08:00:00', 2.62],\n",
              "  ['01/01/2020 09:00:00', 2.675],\n",
              "  ['01/01/2020 10:00:00', 2.55],\n",
              "  ['01/01/2020 11:00:00', 2.507],\n",
              "  ['01/01/2020 12:00:00', 2.485],\n",
              "  ['01/01/2020 13:00:00', 2.514],\n",
              "  ['01/01/2020 14:00:00', 2.517],\n",
              "  ['01/01/2020 15:00:00', 2.519],\n",
              "  ['01/01/2020 16:00:00', 2.523],\n",
              "  ['01/01/2020 17:00:00', 2.526],\n",
              "  ['01/01/2020 18:00:00', 2.528],\n",
              "  ['01/01/2020 19:00:00', 2.533],\n",
              "  ['01/01/2020 20:00:00', 2.54],\n",
              "  ['01/01/2020 21:00:00', 2.541],\n",
              "  ['01/01/2020 22:00:00', 2.535],\n",
              "  ['01/01/2020 23:00:00', 2.524],\n",
              "  ['02/01/2020 00:00:00', 2.522],\n",
              "  ['02/01/2020 01:00:00', 2.524],\n",
              "  ['02/01/2020 02:00:00', 2.527],\n",
              "  ['02/01/2020 03:00:00', 2.528],\n",
              "  ['02/01/2020 04:00:00', 2.528],\n",
              "  ['02/01/2020 05:00:00', 2.529],\n",
              "  ['02/01/2020 06:00:00', 2.53],\n",
              "  ['02/01/2020 07:00:00', 2.53],\n",
              "  ['02/01/2020 08:00:00', 2.53],\n",
              "  ['02/01/2020 09:00:00', 2.53],\n",
              "  ['02/01/2020 10:00:00', 2.529],\n",
              "  ['02/01/2020 11:00:00', 2.528],\n",
              "  ['02/01/2020 12:00:00', 2.528],\n",
              "  ['02/01/2020 13:00:00', 2.528],\n",
              "  ['02/01/2020 14:00:00', 2.528],\n",
              "  ['02/01/2020 15:00:00', 2.529],\n",
              "  ['02/01/2020 16:00:00', 2.529],\n",
              "  ['02/01/2020 17:00:00', 2.529],\n",
              "  ['02/01/2020 18:00:00', 2.529],\n",
              "  ['02/01/2020 19:00:00', 2.529],\n",
              "  ['02/01/2020 20:00:00', 2.529],\n",
              "  ['02/01/2020 21:00:00', 2.529],\n",
              "  ['02/01/2020 22:00:00', 2.529],\n",
              "  ['02/01/2020 23:00:00', 2.529],\n",
              "  ['03/01/2020 00:00:00', 2.528],\n",
              "  ['03/01/2020 01:00:00', 2.528],\n",
              "  ['03/01/2020 02:00:00', 2.529],\n",
              "  ['03/01/2020 03:00:00', 2.529],\n",
              "  ['03/01/2020 04:00:00', 2.529],\n",
              "  ['03/01/2020 05:00:00', 2.529],\n",
              "  ['03/01/2020 06:00:00', 2.529],\n",
              "  ['03/01/2020 07:00:00', 2.529],\n",
              "  ['03/01/2020 08:00:00', 2.529],\n",
              "  ['03/01/2020 09:00:00', 2.529],\n",
              "  ['03/01/2020 10:00:00', 2.529],\n",
              "  ['03/01/2020 11:00:00', 2.529],\n",
              "  ['03/01/2020 12:00:00', 2.529],\n",
              "  ['03/01/2020 13:00:00', 2.529],\n",
              "  ['03/01/2020 14:00:00', 2.529],\n",
              "  ['03/01/2020 15:00:00', 2.529],\n",
              "  ['03/01/2020 16:00:00', 2.529],\n",
              "  ['03/01/2020 17:00:00', 2.529],\n",
              "  ['03/01/2020 18:00:00', 2.529],\n",
              "  ['03/01/2020 19:00:00', 2.529],\n",
              "  ['03/01/2020 20:00:00', 2.529],\n",
              "  ['03/01/2020 21:00:00', 2.529],\n",
              "  ['03/01/2020 22:00:00', 2.529],\n",
              "  ['03/01/2020 23:00:00', 2.529],\n",
              "  ['04/01/2020 00:00:00', 2.529],\n",
              "  ['04/01/2020 01:00:00', 2.529],\n",
              "  ['04/01/2020 02:00:00', 2.529],\n",
              "  ['04/01/2020 03:00:00', 2.529],\n",
              "  ['04/01/2020 04:00:00', 2.529],\n",
              "  ['04/01/2020 05:00:00', 2.529],\n",
              "  ['04/01/2020 06:00:00', 2.529],\n",
              "  ['04/01/2020 07:00:00', 2.529],\n",
              "  ['04/01/2020 08:00:00', 2.529],\n",
              "  ['04/01/2020 09:00:00', 2.529],\n",
              "  ['04/01/2020 10:00:00', 2.529],\n",
              "  ['04/01/2020 11:00:00', 2.529],\n",
              "  ['04/01/2020 12:00:00', 2.529],\n",
              "  ['04/01/2020 13:00:00', 2.529],\n",
              "  ['04/01/2020 14:00:00', 2.529],\n",
              "  ['04/01/2020 15:00:00', 2.529],\n",
              "  ['04/01/2020 16:00:00', 2.529],\n",
              "  ['04/01/2020 17:00:00', 2.529],\n",
              "  ['04/01/2020 18:00:00', 2.529],\n",
              "  ['04/01/2020 19:00:00', 2.529],\n",
              "  ['04/01/2020 20:00:00', 2.529],\n",
              "  ['04/01/2020 21:00:00', 2.529],\n",
              "  ['04/01/2020 22:00:00', 2.529],\n",
              "  ['04/01/2020 23:00:00', 2.529],\n",
              "  ['05/01/2020 00:00:00', 2.529],\n",
              "  ['05/01/2020 01:00:00', 2.529],\n",
              "  ['05/01/2020 02:00:00', 2.529],\n",
              "  ['05/01/2020 03:00:00', 2.529],\n",
              "  ['05/01/2020 04:00:00', 2.529],\n",
              "  ['05/01/2020 05:00:00', 2.529],\n",
              "  ['05/01/2020 06:00:00', 2.529],\n",
              "  ['05/01/2020 07:00:00', 2.529],\n",
              "  ['05/01/2020 08:00:00', 2.529],\n",
              "  ['05/01/2020 09:00:00', 2.529],\n",
              "  ['05/01/2020 10:00:00', 2.529],\n",
              "  ['05/01/2020 11:00:00', 2.529],\n",
              "  ['05/01/2020 12:00:00', 2.529],\n",
              "  ['05/01/2020 13:00:00', 2.529],\n",
              "  ['05/01/2020 14:00:00', 2.529],\n",
              "  ['05/01/2020 15:00:00', 2.529],\n",
              "  ['05/01/2020 16:00:00', 2.529],\n",
              "  ['05/01/2020 17:00:00', 2.529],\n",
              "  ['05/01/2020 18:00:00', 2.529],\n",
              "  ['05/01/2020 19:00:00', 2.529],\n",
              "  ['05/01/2020 20:00:00', 2.529],\n",
              "  ['05/01/2020 21:00:00', 2.529],\n",
              "  ['05/01/2020 22:00:00', 2.529],\n",
              "  ['05/01/2020 23:00:00', 2.529],\n",
              "  ['06/01/2020 00:00:00', 2.529],\n",
              "  ['06/01/2020 01:00:00', 2.529],\n",
              "  ['06/01/2020 02:00:00', 2.529],\n",
              "  ['06/01/2020 03:00:00', 2.529],\n",
              "  ['06/01/2020 04:00:00', 2.529],\n",
              "  ['06/01/2020 05:00:00', 2.529],\n",
              "  ['06/01/2020 06:00:00', 2.529],\n",
              "  ['06/01/2020 07:00:00', 2.529],\n",
              "  ['06/01/2020 08:00:00', 2.529],\n",
              "  ['06/01/2020 09:00:00', 2.529],\n",
              "  ['06/01/2020 10:00:00', 2.529],\n",
              "  ['06/01/2020 11:00:00', 2.529],\n",
              "  ['06/01/2020 12:00:00', 2.529],\n",
              "  ['06/01/2020 13:00:00', 2.529],\n",
              "  ['06/01/2020 14:00:00', 2.529],\n",
              "  ['06/01/2020 15:00:00', 2.529],\n",
              "  ['06/01/2020 16:00:00', 2.529],\n",
              "  ['06/01/2020 17:00:00', 2.529],\n",
              "  ['06/01/2020 18:00:00', 2.529],\n",
              "  ['06/01/2020 19:00:00', 2.529],\n",
              "  ['06/01/2020 20:00:00', 2.529],\n",
              "  ['06/01/2020 21:00:00', 2.529],\n",
              "  ['06/01/2020 22:00:00', 2.529],\n",
              "  ['06/01/2020 23:00:00', 2.529],\n",
              "  ['07/01/2020 00:00:00', 2.529],\n",
              "  ['07/01/2020 01:00:00', 2.529],\n",
              "  ['07/01/2020 02:00:00', 2.529],\n",
              "  ['07/01/2020 03:00:00', 2.529],\n",
              "  ['07/01/2020 04:00:00', 2.529],\n",
              "  ['07/01/2020 05:00:00', 2.529],\n",
              "  ['07/01/2020 06:00:00', 2.529],\n",
              "  ['07/01/2020 07:00:00', 2.529],\n",
              "  ['07/01/2020 08:00:00', 2.529],\n",
              "  ['07/01/2020 09:00:00', 2.529],\n",
              "  ['07/01/2020 10:00:00', 2.529],\n",
              "  ['07/01/2020 11:00:00', 2.529],\n",
              "  ['07/01/2020 12:00:00', 2.529],\n",
              "  ['07/01/2020 13:00:00', 2.529],\n",
              "  ['07/01/2020 14:00:00', 2.529],\n",
              "  ['07/01/2020 15:00:00', 2.529],\n",
              "  ['07/01/2020 16:00:00', 2.529],\n",
              "  ['07/01/2020 17:00:00', 2.529],\n",
              "  ['07/01/2020 18:00:00', 2.529],\n",
              "  ['07/01/2020 19:00:00', 2.529],\n",
              "  ['07/01/2020 20:00:00', 2.529],\n",
              "  ['07/01/2020 21:00:00', 2.529],\n",
              "  ['07/01/2020 22:00:00', 2.529],\n",
              "  ['07/01/2020 23:00:00', 2.529]],\n",
              " 6.037042856216431,\n",
              " 0.20853686332702637)"
            ]
          },
          "metadata": {
            "tags": []
          },
          "execution_count": 30
        }
      ]
    },
    {
      "cell_type": "code",
      "metadata": {
        "id": "jyEdtiQtGM_O",
        "colab_type": "code",
        "colab": {
          "base_uri": "https://localhost:8080/",
          "height": 1000
        },
        "outputId": "42f32cfe-24ec-4122-8598-c3c13be76101"
      },
      "source": [
        "result_rad_2 = run_arima(series_radiacao,168,order_rad)\n",
        "result_rad_2"
      ],
      "execution_count": 31,
      "outputs": [
        {
          "output_type": "stream",
          "text": [
            "/usr/local/lib/python3.6/dist-packages/statsmodels/tsa/statespace/sarimax.py:949: UserWarning: Non-stationary starting autoregressive parameters found. Using zeros as starting parameters.\n",
            "  warn('Non-stationary starting autoregressive parameters'\n",
            "/usr/local/lib/python3.6/dist-packages/statsmodels/tsa/statespace/sarimax.py:961: UserWarning: Non-invertible starting MA parameters found. Using zeros as starting parameters.\n",
            "  warn('Non-invertible starting MA parameters found.'\n",
            "/usr/local/lib/python3.6/dist-packages/statsmodels/base/model.py:512: ConvergenceWarning: Maximum Likelihood optimization failed to converge. Check mle_retvals\n",
            "  \"Check mle_retvals\", ConvergenceWarning)\n"
          ],
          "name": "stderr"
        },
        {
          "output_type": "execute_result",
          "data": {
            "text/plain": [
              "([['01/01/2020 00:00:00', 0],\n",
              "  ['01/01/2020 01:00:00', 8.044],\n",
              "  ['01/01/2020 02:00:00', 37.974],\n",
              "  ['01/01/2020 03:00:00', 35.903],\n",
              "  ['01/01/2020 04:00:00', 22.758],\n",
              "  ['01/01/2020 05:00:00', 0],\n",
              "  ['01/01/2020 06:00:00', 0],\n",
              "  ['01/01/2020 07:00:00', 0],\n",
              "  ['01/01/2020 08:00:00', 44.33],\n",
              "  ['01/01/2020 09:00:00', 262.261],\n",
              "  ['01/01/2020 10:00:00', 695.958],\n",
              "  ['01/01/2020 11:00:00', 1346.744],\n",
              "  ['01/01/2020 12:00:00', 2078.323],\n",
              "  ['01/01/2020 13:00:00', 2777.002],\n",
              "  ['01/01/2020 14:00:00', 3163.522],\n",
              "  ['01/01/2020 15:00:00', 3165.509],\n",
              "  ['01/01/2020 16:00:00', 2969.754],\n",
              "  ['01/01/2020 17:00:00', 2740.491],\n",
              "  ['01/01/2020 18:00:00', 2338.476],\n",
              "  ['01/01/2020 19:00:00', 1686.527],\n",
              "  ['01/01/2020 20:00:00', 942.007],\n",
              "  ['01/01/2020 21:00:00', 402.353],\n",
              "  ['01/01/2020 22:00:00', 90.837],\n",
              "  ['01/01/2020 23:00:00', 0],\n",
              "  ['02/01/2020 00:00:00', 0],\n",
              "  ['02/01/2020 01:00:00', 0],\n",
              "  ['02/01/2020 02:00:00', 0],\n",
              "  ['02/01/2020 03:00:00', 3.955],\n",
              "  ['02/01/2020 04:00:00', 0],\n",
              "  ['02/01/2020 05:00:00', 0],\n",
              "  ['02/01/2020 06:00:00', 0],\n",
              "  ['02/01/2020 07:00:00', 0],\n",
              "  ['02/01/2020 08:00:00', 0],\n",
              "  ['02/01/2020 09:00:00', 208.664],\n",
              "  ['02/01/2020 10:00:00', 628.157],\n",
              "  ['02/01/2020 11:00:00', 1253.334],\n",
              "  ['02/01/2020 12:00:00', 1980.126],\n",
              "  ['02/01/2020 13:00:00', 2603.937],\n",
              "  ['02/01/2020 14:00:00', 2937.103],\n",
              "  ['02/01/2020 15:00:00', 2997.441],\n",
              "  ['02/01/2020 16:00:00', 2895.872],\n",
              "  ['02/01/2020 17:00:00', 2640.992],\n",
              "  ['02/01/2020 18:00:00', 2176.913],\n",
              "  ['02/01/2020 19:00:00', 1543.836],\n",
              "  ['02/01/2020 20:00:00', 892.626],\n",
              "  ['02/01/2020 21:00:00', 377.326],\n",
              "  ['02/01/2020 22:00:00', 37.11],\n",
              "  ['02/01/2020 23:00:00', 0],\n",
              "  ['03/01/2020 00:00:00', 0],\n",
              "  ['03/01/2020 01:00:00', 0],\n",
              "  ['03/01/2020 02:00:00', 0],\n",
              "  ['03/01/2020 03:00:00', 0],\n",
              "  ['03/01/2020 04:00:00', 0],\n",
              "  ['03/01/2020 05:00:00', 0],\n",
              "  ['03/01/2020 06:00:00', 0],\n",
              "  ['03/01/2020 07:00:00', 0],\n",
              "  ['03/01/2020 08:00:00', 0],\n",
              "  ['03/01/2020 09:00:00', 148.362],\n",
              "  ['03/01/2020 10:00:00', 570.04],\n",
              "  ['03/01/2020 11:00:00', 1184.84],\n",
              "  ['03/01/2020 12:00:00', 1864.137],\n",
              "  ['03/01/2020 13:00:00', 2424.556],\n",
              "  ['03/01/2020 14:00:00', 2756.393],\n",
              "  ['03/01/2020 15:00:00', 2869.285],\n",
              "  ['03/01/2020 16:00:00', 2791.841],\n",
              "  ['03/01/2020 17:00:00', 2515.143],\n",
              "  ['03/01/2020 18:00:00', 2043.171],\n",
              "  ['03/01/2020 19:00:00', 1441.883],\n",
              "  ['03/01/2020 20:00:00', 833.596],\n",
              "  ['03/01/2020 21:00:00', 334.763],\n",
              "  ['03/01/2020 22:00:00', 11.833],\n",
              "  ['03/01/2020 23:00:00', 0],\n",
              "  ['04/01/2020 00:00:00', 0],\n",
              "  ['04/01/2020 01:00:00', 0],\n",
              "  ['04/01/2020 02:00:00', 0],\n",
              "  ['04/01/2020 03:00:00', 0],\n",
              "  ['04/01/2020 04:00:00', 0],\n",
              "  ['04/01/2020 05:00:00', 0],\n",
              "  ['04/01/2020 06:00:00', 0],\n",
              "  ['04/01/2020 07:00:00', 0],\n",
              "  ['04/01/2020 08:00:00', 0],\n",
              "  ['04/01/2020 09:00:00', 99.437],\n",
              "  ['04/01/2020 10:00:00', 523.095],\n",
              "  ['04/01/2020 11:00:00', 1111.806],\n",
              "  ['04/01/2020 12:00:00', 1740.533],\n",
              "  ['04/01/2020 13:00:00', 2266.733],\n",
              "  ['04/01/2020 14:00:00', 2607.958],\n",
              "  ['04/01/2020 15:00:00', 2744.851],\n",
              "  ['04/01/2020 16:00:00', 2673.511],\n",
              "  ['04/01/2020 17:00:00', 2393.085],\n",
              "  ['04/01/2020 18:00:00', 1928.411],\n",
              "  ['04/01/2020 19:00:00', 1351.495],\n",
              "  ['04/01/2020 20:00:00', 773.262],\n",
              "  ['04/01/2020 21:00:00', 299.114],\n",
              "  ['04/01/2020 22:00:00', 0],\n",
              "  ['04/01/2020 23:00:00', 0],\n",
              "  ['05/01/2020 00:00:00', 0],\n",
              "  ['05/01/2020 01:00:00', 0],\n",
              "  ['05/01/2020 02:00:00', 0],\n",
              "  ['05/01/2020 03:00:00', 0],\n",
              "  ['05/01/2020 04:00:00', 0],\n",
              "  ['05/01/2020 05:00:00', 0],\n",
              "  ['05/01/2020 06:00:00', 0],\n",
              "  ['05/01/2020 07:00:00', 0],\n",
              "  ['05/01/2020 08:00:00', 0],\n",
              "  ['05/01/2020 09:00:00', 60.858],\n",
              "  ['05/01/2020 10:00:00', 476.548],\n",
              "  ['05/01/2020 11:00:00', 1033.982],\n",
              "  ['05/01/2020 12:00:00', 1623.82],\n",
              "  ['05/01/2020 13:00:00', 2129.679],\n",
              "  ['05/01/2020 14:00:00', 2474.418],\n",
              "  ['05/01/2020 15:00:00', 2621.315],\n",
              "  ['05/01/2020 16:00:00', 2554.878],\n",
              "  ['05/01/2020 17:00:00', 2277.585],\n",
              "  ['05/01/2020 18:00:00', 1823.398],\n",
              "  ['05/01/2020 19:00:00', 1269.101],\n",
              "  ['05/01/2020 20:00:00', 718.872],\n",
              "  ['05/01/2020 21:00:00', 267.188],\n",
              "  ['05/01/2020 22:00:00', 0],\n",
              "  ['05/01/2020 23:00:00', 0],\n",
              "  ['06/01/2020 00:00:00', 0],\n",
              "  ['06/01/2020 01:00:00', 0],\n",
              "  ['06/01/2020 02:00:00', 0],\n",
              "  ['06/01/2020 03:00:00', 0],\n",
              "  ['06/01/2020 04:00:00', 0],\n",
              "  ['06/01/2020 05:00:00', 0],\n",
              "  ['06/01/2020 06:00:00', 0],\n",
              "  ['06/01/2020 07:00:00', 0],\n",
              "  ['06/01/2020 08:00:00', 0],\n",
              "  ['06/01/2020 09:00:00', 26.83],\n",
              "  ['06/01/2020 10:00:00', 428.735],\n",
              "  ['06/01/2020 11:00:00', 957.343],\n",
              "  ['06/01/2020 12:00:00', 1517.173],\n",
              "  ['06/01/2020 13:00:00', 2006.732],\n",
              "  ['06/01/2020 14:00:00', 2350.175],\n",
              "  ['06/01/2020 15:00:00', 2501.686],\n",
              "  ['06/01/2020 16:00:00', 2439.336],\n",
              "  ['06/01/2020 17:00:00', 2167.385],\n",
              "  ['06/01/2020 18:00:00', 1726.385],\n",
              "  ['06/01/2020 19:00:00', 1194.729],\n",
              "  ['06/01/2020 20:00:00', 669.419],\n",
              "  ['06/01/2020 21:00:00', 236.532],\n",
              "  ['06/01/2020 22:00:00', 0],\n",
              "  ['06/01/2020 23:00:00', 0],\n",
              "  ['07/01/2020 00:00:00', 0],\n",
              "  ['07/01/2020 01:00:00', 0],\n",
              "  ['07/01/2020 02:00:00', 0],\n",
              "  ['07/01/2020 03:00:00', 0],\n",
              "  ['07/01/2020 04:00:00', 0],\n",
              "  ['07/01/2020 05:00:00', 0],\n",
              "  ['07/01/2020 06:00:00', 0],\n",
              "  ['07/01/2020 07:00:00', 0],\n",
              "  ['07/01/2020 08:00:00', 0],\n",
              "  ['07/01/2020 09:00:00', 0],\n",
              "  ['07/01/2020 10:00:00', 381.523],\n",
              "  ['07/01/2020 11:00:00', 884.576],\n",
              "  ['07/01/2020 12:00:00', 1419.466],\n",
              "  ['07/01/2020 13:00:00', 1894.331],\n",
              "  ['07/01/2020 14:00:00', 2233.868],\n",
              "  ['07/01/2020 15:00:00', 2386.706],\n",
              "  ['07/01/2020 16:00:00', 2327.503],\n",
              "  ['07/01/2020 17:00:00', 2062.823],\n",
              "  ['07/01/2020 18:00:00', 1636.921],\n",
              "  ['07/01/2020 19:00:00', 1126.768],\n",
              "  ['07/01/2020 20:00:00', 623.422],\n",
              "  ['07/01/2020 21:00:00', 207.816],\n",
              "  ['07/01/2020 22:00:00', 0],\n",
              "  ['07/01/2020 23:00:00', 0]],\n",
              " 513.2296440601349,\n",
              " 0.375669002532959)"
            ]
          },
          "metadata": {
            "tags": []
          },
          "execution_count": 31
        }
      ]
    },
    {
      "cell_type": "code",
      "metadata": {
        "id": "pq8m_Pl10H4F",
        "colab_type": "code",
        "colab": {
          "base_uri": "https://localhost:8080/",
          "height": 204
        },
        "outputId": "3e27bd0c-d2ba-41db-f470-e5d47536a16d"
      },
      "source": [
        "df_eto_2 = run_arimaDay(series_eto,7,order_eto2)\n",
        "df_eto_2"
      ],
      "execution_count": 32,
      "outputs": [
        {
          "output_type": "stream",
          "text": [
            "/usr/local/lib/python3.6/dist-packages/statsmodels/base/model.py:512: ConvergenceWarning: Maximum Likelihood optimization failed to converge. Check mle_retvals\n",
            "  \"Check mle_retvals\", ConvergenceWarning)\n"
          ],
          "name": "stderr"
        },
        {
          "output_type": "execute_result",
          "data": {
            "text/plain": [
              "([['01/01/2020 ', 5.587],\n",
              "  ['02/01/2020 ', 5.49],\n",
              "  ['03/01/2020 ', 5.552],\n",
              "  ['04/01/2020 ', 5.477],\n",
              "  ['05/01/2020 ', 5.545],\n",
              "  ['06/01/2020 ', 5.476],\n",
              "  ['07/01/2020 ', 5.542]],\n",
              " 1.8100841045379639,\n",
              " 0.011016130447387695)"
            ]
          },
          "metadata": {
            "tags": []
          },
          "execution_count": 32
        }
      ]
    }
  ]
}