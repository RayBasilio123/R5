{
  "nbformat": 4,
  "nbformat_minor": 0,
  "metadata": {
    "colab": {
      "name": "WindSun_SARIMA.ipynb",
      "provenance": [],
      "include_colab_link": true
    },
    "kernelspec": {
      "name": "python3",
      "display_name": "Python 3"
    }
  },
  "cells": [
    {
      "cell_type": "markdown",
      "metadata": {
        "id": "view-in-github",
        "colab_type": "text"
      },
      "source": [
        "<a href=\"https://colab.research.google.com/github/RayBasilio123/R5/blob/master/WindSun_SARIMA.ipynb\" target=\"_parent\"><img src=\"https://colab.research.google.com/assets/colab-badge.svg\" alt=\"Open In Colab\"/></a>"
      ]
    },
    {
      "cell_type": "markdown",
      "metadata": {
        "id": "9KCxpM4ERA6K",
        "colab_type": "text"
      },
      "source": [
        "# Algoritmo SARIMA para Previsão de Séries Temporais com base nos dados do INMET"
      ]
    },
    {
      "cell_type": "markdown",
      "metadata": {
        "id": "YYxTM1kJRCww",
        "colab_type": "text"
      },
      "source": [
        "## Obtendo os dados atráves do github"
      ]
    },
    {
      "cell_type": "code",
      "metadata": {
        "id": "DyyMruHzRAkz",
        "colab_type": "code",
        "colab": {}
      },
      "source": [
        "#imports\n",
        "import pandas as pd\n",
        "import numpy as np\n",
        "from datetime import timedelta\n",
        "import statsmodels.api as sm"
      ],
      "execution_count": 3,
      "outputs": []
    },
    {
      "cell_type": "code",
      "metadata": {
        "id": "OXkVjiQRRGyz",
        "colab_type": "code",
        "colab": {}
      },
      "source": [
        "#obtem os dados\n",
        "url1 = 'https://raw.githubusercontent.com/lrssv/TimeSeriesForecastingWindSun/master/series_ventovel_pampulha_2018_2019'\n",
        "url2 = 'https://raw.githubusercontent.com/lrssv/TimeSeriesForecastingWindSun/master/series_radiacao_pampulha_2018_2019'\n",
        "url3 = 'https://raw.githubusercontent.com/RayBasilio123/R5/master/Eto'\n",
        "\n",
        "df_ventovel = pd.read_csv(url1, header=0, parse_dates=[0], index_col=0, squeeze=True)\n",
        "df_radiacao = pd.read_csv(url2, header=0, parse_dates=[0], index_col=0, squeeze=True)\n",
        "df_eto = pd.read_csv(url3, header=0, parse_dates=[0], index_col=0, squeeze=True)\n",
        "\n",
        "series_ventovel = pd.Series(df_ventovel)\n",
        "series_radiacao = pd.Series(df_radiacao)\n",
        "series_eto = pd.Series(df_eto)"
      ],
      "execution_count": 4,
      "outputs": []
    },
    {
      "cell_type": "markdown",
      "metadata": {
        "id": "kssxm4S6RJxa",
        "colab_type": "text"
      },
      "source": [
        "## SARIMA"
      ]
    },
    {
      "cell_type": "code",
      "metadata": {
        "id": "KxhPtuZCRILM",
        "colab_type": "code",
        "colab": {}
      },
      "source": [
        "def run_sarima(series, steps_ahead, config_ordem, config_sazonal):\n",
        "  result = []\n",
        "  \n",
        "  #Lista de data+hora que será previsto\n",
        "  begin = series.index.max() + timedelta(days=0)\n",
        "  date_list = [begin + timedelta(hours=x) for x in range(1,steps_ahead+1)]\n",
        "  \n",
        "  #Valores da série\n",
        "  values = series.values\n",
        "\n",
        "  #ARIMA\n",
        "  mod = sm.tsa.statespace.SARIMAX(values, order=config_ordem, seasonal_order=config_sazonal)\n",
        "  res = mod.fit(disp=False)\n",
        "  forecast = res.forecast(steps=steps_ahead)\n",
        "\n",
        "  #Resultado no formato para ser exibido no gráfico\n",
        "  for i in range(steps_ahead):\n",
        "    if forecast[i] < 0: \n",
        "      result.append([date_list[i].strftime('%d/%m/%Y %H:%M:%S'),0])\n",
        "    else:\n",
        "      result.append([date_list[i].strftime('%d/%m/%Y %H:%M:%S'),round((forecast[i]),3)])\n",
        "\n",
        "  return result\n",
        "  "
      ],
      "execution_count": 5,
      "outputs": []
    },
    {
      "cell_type": "code",
      "metadata": {
        "id": "0LYC2fJJDDsT",
        "colab_type": "code",
        "colab": {}
      },
      "source": [
        "def run_sarimaDay(series, steps_ahead, config_ordem, config_sazonal):\n",
        "  result = []\n",
        "  \n",
        "  #Lista de data+hora que será previsto\n",
        "  begin = series.index.max() + timedelta(days=0)\n",
        "  date_list = [begin + timedelta(days=x) for x in range(1,steps_ahead+1)]\n",
        "  \n",
        "  #Valores da série\n",
        "  values = series.values\n",
        "\n",
        "  #ARIMA\n",
        "  mod = sm.tsa.statespace.SARIMAX(values, order=config_ordem, seasonal_order=config_sazonal)\n",
        "  res = mod.fit(disp=False)\n",
        "  forecast = res.forecast(steps=steps_ahead)\n",
        "\n",
        "  #Resultado no formato para ser exibido no gráfico\n",
        "  for i in range(steps_ahead):\n",
        "    if forecast[i] < 0: \n",
        "      result.append([date_list[i].strftime('%d/%m/%Y' ),0])\n",
        "    else:\n",
        "      result.append([date_list[i].strftime('%d/%m/%Y '),round((forecast[i]),3)])\n",
        "\n",
        "  return result"
      ],
      "execution_count": 6,
      "outputs": []
    },
    {
      "cell_type": "code",
      "metadata": {
        "id": "d8RDUr-_E7I4",
        "colab_type": "code",
        "colab": {}
      },
      "source": [
        "order_ven = (3,1,0) \n",
        "order_ven_sazonal = (6,0,0,4)\n",
        "order_rad = (4,0,2)\n",
        "order_rad_sazonal = (1,0,2,4)\n",
        "order_eto2 = (5, 1, 2) #graficos\n",
        "order_eto2_sazonal = (1,0,1,3)\n"
      ],
      "execution_count": 7,
      "outputs": []
    },
    {
      "cell_type": "markdown",
      "metadata": {
        "id": "hjd7w5XhDh8R",
        "colab_type": "text"
      },
      "source": [
        "## Previsão 1 hora a frente"
      ]
    },
    {
      "cell_type": "code",
      "metadata": {
        "id": "uIgvnPZjDgKQ",
        "colab_type": "code",
        "colab": {
          "base_uri": "https://localhost:8080/",
          "height": 34
        },
        "outputId": "1f2e3dbb-859f-439b-d8b9-5a7f92b27375"
      },
      "source": [
        "result_ven_1 = run_sarima(series_ventovel,1,order_ven, order_ven_sazonal)\n",
        "result_ven_1"
      ],
      "execution_count": 8,
      "outputs": [
        {
          "output_type": "execute_result",
          "data": {
            "text/plain": [
              "[['01/01/2020 00:00:00', 2.212]]"
            ]
          },
          "metadata": {
            "tags": []
          },
          "execution_count": 8
        }
      ]
    },
    {
      "cell_type": "code",
      "metadata": {
        "id": "75MQdvzSEiq6",
        "colab_type": "code",
        "colab": {}
      },
      "source": [
        "result_rad_1 = run_sarima(series_radiacao,1,order_rad,order_rad_sazonal)\n",
        "result_rad_1"
      ],
      "execution_count": null,
      "outputs": []
    },
    {
      "cell_type": "markdown",
      "metadata": {
        "id": "Mqx1kVCGEo7h",
        "colab_type": "text"
      },
      "source": [
        "## Previsão 1 dia a frente"
      ]
    },
    {
      "cell_type": "code",
      "metadata": {
        "id": "GxaIPG2QErfz",
        "colab_type": "code",
        "colab": {}
      },
      "source": [
        "result_ven_2 = run_sarima(series_ventovel,24,order_ven, order_ven_sazonal)\n",
        "result_ven_2"
      ],
      "execution_count": null,
      "outputs": []
    },
    {
      "cell_type": "code",
      "metadata": {
        "id": "SxKzh4VtE2bS",
        "colab_type": "code",
        "colab": {}
      },
      "source": [
        "result_rad_2 = run_sarima(series_radiacao,24,order_rad,order_rad_sazonal)\n",
        "result_rad_2"
      ],
      "execution_count": null,
      "outputs": []
    },
    {
      "cell_type": "code",
      "metadata": {
        "id": "gpXoJATGFR_s",
        "colab_type": "code",
        "colab": {}
      },
      "source": [
        "result_Eto_1 = run_sarimaDay(series_eto,1,order_eto2,order_eto2_sazonal)\n",
        "result_Eto_1"
      ],
      "execution_count": null,
      "outputs": []
    },
    {
      "cell_type": "markdown",
      "metadata": {
        "id": "1ITM3T4hkWjA",
        "colab_type": "text"
      },
      "source": [
        "## Previsão 3 dias a frente "
      ]
    },
    {
      "cell_type": "code",
      "metadata": {
        "id": "Efv4R4ULkSul",
        "colab_type": "code",
        "colab": {}
      },
      "source": [
        "result_Eto_2= run_sarimaDay(series_eto,3,order_eto2,order_eto2_sazonal)\n",
        "result_Eto_2"
      ],
      "execution_count": null,
      "outputs": []
    },
    {
      "cell_type": "markdown",
      "metadata": {
        "id": "9Rw0RTfME8rS",
        "colab_type": "text"
      },
      "source": [
        "## Previsão 7 dias a frente "
      ]
    },
    {
      "cell_type": "code",
      "metadata": {
        "id": "mI0ptd_mFCWZ",
        "colab_type": "code",
        "colab": {}
      },
      "source": [
        "result_ven_3 = run_sarima(series_ventovel,168,order_ven, order_ven_sazonal)\n",
        "result_ven_3"
      ],
      "execution_count": null,
      "outputs": []
    },
    {
      "cell_type": "code",
      "metadata": {
        "id": "av1K5HxsFIGi",
        "colab_type": "code",
        "colab": {}
      },
      "source": [
        "result_rad_3 = run_sarima(series_radiacao,168,order_rad,order_rad_sazonal)\n",
        "result_rad_3"
      ],
      "execution_count": null,
      "outputs": []
    },
    {
      "cell_type": "code",
      "metadata": {
        "id": "KnJQ10BxFtFG",
        "colab_type": "code",
        "colab": {}
      },
      "source": [
        "result_Eto_3 = run_sarimaDay(series_eto,7,order_eto2,order_eto2_sazonal)\n",
        "result_Eto_3"
      ],
      "execution_count": null,
      "outputs": []
    },
    {
      "cell_type": "markdown",
      "metadata": {
        "id": "YcFxw8YMGw0h",
        "colab_type": "text"
      },
      "source": [
        "## Previsão 10 dias a frente "
      ]
    },
    {
      "cell_type": "code",
      "metadata": {
        "id": "_JxB1clVG43I",
        "colab_type": "code",
        "colab": {}
      },
      "source": [
        "result_Eto_4 = run_sarimaDay(series_eto,10,order_eto2,order_eto2_sazonal)\n",
        "result_Eto_4"
      ],
      "execution_count": null,
      "outputs": []
    }
  ]
}