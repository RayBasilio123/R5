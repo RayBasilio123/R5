{
  "nbformat": 4,
  "nbformat_minor": 0,
  "metadata": {
    "colab": {
      "name": "Windsun_SARIMAX.ipynb",
      "provenance": [],
      "collapsed_sections": [],
      "include_colab_link": true
    },
    "kernelspec": {
      "name": "python3",
      "display_name": "Python 3"
    }
  },
  "cells": [
    {
      "cell_type": "markdown",
      "metadata": {
        "id": "view-in-github",
        "colab_type": "text"
      },
      "source": [
        "<a href=\"https://colab.research.google.com/github/RayBasilio123/R5/blob/master/Windsun_SARIMAX.ipynb\" target=\"_parent\"><img src=\"https://colab.research.google.com/assets/colab-badge.svg\" alt=\"Open In Colab\"/></a>"
      ]
    },
    {
      "cell_type": "markdown",
      "metadata": {
        "id": "VLWTPcsAGD6k",
        "colab_type": "text"
      },
      "source": [
        "# Algoritmo SARIMAX para Previsão de Séries Temporais com base nos dados do INMET"
      ]
    },
    {
      "cell_type": "markdown",
      "metadata": {
        "id": "CCEFUrZfGINS",
        "colab_type": "text"
      },
      "source": [
        "## Obtendo os dados atráves do github"
      ]
    },
    {
      "cell_type": "code",
      "metadata": {
        "id": "hS9G-1VYF9si",
        "colab_type": "code",
        "colab": {
          "base_uri": "https://localhost:8080/",
          "height": 71
        },
        "outputId": "21713858-ed95-4731-c688-aceee19e019a"
      },
      "source": [
        "#imports\n",
        "import pandas as pd\n",
        "import numpy as np\n",
        "from datetime import timedelta\n",
        "import statsmodels.api as sm"
      ],
      "execution_count": null,
      "outputs": [
        {
          "output_type": "stream",
          "text": [
            "/usr/local/lib/python3.6/dist-packages/statsmodels/tools/_testing.py:19: FutureWarning: pandas.util.testing is deprecated. Use the functions in the public API at pandas.testing instead.\n",
            "  import pandas.util.testing as tm\n"
          ],
          "name": "stderr"
        }
      ]
    },
    {
      "cell_type": "code",
      "metadata": {
        "id": "g-4RWNzcGLGB",
        "colab_type": "code",
        "colab": {}
      },
      "source": [
        "#obtem os dados\n",
        "url1 = 'https://raw.githubusercontent.com/lrssv/TimeSeriesForecastingWindSun/master/series_ventovel_pampulha_2018_2019'\n",
        "url2 = 'https://raw.githubusercontent.com/lrssv/TimeSeriesForecastingWindSun/master/series_radiacao_pampulha_2018_2019'\n",
        "url3 = 'https://raw.githubusercontent.com/RayBasilio123/R5/master/Eto'\n",
        "\n",
        "df_ventovel = pd.read_csv(url1, header=0, parse_dates=[0], index_col=0, squeeze=True)\n",
        "df_radiacao = pd.read_csv(url2, header=0, parse_dates=[0], index_col=0, squeeze=True)\n",
        "df_eto = pd.read_csv(url3, header=0, parse_dates=[0], index_col=0, squeeze=True)\n",
        "\n",
        "\n",
        "series_ventovel = pd.Series(df_ventovel)\n",
        "series_radiacao = pd.Series(df_radiacao)"
      ],
      "execution_count": null,
      "outputs": []
    },
    {
      "cell_type": "markdown",
      "metadata": {
        "id": "1oCK1ZChGOpK",
        "colab_type": "text"
      },
      "source": [
        "## SARIMAX"
      ]
    },
    {
      "cell_type": "code",
      "metadata": {
        "id": "0LmdLpz8GM7B",
        "colab_type": "code",
        "colab": {}
      },
      "source": [
        "def run_sarima(series,exog,steps_ahead,config_ordem,config_sazonal):\n",
        "  result = []\n",
        "  \n",
        "  #Lista de data+hora que será previsto\n",
        "  begin = series.index.max() + timedelta(days=0)\n",
        "  date_list = [begin + timedelta(hours=x) for x in range(1,steps_ahead+1)]\n",
        "  \n",
        "  #Valores da série\n",
        "  values = series.values\n",
        "  \n",
        "  #Valores da variável exogena\n",
        "  ex = exog.values\n",
        "\n",
        "  #Valores da variável exogena que será prevista\n",
        "  ex_cast = ex.reshape(-1, 1)[-steps_ahead:]\n",
        "  \n",
        "  #ARIMA\n",
        "  mod = sm.tsa.statespace.SARIMAX(values, exog=ex, order=config_ordem, seasonal_order=config_sazonal)\n",
        "  res = mod.fit(disp=False)\n",
        "  forecast = res.forecast(steps=steps_ahead, exog=ex_cast)\n",
        "\n",
        "  #Resultado no formato para ser exibido no gráfico\n",
        "  for i in range(steps_ahead):\n",
        "    if forecast[i] < 0: \n",
        "      result.append([date_list[i].strftime('%d/%m/%Y %H:%M:%S'),0])\n",
        "    else:\n",
        "      result.append([date_list[i].strftime('%d/%m/%Y %H:%M:%S'),round((forecast[i]),3)])\n",
        "\n",
        "  return result"
      ],
      "execution_count": null,
      "outputs": []
    },
    {
      "cell_type": "code",
      "metadata": {
        "id": "sYq1ZUboG3z2",
        "colab_type": "code",
        "colab": {}
      },
      "source": [
        "order_ven = (3,1,0) \n",
        "order_ven_sazonal = (6,0,0,4)\n",
        "order_rad = (4,0,2)\n",
        "order_rad_sazonal = (1,0,2,4)"
      ],
      "execution_count": null,
      "outputs": []
    },
    {
      "cell_type": "markdown",
      "metadata": {
        "id": "xYGtfzQkHWXD",
        "colab_type": "text"
      },
      "source": [
        "## Previsão 1 hora a frente"
      ]
    },
    {
      "cell_type": "code",
      "metadata": {
        "id": "ywn_fg8mHItK",
        "colab_type": "code",
        "colab": {
          "base_uri": "https://localhost:8080/",
          "height": 68
        },
        "outputId": "e57b8c87-39e9-449c-a8ad-4c9d0df01873"
      },
      "source": [
        "result_ven_1 = run_sarima(series_ventovel,series_radiacao,1,order_ven, order_ven_sazonal)\n",
        "result_ven_1"
      ],
      "execution_count": null,
      "outputs": [
        {
          "output_type": "stream",
          "text": [
            "/usr/local/lib/python3.6/dist-packages/statsmodels/base/model.py:512: ConvergenceWarning: Maximum Likelihood optimization failed to converge. Check mle_retvals\n",
            "  \"Check mle_retvals\", ConvergenceWarning)\n"
          ],
          "name": "stderr"
        },
        {
          "output_type": "execute_result",
          "data": {
            "text/plain": [
              "[['01/01/2020 00:00:00', 1.526]]"
            ]
          },
          "metadata": {
            "tags": []
          },
          "execution_count": 6
        }
      ]
    },
    {
      "cell_type": "code",
      "metadata": {
        "id": "baJBWzGtQ-Fv",
        "colab_type": "code",
        "colab": {
          "base_uri": "https://localhost:8080/",
          "height": 88
        },
        "outputId": "1e27cdf8-f07d-4f19-9c8b-d9e326229727"
      },
      "source": [
        "result_rad_1 = run_sarima(series_radiacao,series_ventovel,1,order_rad,order_rad_sazonal)\n",
        "result_rad_1"
      ],
      "execution_count": null,
      "outputs": [
        {
          "output_type": "stream",
          "text": [
            "/usr/local/lib/python3.6/dist-packages/statsmodels/base/model.py:512: ConvergenceWarning: Maximum Likelihood optimization failed to converge. Check mle_retvals\n",
            "  \"Check mle_retvals\", ConvergenceWarning)\n"
          ],
          "name": "stderr"
        },
        {
          "output_type": "execute_result",
          "data": {
            "text/plain": [
              "[['01/01/2020 00:00:00', 154.076]]"
            ]
          },
          "metadata": {
            "tags": []
          },
          "execution_count": 8
        }
      ]
    },
    {
      "cell_type": "markdown",
      "metadata": {
        "id": "vtbu11f2RGTi",
        "colab_type": "text"
      },
      "source": [
        "## Previsão 1 dia a frente"
      ]
    },
    {
      "cell_type": "code",
      "metadata": {
        "id": "OoFF0QmuROTr",
        "colab_type": "code",
        "colab": {
          "base_uri": "https://localhost:8080/",
          "height": 459
        },
        "outputId": "f095a171-5547-4182-a46a-158c905f9f3a"
      },
      "source": [
        "result_ven_1 = run_sarima(series_ventovel,series_radiacao,24,order_ven, order_ven_sazonal)\n",
        "result_ven_1"
      ],
      "execution_count": null,
      "outputs": [
        {
          "output_type": "stream",
          "text": [
            "/usr/local/lib/python3.6/dist-packages/statsmodels/base/model.py:512: ConvergenceWarning: Maximum Likelihood optimization failed to converge. Check mle_retvals\n",
            "  \"Check mle_retvals\", ConvergenceWarning)\n"
          ],
          "name": "stderr"
        },
        {
          "output_type": "execute_result",
          "data": {
            "text/plain": [
              "[['01/01/2020 00:00:00', 1.526],\n",
              " ['01/01/2020 01:00:00', 1.75],\n",
              " ['01/01/2020 02:00:00', 1.757],\n",
              " ['01/01/2020 03:00:00', 1.819],\n",
              " ['01/01/2020 04:00:00', 1.689],\n",
              " ['01/01/2020 05:00:00', 1.741],\n",
              " ['01/01/2020 06:00:00', 1.752],\n",
              " ['01/01/2020 07:00:00', 1.713],\n",
              " ['01/01/2020 08:00:00', 1.755],\n",
              " ['01/01/2020 09:00:00', 1.734],\n",
              " ['01/01/2020 10:00:00', 2.106],\n",
              " ['01/01/2020 11:00:00', 2.579],\n",
              " ['01/01/2020 12:00:00', 3.095],\n",
              " ['01/01/2020 13:00:00', 3.388],\n",
              " ['01/01/2020 14:00:00', 3.699],\n",
              " ['01/01/2020 15:00:00', 3.296],\n",
              " ['01/01/2020 16:00:00', 3.306],\n",
              " ['01/01/2020 17:00:00', 3.463],\n",
              " ['01/01/2020 18:00:00', 3.209],\n",
              " ['01/01/2020 19:00:00', 2.648],\n",
              " ['01/01/2020 20:00:00', 2.105],\n",
              " ['01/01/2020 21:00:00', 1.987],\n",
              " ['01/01/2020 22:00:00', 1.635],\n",
              " ['01/01/2020 23:00:00', 1.67]]"
            ]
          },
          "metadata": {
            "tags": []
          },
          "execution_count": 7
        }
      ]
    },
    {
      "cell_type": "code",
      "metadata": {
        "id": "dJT_JtaBRUsL",
        "colab_type": "code",
        "colab": {
          "base_uri": "https://localhost:8080/",
          "height": 459
        },
        "outputId": "a384fde1-7079-4551-c887-33779163d71d"
      },
      "source": [
        "result_rad_1 = run_sarima(series_radiacao,series_ventovel,24,order_rad,order_rad_sazonal)\n",
        "result_rad_1"
      ],
      "execution_count": null,
      "outputs": [
        {
          "output_type": "stream",
          "text": [
            "/usr/local/lib/python3.6/dist-packages/statsmodels/base/model.py:512: ConvergenceWarning: Maximum Likelihood optimization failed to converge. Check mle_retvals\n",
            "  \"Check mle_retvals\", ConvergenceWarning)\n"
          ],
          "name": "stderr"
        },
        {
          "output_type": "execute_result",
          "data": {
            "text/plain": [
              "[['01/01/2020 00:00:00', 153.958],\n",
              " ['01/01/2020 01:00:00', 330.896],\n",
              " ['01/01/2020 02:00:00', 556.576],\n",
              " ['01/01/2020 03:00:00', 818.358],\n",
              " ['01/01/2020 04:00:00', 885.745],\n",
              " ['01/01/2020 05:00:00', 619.735],\n",
              " ['01/01/2020 06:00:00', 369.475],\n",
              " ['01/01/2020 07:00:00', 99.262],\n",
              " ['01/01/2020 08:00:00', 0],\n",
              " ['01/01/2020 09:00:00', 0],\n",
              " ['01/01/2020 10:00:00', 0],\n",
              " ['01/01/2020 11:00:00', 0],\n",
              " ['01/01/2020 12:00:00', 10.031],\n",
              " ['01/01/2020 13:00:00', 296.097],\n",
              " ['01/01/2020 14:00:00', 577.89],\n",
              " ['01/01/2020 15:00:00', 756.355],\n",
              " ['01/01/2020 16:00:00', 770.973],\n",
              " ['01/01/2020 17:00:00', 608.305],\n",
              " ['01/01/2020 18:00:00', 338.943],\n",
              " ['01/01/2020 19:00:00', 23.762],\n",
              " ['01/01/2020 20:00:00', 0],\n",
              " ['01/01/2020 21:00:00', 0],\n",
              " ['01/01/2020 22:00:00', 0],\n",
              " ['01/01/2020 23:00:00', 0]]"
            ]
          },
          "metadata": {
            "tags": []
          },
          "execution_count": 9
        }
      ]
    },
    {
      "cell_type": "markdown",
      "metadata": {
        "id": "ILi511kRRWfD",
        "colab_type": "text"
      },
      "source": [
        "## Previsão 7 dias a frente "
      ]
    },
    {
      "cell_type": "code",
      "metadata": {
        "id": "GAZwVDpjRYZp",
        "colab_type": "code",
        "colab": {
          "base_uri": "https://localhost:8080/",
          "height": 1000
        },
        "outputId": "305e87df-522e-4a2f-9858-87ad981dd050"
      },
      "source": [
        "result_ven_1 = run_sarima(series_ventovel,series_radiacao,168,order_ven, order_ven_sazonal)\n",
        "result_ven_1"
      ],
      "execution_count": null,
      "outputs": [
        {
          "output_type": "stream",
          "text": [
            "/usr/local/lib/python3.6/dist-packages/statsmodels/base/model.py:512: ConvergenceWarning: Maximum Likelihood optimization failed to converge. Check mle_retvals\n",
            "  \"Check mle_retvals\", ConvergenceWarning)\n"
          ],
          "name": "stderr"
        },
        {
          "output_type": "execute_result",
          "data": {
            "text/plain": [
              "[['01/01/2020 00:00:00', 1.526],\n",
              " ['01/01/2020 01:00:00', 1.75],\n",
              " ['01/01/2020 02:00:00', 1.757],\n",
              " ['01/01/2020 03:00:00', 1.819],\n",
              " ['01/01/2020 04:00:00', 1.689],\n",
              " ['01/01/2020 05:00:00', 1.741],\n",
              " ['01/01/2020 06:00:00', 1.752],\n",
              " ['01/01/2020 07:00:00', 1.713],\n",
              " ['01/01/2020 08:00:00', 1.755],\n",
              " ['01/01/2020 09:00:00', 1.753],\n",
              " ['01/01/2020 10:00:00', 2.131],\n",
              " ['01/01/2020 11:00:00', 2.605],\n",
              " ['01/01/2020 12:00:00', 3.134],\n",
              " ['01/01/2020 13:00:00', 3.042],\n",
              " ['01/01/2020 14:00:00', 3.688],\n",
              " ['01/01/2020 15:00:00', 3.879],\n",
              " ['01/01/2020 16:00:00', 4.112],\n",
              " ['01/01/2020 17:00:00', 3.828],\n",
              " ['01/01/2020 18:00:00', 3.236],\n",
              " ['01/01/2020 19:00:00', 3.107],\n",
              " ['01/01/2020 20:00:00', 2.375],\n",
              " ['01/01/2020 21:00:00', 1.801],\n",
              " ['01/01/2020 22:00:00', 1.633],\n",
              " ['01/01/2020 23:00:00', 1.67],\n",
              " ['02/01/2020 00:00:00', 1.84],\n",
              " ['02/01/2020 01:00:00', 1.768],\n",
              " ['02/01/2020 02:00:00', 1.774],\n",
              " ['02/01/2020 03:00:00', 1.732],\n",
              " ['02/01/2020 04:00:00', 1.685],\n",
              " ['02/01/2020 05:00:00', 1.697],\n",
              " ['02/01/2020 06:00:00', 1.7],\n",
              " ['02/01/2020 07:00:00', 1.704],\n",
              " ['02/01/2020 08:00:00', 1.701],\n",
              " ['02/01/2020 09:00:00', 1.747],\n",
              " ['02/01/2020 10:00:00', 2.045],\n",
              " ['02/01/2020 11:00:00', 2.489],\n",
              " ['02/01/2020 12:00:00', 3.037],\n",
              " ['02/01/2020 13:00:00', 3.431],\n",
              " ['02/01/2020 14:00:00', 3.655],\n",
              " ['02/01/2020 15:00:00', 3.475],\n",
              " ['02/01/2020 16:00:00', 3.282],\n",
              " ['02/01/2020 17:00:00', 3.005],\n",
              " ['02/01/2020 18:00:00', 2.622],\n",
              " ['02/01/2020 19:00:00', 2.879],\n",
              " ['02/01/2020 20:00:00', 2.005],\n",
              " ['02/01/2020 21:00:00', 1.815],\n",
              " ['02/01/2020 22:00:00', 1.695],\n",
              " ['02/01/2020 23:00:00', 1.693],\n",
              " ['03/01/2020 00:00:00', 1.708],\n",
              " ['03/01/2020 01:00:00', 1.694],\n",
              " ['03/01/2020 02:00:00', 1.694],\n",
              " ['03/01/2020 03:00:00', 1.697],\n",
              " ['03/01/2020 04:00:00', 1.705],\n",
              " ['03/01/2020 05:00:00', 1.7],\n",
              " ['03/01/2020 06:00:00', 1.701],\n",
              " ['03/01/2020 07:00:00', 1.699],\n",
              " ['03/01/2020 08:00:00', 1.696],\n",
              " ['03/01/2020 09:00:00', 1.734],\n",
              " ['03/01/2020 10:00:00', 2.039],\n",
              " ['03/01/2020 11:00:00', 2.143],\n",
              " ['03/01/2020 12:00:00', 2.205],\n",
              " ['03/01/2020 13:00:00', 2.748],\n",
              " ['03/01/2020 14:00:00', 3.655],\n",
              " ['03/01/2020 15:00:00', 3.573],\n",
              " ['03/01/2020 16:00:00', 3.788],\n",
              " ['03/01/2020 17:00:00', 3.712],\n",
              " ['03/01/2020 18:00:00', 2.98],\n",
              " ['03/01/2020 19:00:00', 2.949],\n",
              " ['03/01/2020 20:00:00', 2.275],\n",
              " ['03/01/2020 21:00:00', 2.053],\n",
              " ['03/01/2020 22:00:00', 1.713],\n",
              " ['03/01/2020 23:00:00', 1.696],\n",
              " ['04/01/2020 00:00:00', 1.698],\n",
              " ['04/01/2020 01:00:00', 1.695],\n",
              " ['04/01/2020 02:00:00', 1.695],\n",
              " ['04/01/2020 03:00:00', 1.696],\n",
              " ['04/01/2020 04:00:00', 1.697],\n",
              " ['04/01/2020 05:00:00', 1.696],\n",
              " ['04/01/2020 06:00:00', 1.696],\n",
              " ['04/01/2020 07:00:00', 1.696],\n",
              " ['04/01/2020 08:00:00', 1.697],\n",
              " ['04/01/2020 09:00:00', 1.732],\n",
              " ['04/01/2020 10:00:00', 1.983],\n",
              " ['04/01/2020 11:00:00', 2.319],\n",
              " ['04/01/2020 12:00:00', 2.956],\n",
              " ['04/01/2020 13:00:00', 3.417],\n",
              " ['04/01/2020 14:00:00', 3.428],\n",
              " ['04/01/2020 15:00:00', 3.192],\n",
              " ['04/01/2020 16:00:00', 3.746],\n",
              " ['04/01/2020 17:00:00', 2.787],\n",
              " ['04/01/2020 18:00:00', 1.864],\n",
              " ['04/01/2020 19:00:00', 2.42],\n",
              " ['04/01/2020 20:00:00', 2.187],\n",
              " ['04/01/2020 21:00:00', 1.876],\n",
              " ['04/01/2020 22:00:00', 1.725],\n",
              " ['04/01/2020 23:00:00', 1.696],\n",
              " ['05/01/2020 00:00:00', 1.698],\n",
              " ['05/01/2020 01:00:00', 1.698],\n",
              " ['05/01/2020 02:00:00', 1.696],\n",
              " ['05/01/2020 03:00:00', 1.696],\n",
              " ['05/01/2020 04:00:00', 1.696],\n",
              " ['05/01/2020 05:00:00', 1.696],\n",
              " ['05/01/2020 06:00:00', 1.696],\n",
              " ['05/01/2020 07:00:00', 1.696],\n",
              " ['05/01/2020 08:00:00', 1.696],\n",
              " ['05/01/2020 09:00:00', 1.739],\n",
              " ['05/01/2020 10:00:00', 1.967],\n",
              " ['05/01/2020 11:00:00', 2.326],\n",
              " ['05/01/2020 12:00:00', 2.778],\n",
              " ['05/01/2020 13:00:00', 3.348],\n",
              " ['05/01/2020 14:00:00', 3.409],\n",
              " ['05/01/2020 15:00:00', 3.507],\n",
              " ['05/01/2020 16:00:00', 3.644],\n",
              " ['05/01/2020 17:00:00', 2.936],\n",
              " ['05/01/2020 18:00:00', 1.938],\n",
              " ['05/01/2020 19:00:00', 1.931],\n",
              " ['05/01/2020 20:00:00', 1.879],\n",
              " ['05/01/2020 21:00:00', 1.826],\n",
              " ['05/01/2020 22:00:00', 1.728],\n",
              " ['05/01/2020 23:00:00', 1.696],\n",
              " ['06/01/2020 00:00:00', 1.696],\n",
              " ['06/01/2020 01:00:00', 1.696],\n",
              " ['06/01/2020 02:00:00', 1.696],\n",
              " ['06/01/2020 03:00:00', 1.696],\n",
              " ['06/01/2020 04:00:00', 1.696],\n",
              " ['06/01/2020 05:00:00', 1.696],\n",
              " ['06/01/2020 06:00:00', 1.696],\n",
              " ['06/01/2020 07:00:00', 1.696],\n",
              " ['06/01/2020 08:00:00', 1.696],\n",
              " ['06/01/2020 09:00:00', 1.734],\n",
              " ['06/01/2020 10:00:00', 2.08],\n",
              " ['06/01/2020 11:00:00', 2.187],\n",
              " ['06/01/2020 12:00:00', 2.368],\n",
              " ['06/01/2020 13:00:00', 3.336],\n",
              " ['06/01/2020 14:00:00', 3.548],\n",
              " ['06/01/2020 15:00:00', 2.984],\n",
              " ['06/01/2020 16:00:00', 3.683],\n",
              " ['06/01/2020 17:00:00', 3.543],\n",
              " ['06/01/2020 18:00:00', 3.268],\n",
              " ['06/01/2020 19:00:00', 2.632],\n",
              " ['06/01/2020 20:00:00', 2.444],\n",
              " ['06/01/2020 21:00:00', 1.868],\n",
              " ['06/01/2020 22:00:00', 1.708],\n",
              " ['06/01/2020 23:00:00', 1.696],\n",
              " ['07/01/2020 00:00:00', 1.696],\n",
              " ['07/01/2020 01:00:00', 1.696],\n",
              " ['07/01/2020 02:00:00', 1.696],\n",
              " ['07/01/2020 03:00:00', 1.696],\n",
              " ['07/01/2020 04:00:00', 1.696],\n",
              " ['07/01/2020 05:00:00', 1.696],\n",
              " ['07/01/2020 06:00:00', 1.696],\n",
              " ['07/01/2020 07:00:00', 1.696],\n",
              " ['07/01/2020 08:00:00', 1.696],\n",
              " ['07/01/2020 09:00:00', 1.729],\n",
              " ['07/01/2020 10:00:00', 2.08],\n",
              " ['07/01/2020 11:00:00', 2.58],\n",
              " ['07/01/2020 12:00:00', 3.06],\n",
              " ['07/01/2020 13:00:00', 3.464],\n",
              " ['07/01/2020 14:00:00', 3.759],\n",
              " ['07/01/2020 15:00:00', 3.364],\n",
              " ['07/01/2020 16:00:00', 3.263],\n",
              " ['07/01/2020 17:00:00', 3.61],\n",
              " ['07/01/2020 18:00:00', 3.375],\n",
              " ['07/01/2020 19:00:00', 2.704],\n",
              " ['07/01/2020 20:00:00', 2.029],\n",
              " ['07/01/2020 21:00:00', 2.074],\n",
              " ['07/01/2020 22:00:00', 1.721],\n",
              " ['07/01/2020 23:00:00', 1.696]]"
            ]
          },
          "metadata": {
            "tags": []
          },
          "execution_count": 8
        }
      ]
    },
    {
      "cell_type": "code",
      "metadata": {
        "id": "oo-dZ3WtRcUz",
        "colab_type": "code",
        "colab": {}
      },
      "source": [
        "result_rad_1 = run_sarima(series_radiacao,series_ventovel,168,order_rad,order_rad_sazonal)\n",
        "result_rad_1"
      ],
      "execution_count": null,
      "outputs": []
    }
  ]
}